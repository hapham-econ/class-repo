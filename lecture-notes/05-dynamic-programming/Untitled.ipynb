{
 "cells": [
  {
   "cell_type": "markdown",
   "id": "a91f4f8f",
   "metadata": {},
   "source": [
    "Write a series of functions to estimate the value function using approximation. The idea here is to guess some coefficients (for the basis functions) and in each iteration the model will imply another set of coefficients and you do that until everything converges. \n"
   ]
  },
  {
   "cell_type": "markdown",
   "id": "9cb08121",
   "metadata": {},
   "source": [
    "# Step 1: Specify the initial guess and the interval of capital that we are trying to maximize on "
   ]
  },
  {
   "cell_type": "code",
   "execution_count": 7,
   "id": "15636f4c",
   "metadata": {},
   "outputs": [
    {
     "data": {
      "text/plain": [
       "(alpha = 0.75, beta = 0.95, eta = 2, steady_state = 0.25771486816406236, k_0 = 0.12885743408203118, capital_upper = 0.26029201684570297, capital_lower = 0.12885743408203118, num_points = 7, tolerance = 0.0001)"
      ]
     },
     "execution_count": 7,
     "metadata": {},
     "output_type": "execute_result"
    }
   ],
   "source": [
    " using LinearAlgebra\n",
    " using Optim\n",
    " using Plots\n",
    " params = (alpha = 0.75, # capital share\n",
    "           beta = 0.95, # discount\n",
    "           eta = 2, # EMUC\n",
    "           steady_state = (0.75*0.95)^(1/(1 - 0.75)),\n",
    "           k_0 = (0.75*0.95)^(1/(1 - 0.75))/2, # initial state\n",
    "           capital_upper = (0.75*0.95)^(1/(1 - 0.75))*1.01, # upper bound\n",
    "           capital_lower = (0.75*0.95)^(1/(1 - 0.75))/2, # lower bound\n",
    "           num_points = 7, # number of grid points\n",
    "           tolerance = 0.0001)"
   ]
  },
  {
   "cell_type": "markdown",
   "id": "ee77fc46",
   "metadata": {},
   "source": [
    "# Step 2: Make the guess of the betas (coefficients on the basis functions)"
   ]
  },
  {
   "cell_type": "code",
   "execution_count": 8,
   "id": "e5e25106",
   "metadata": {},
   "outputs": [
    {
     "data": {
      "text/plain": [
       "7-element Vector{Float64}:\n",
       " 0.0\n",
       " 0.0\n",
       " 0.0\n",
       " 0.0\n",
       " 0.0\n",
       " 0.0\n",
       " 0.0"
      ]
     },
     "execution_count": 8,
     "metadata": {},
     "output_type": "execute_result"
    }
   ],
   "source": [
    " coefficients = zeros(params.num_points) # # coeffs = # grid points in collocation"
   ]
  },
  {
   "cell_type": "markdown",
   "id": "8d1b445a",
   "metadata": {},
   "source": [
    "# Step 3: Select the convergence rule:\n",
    "\n",
    "Max change in value on the grid is < 0.0001%"
   ]
  },
  {
   "cell_type": "markdown",
   "id": "342c399b",
   "metadata": {},
   "source": [
    "# Step 4: Construct grid points"
   ]
  },
  {
   "cell_type": "code",
   "execution_count": 10,
   "id": "7c9a1ac6",
   "metadata": {},
   "outputs": [],
   "source": [
    "function cheb_polys(x, n)\n",
    "     if n == 0\n",
    "         return x ./ x               # T_0(x) = 1\n",
    "     elseif n == 1\n",
    "         return x                    # T_1(x) = x\n",
    "     else\n",
    "         cheb_recursion(x, n) =\n",
    "             2x .* cheb_polys.(x, n-1) .- cheb_polys.(x, n-2)\n",
    "         return cheb_recursion(x, n) # T_n(x) = 2xT_{n-1}(x) - T_{n-2}(x)\n",
    "     end\n",
    " end;"
   ]
  },
  {
   "cell_type": "code",
   "execution_count": 11,
   "id": "c2e084d0",
   "metadata": {},
   "outputs": [
    {
     "data": {
      "text/plain": [
       "7-element Vector{Float64}:\n",
       "  0.9749279121818236\n",
       "  0.7818314824680298\n",
       "  0.4338837391175582\n",
       "  6.123233995736766e-17\n",
       " -0.43388373911755806\n",
       " -0.7818314824680297\n",
       " -0.9749279121818236"
      ]
     },
     "execution_count": 11,
     "metadata": {},
     "output_type": "execute_result"
    }
   ],
   "source": [
    "cheb_nodes(n) = cos.(pi * (2*(1:n) .- 1)./(2n));\n",
    "grid = cheb_nodes(params.num_points) # [-1, 1] grid with n points"
   ]
  },
  {
   "cell_type": "markdown",
   "id": "c55d8f93",
   "metadata": {},
   "source": [
    "Need to \"scale\" the grid from [-1,1] to be the interval that we have and \"descale\""
   ]
  },
  {
   "cell_type": "code",
   "execution_count": 12,
   "id": "c7123a38",
   "metadata": {},
   "outputs": [
    {
     "data": {
      "text/plain": [
       "7-element Vector{Float64}:\n",
       " 0.2586443471450049\n",
       " 0.2459545728087113\n",
       " 0.2230883895732961\n",
       " 0.19457472546386706\n",
       " 0.16606106135443804\n",
       " 0.14319487811902284\n",
       " 0.13050510378272925"
      ]
     },
     "execution_count": 12,
     "metadata": {},
     "output_type": "execute_result"
    }
   ],
   "source": [
    "expand_grid(grid, params) = # function that expands [-1,1] to [a,b]\n",
    "(1 .+ grid)*(params.capital_upper - params.capital_lower)/2 .+ params.capital_lower\n",
    "capital_grid = expand_grid(grid, params)"
   ]
  },
  {
   "cell_type": "code",
   "execution_count": 13,
   "id": "f476e577",
   "metadata": {
    "scrolled": true
   },
   "outputs": [
    {
     "data": {
      "text/plain": [
       "7-element Vector{Float64}:\n",
       "  0.9749279121818237\n",
       "  0.7818314824680297\n",
       "  0.43388373911755806\n",
       " -2.220446049250313e-16\n",
       " -0.43388373911755806\n",
       " -0.7818314824680297\n",
       " -0.9749279121818236"
      ]
     },
     "execution_count": 13,
     "metadata": {},
     "output_type": "execute_result"
    }
   ],
   "source": [
    " shrink_grid(capital) = \n",
    "   2*(capital - params.capital_lower)/(params.capital_upper - params.capital_lower) - 1;\n",
    " shrink_grid.(capital_grid)"
   ]
  },
  {
   "cell_type": "markdown",
   "id": "1125ee6a",
   "metadata": {},
   "source": [
    "For each grid point, evaluate the n degree chebyshev polynomials."
   ]
  },
  {
   "cell_type": "code",
   "execution_count": 14,
   "id": "3d94bc40",
   "metadata": {},
   "outputs": [
    {
     "data": {
      "text/plain": [
       "7×7 Matrix{Float64}:\n",
       " 0.142857    0.142857    0.142857   …   0.142857    0.142857    0.142857\n",
       " 0.278551    0.22338     0.123967      -0.123967   -0.22338    -0.278551\n",
       " 0.25742     0.0635774  -0.17814       -0.17814     0.0635774   0.25742\n",
       " 0.22338    -0.123967   -0.278551       0.278551    0.123967   -0.22338\n",
       " 0.17814    -0.25742    -0.0635774     -0.0635774  -0.25742     0.17814\n",
       " 0.123967   -0.278551    0.22338    …  -0.22338     0.278551   -0.123967\n",
       " 0.0635774  -0.17814     0.25742        0.25742    -0.17814     0.0635774"
      ]
     },
     "execution_count": 14,
     "metadata": {},
     "output_type": "execute_result"
    }
   ],
   "source": [
    " construct_basis_matrix(grid, params) = hcat([cheb_polys.(shrink_grid.(grid), n) for n = 0:params.num_points - 1]...);\n",
    " basis_matrix = construct_basis_matrix(capital_grid, params)\n",
    " basis_inverse = basis_matrix \\ I # pre-invert\n"
   ]
  },
  {
   "cell_type": "markdown",
   "id": "6efc903b",
   "metadata": {},
   "source": [
    "After having the basis matrix, multiply it by the coefficients to get the value functions at every grid point"
   ]
  },
  {
   "cell_type": "code",
   "execution_count": 15,
   "id": "b2639bd5",
   "metadata": {},
   "outputs": [
    {
     "data": {
      "text/plain": [
       "7-element Vector{Float64}:\n",
       "     9.26624982788923e7\n",
       "     1.6940689772371337e7\n",
       " 77224.00563563094\n",
       " 15354.384388936067\n",
       "     2.287632997495987e7\n",
       "     3.3075659788769543e8\n",
       "     9.839582890300741e8"
      ]
     },
     "execution_count": 15,
     "metadata": {},
     "output_type": "execute_result"
    }
   ],
   "source": [
    " eval_value_function(coefficients, grid, params) = construct_basis_matrix(grid, params) * coefficients;\n",
    "eval_value_function([1,1,1,1,1,1,1], grid, params)"
   ]
  },
  {
   "cell_type": "code",
   "execution_count": 16,
   "id": "04ec4340",
   "metadata": {},
   "outputs": [
    {
     "data": {
      "text/plain": [
       "7-element Vector{Float64}:\n",
       "  0.9749279121818236\n",
       "  0.7818314824680298\n",
       "  0.4338837391175582\n",
       "  6.123233995736766e-17\n",
       " -0.43388373911755806\n",
       " -0.7818314824680297\n",
       " -0.9749279121818236"
      ]
     },
     "execution_count": 16,
     "metadata": {},
     "output_type": "execute_result"
    }
   ],
   "source": [
    "grid"
   ]
  },
  {
   "cell_type": "code",
   "execution_count": 17,
   "id": "eb463cc6",
   "metadata": {},
   "outputs": [
    {
     "data": {
      "text/plain": [
       "loop_grid (generic function with 1 method)"
      ]
     },
     "execution_count": 17,
     "metadata": {},
     "output_type": "execute_result"
    }
   ],
   "source": [
    "function loop_grid(params, capital_grid, coefficients)\n",
    "     max_value = similar(coefficients); # initialized max value vector\n",
    "     # Inner loop over grid points\n",
    "     for (iteration, capital) in enumerate(capital_grid)\n",
    "         # Define Bellman as a closure\n",
    "         function bellman(consumption)\n",
    "             capital_next = capital^params.alpha - consumption # Next period state\n",
    "             cont_value = eval_value_function(coefficients, capital_next, params)[1] # Continuation value\n",
    "             value_out = (consumption)^(1-params.eta)/(1-params.eta) + params.beta*cont_value # Utility + continuation value\n",
    "             return -value_out\n",
    "         end;\n",
    "         results = optimize(bellman, 0.00*capital^params.alpha, 0.99*capital^params.alpha) # maximize Bellman\n",
    "         max_value[iteration] = -Optim.minimum(results) # Store max value in vector\n",
    "     end\n",
    "     return max_value\n",
    " end\n"
   ]
  },
  {
   "cell_type": "code",
   "execution_count": 18,
   "id": "128d0309",
   "metadata": {},
   "outputs": [
    {
     "data": {
      "text/plain": [
       "solve_vfi (generic function with 1 method)"
      ]
     },
     "execution_count": 18,
     "metadata": {},
     "output_type": "execute_result"
    }
   ],
   "source": [
    "function solve_vfi(params, basis_inverse, capital_grid, coefficients)\n",
    "     iteration = 1\n",
    "     error = 1e10;\n",
    "     max_value = similar(coefficients);\n",
    "     value_prev = .1*ones(params.num_points);\n",
    "     coefficients_store = Vector{Vector}(undef, 1)\n",
    "     coefficients_store[1] = coefficients\n",
    "     while error > params.tolerance # Outer loop iterating on Bellman eq\n",
    "         max_value = loop_grid(params, capital_grid, coefficients) # Inner loop\n",
    "         coefficients = basis_inverse*max_value # \\Psi \\ y, recover coefficients\n",
    "         error = maximum(abs.((max_value - value_prev)./(value_prev))) # compute error\n",
    "         value_prev = deepcopy(max_value) # save previous values\n",
    "         if mod(iteration, 5) == 0\n",
    "             println(\"Maximum Error of $(error) on iteration $(iteration).\")\n",
    "             append!(coefficients_store, [coefficients])\n",
    "         end\n",
    "         iteration += 1\n",
    "     end\n",
    "     return coefficients, max_value, coefficients_store\n",
    " end"
   ]
  },
  {
   "cell_type": "code",
   "execution_count": 19,
   "id": "550f8ba8",
   "metadata": {},
   "outputs": [
    {
     "name": "stdout",
     "output_type": "stream",
     "text": [
      "Maximum Error of 0.330191988422609 on iteration 5.\n",
      "Maximum Error of 0.1080139919745117 on iteration 10.\n",
      "Maximum Error of 0.056479178550114986 on iteration 15.\n",
      "Maximum Error of 0.03483338924508334 on iteration 20.\n",
      "Maximum Error of 0.023286433761111964 on iteration 25.\n",
      "Maximum Error of 0.01630154309258161 on iteration 30.\n",
      "Maximum Error of 0.01174748047041362 on iteration 35.\n",
      "Maximum Error of 0.008631245645920499 on iteration 40.\n",
      "Maximum Error of 0.006427690604126993 on iteration 45.\n",
      "Maximum Error of 0.00483307368424568 on iteration 50.\n",
      "Maximum Error of 0.0036597148900624076 on iteration 55.\n",
      "Maximum Error of 0.0027856923769764997 on iteration 60.\n",
      "Maximum Error of 0.002128686710212966 on iteration 65.\n",
      "Maximum Error of 0.0016314249677368766 on iteration 70.\n",
      "Maximum Error of 0.00125311605713912 on iteration 75.\n",
      "Maximum Error of 0.0009641708791271023 on iteration 80.\n",
      "Maximum Error of 0.0007428166750767919 on iteration 85.\n",
      "Maximum Error of 0.0005728521498806165 on iteration 90.\n",
      "Maximum Error of 0.00044211619616287045 on iteration 95.\n",
      "Maximum Error of 0.0003414181452772861 on iteration 100.\n",
      "Maximum Error of 0.0002637753971323734 on iteration 105.\n",
      "Maximum Error of 0.00020386108209630174 on iteration 110.\n",
      "Maximum Error of 0.00015759845903293805 on iteration 115.\n",
      "Maximum Error of 0.00012185979301915719 on iteration 120.\n"
     ]
    },
    {
     "data": {
      "text/plain": [
       "([-200.6291758538632, 9.991472391067632, -1.2278992641150808, 0.1737946046008787, -0.02621191019446396, 0.003954006913225118, -0.0007409750421140403], [-191.87342361439306, -193.14594489252323, -195.68963652528424, -199.42674752490046, -204.0272196380861, -208.61071718644214, -211.63054159541304], Vector[[0.0, 0.0, 0.0, 0.0, 0.0, 0.0, 0.0], [-36.85894901060744, 6.259861237095086, -0.8221318972861216, 0.11882022830524086, -0.01784945487786284, 0.002692033153908532, -0.00037520235133792955], [-74.87645132736961, 8.931829874526969, -1.123822713129858, 0.16080476492852824, -0.02429279880713139, 0.0039027323348115577, -0.0006447123917356167], [-103.80959945589589, 9.689013116843583, -1.1994026067805663, 0.170560955466307, -0.025548140549795404, 0.003969430583560096, -0.0007161344250570962], [-125.92003087539777, 9.90440331937696, -1.219552059022952, 0.17300404781583012, -0.02601005829928537, 0.003959590376937803, -0.0007341995822632486], [-142.9397465762615, 9.966570886453816, -1.2253830534940846, 0.17357716260515588, -0.026153854935855994, 0.003955453304693036, -0.000739128360386951], [-156.08276002781147, 9.984453747414541, -1.2271575579534826, 0.1737309439806367, -0.026195277719919165, 0.003954320282237307, -0.0007404618311096712], [-166.24486078281976, 9.989518053393915, -1.227687205089481, 0.17377614420424692, -0.026207193540560038, 0.003954072102059497, -0.0007408314670063186], [-174.10590746285376, 9.990932110798006, -1.2278398648722586, 0.17378937493049307, -0.026210590152326792, 0.0039540212877217755, -0.0007409350663734283], [-180.18802216175308, 9.991323564318677, -1.227882803999485, 0.17379314659914513, -0.026211544200971475, 0.003954010369677398, -0.0007409639788020136]  …  [-196.5257625453275, 9.991472327014534, -1.2278992569992369, 0.17379460396756485, -0.026211910036087322, 0.003954006914546373, -0.0007409750373555204], [-197.53584414896326, 9.991472373473705, -1.227899262160463, 0.17379460442695915, -0.026211910150943506, 0.003954006913615964, -0.0007409750408084747], [-198.31742601900206, 9.991472386235138, -1.2278992635782302, 0.17379460455314444, -0.026211910182500752, 0.003954006913318105, -0.0007409750417707197], [-198.92219916559225, 9.991472389740423, -1.2278992639676432, 0.1737946045878047, -0.02621191019113708, 0.003954006913271178, -0.0007409750420335827], [-199.39016109641352, 9.991472390703251, -1.2278992640745656, 0.1737946045973331, -0.026211910193572368, 0.003954006913215567, -0.0007409750421154422], [-199.7522611175406, 9.991472390967743, -1.227899264103975, 0.17379460459991236, -0.026211910194205167, 0.003954006913241517, -0.00074097504211334], [-200.03244721124216, 9.991472391040396, -1.2278992641121178, 0.17379460460064422, -0.02621191019436291, 0.003954006913214815, -0.000740975042124477], [-200.2492498694695, 9.991472391060313, -1.227899264114292, 0.17379460460082896, -0.02621191019442454, 0.003954006913219715, -0.0007409750421302907], [-200.41700763359654, 9.991472391065749, -1.227899264114889, 0.17379460460091423, -0.026211910194428655, 0.003954006913215756, -0.0007409750421456293], [-200.5468153935933, 9.991472391067262, -1.2278992641150523, 0.17379460460090712, -0.026211910194450603, 0.00395400691320304, -0.0007409750421563602]])"
      ]
     },
     "execution_count": 19,
     "metadata": {},
     "output_type": "execute_result"
    }
   ],
   "source": [
    " solution_coeffs, max_value, intermediate_coefficients =\n",
    "     solve_vfi(params, basis_inverse, capital_grid, coefficients)"
   ]
  },
  {
   "cell_type": "markdown",
   "id": "61b3ad26",
   "metadata": {},
   "source": [
    "# FIXED POINT ITERATION"
   ]
  },
  {
   "cell_type": "markdown",
   "id": "406787e6",
   "metadata": {},
   "source": [
    "All the steps are very similar to VFI, the only difference is when we run the inner loop, replace maximization of the bellman equation with the euler equation"
   ]
  },
  {
   "cell_type": "code",
   "execution_count": 20,
   "id": "d050e63b",
   "metadata": {},
   "outputs": [
    {
     "data": {
      "text/plain": [
       "eval_policy_function (generic function with 1 method)"
      ]
     },
     "execution_count": 20,
     "metadata": {},
     "output_type": "execute_result"
    }
   ],
   "source": [
    " eval_policy_function(coefficients, capital, params_fpi) = \n",
    "     construct_basis_matrix(capital, params_fpi) * coefficients"
   ]
  },
  {
   "cell_type": "code",
   "execution_count": 21,
   "id": "651873d7",
   "metadata": {},
   "outputs": [
    {
     "data": {
      "text/plain": [
       "cons_euler (generic function with 1 method)"
      ]
     },
     "execution_count": 21,
     "metadata": {},
     "output_type": "execute_result"
    }
   ],
   "source": [
    "function cons_euler(params, capital, coeffs)\n",
    "    # get the arguments of the equations\n",
    "    consumption = eval_policy_function(coeffs, capital, params)\n",
    "    capital_next = capital^params.alpha - consumption\n",
    "    consumption_next = eval_policy_function(coeffs, capital_next, params)\n",
    "    \n",
    "    # plug in\n",
    "    f_prime = params.alpha * capital_next^(params.alpha - 1)\n",
    "    u_prime = consumption^(-params.eta)\n",
    "    result = (params.beta*u_prime*f_prime)^(-1/eta)\n",
    "    return result\n",
    "end"
   ]
  },
  {
   "cell_type": "code",
   "execution_count": null,
   "id": "e52e586f",
   "metadata": {},
   "outputs": [],
   "source": []
  }
 ],
 "metadata": {
  "kernelspec": {
   "display_name": "Julia 1.8.5",
   "language": "julia",
   "name": "julia-1.8"
  },
  "language_info": {
   "file_extension": ".jl",
   "mimetype": "application/julia",
   "name": "julia",
   "version": "1.8.5"
  },
  "varInspector": {
   "cols": {
    "lenName": 16,
    "lenType": 16,
    "lenVar": 40
   },
   "kernels_config": {
    "python": {
     "delete_cmd_postfix": "",
     "delete_cmd_prefix": "del ",
     "library": "var_list.py",
     "varRefreshCmd": "print(var_dic_list())"
    },
    "r": {
     "delete_cmd_postfix": ") ",
     "delete_cmd_prefix": "rm(",
     "library": "var_list.r",
     "varRefreshCmd": "cat(var_dic_list()) "
    }
   },
   "types_to_exclude": [
    "module",
    "function",
    "builtin_function_or_method",
    "instance",
    "_Feature"
   ],
   "window_display": false
  }
 },
 "nbformat": 4,
 "nbformat_minor": 5
}
