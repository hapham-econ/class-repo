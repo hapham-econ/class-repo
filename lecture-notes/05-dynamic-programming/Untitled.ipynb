{
 "cells": [
  {
   "cell_type": "markdown",
   "id": "a91f4f8f",
   "metadata": {},
   "source": [
    "Write a series of functions to estimate the value function using approximation. The idea here is to guess some coefficients (for the basis functions) and in each iteration the model will imply another set of coefficients and you do that until everything converges. \n"
   ]
  },
  {
   "cell_type": "markdown",
   "id": "9cb08121",
   "metadata": {},
   "source": [
    "# Step 1: Specify the initial guess and the interval of capital that we are trying to maximize on "
   ]
  },
  {
   "cell_type": "code",
   "execution_count": 5,
   "id": "15636f4c",
   "metadata": {},
   "outputs": [
    {
     "data": {
      "text/plain": [
       "(alpha = 0.75, beta = 0.95, eta = 2, steady_state = 0.25771486816406236, k_0 = 0.12885743408203118, capital_upper = 0.26029201684570297, capital_lower = 0.12885743408203118, num_points = 7, tolerance = 0.0001)"
      ]
     },
     "execution_count": 5,
     "metadata": {},
     "output_type": "execute_result"
    }
   ],
   "source": [
    " using LinearAlgebra\n",
    " using Optim\n",
    " using Plots\n",
    " params = (alpha = 0.75, # capital share\n",
    "           beta = 0.95, # discount\n",
    "           eta = 2, # EMUC\n",
    "           steady_state = (0.75*0.95)^(1/(1 - 0.75)),\n",
    "           k_0 = (0.75*0.95)^(1/(1 - 0.75))/2, # initial state\n",
    "           capital_upper = (0.75*0.95)^(1/(1 - 0.75))*1.01, # upper bound\n",
    "           capital_lower = (0.75*0.95)^(1/(1 - 0.75))/2, # lower bound\n",
    "           num_points = 7, # number of grid points\n",
    "           tolerance = 0.0001)"
   ]
  },
  {
   "cell_type": "markdown",
   "id": "ee77fc46",
   "metadata": {},
   "source": [
    "# Step 2: Make the guess of the betas (coefficients on the basis functions)"
   ]
  },
  {
   "cell_type": "code",
   "execution_count": 6,
   "id": "e5e25106",
   "metadata": {},
   "outputs": [
    {
     "data": {
      "text/plain": [
       "7-element Vector{Float64}:\n",
       " 0.0\n",
       " 0.0\n",
       " 0.0\n",
       " 0.0\n",
       " 0.0\n",
       " 0.0\n",
       " 0.0"
      ]
     },
     "execution_count": 6,
     "metadata": {},
     "output_type": "execute_result"
    }
   ],
   "source": [
    " coefficients = zeros(params.num_points) # # coeffs = # grid points in collocation"
   ]
  },
  {
   "cell_type": "markdown",
   "id": "8d1b445a",
   "metadata": {},
   "source": [
    "# Step 3: Select the convergence rule:\n",
    "\n",
    "Max change in value on the grid is < 0.0001%"
   ]
  },
  {
   "cell_type": "markdown",
   "id": "342c399b",
   "metadata": {},
   "source": [
    "# Step 4: Construct grid points"
   ]
  },
  {
   "cell_type": "code",
   "execution_count": null,
   "id": "7c9a1ac6",
   "metadata": {},
   "outputs": [],
   "source": [
    "function cheb_polys(x, n)\n",
    "     if n == 0\n",
    "         return x ./ x               # T_0(x) = 1\n",
    "     elseif n == 1\n",
    "         return x                    # T_1(x) = x\n",
    "     else\n",
    "         cheb_recursion(x, n) =\n",
    "             2x .* cheb_polys.(x, n-1) .- cheb_polys.(x, n-2)\n",
    "         return cheb_recursion(x, n) # T_n(x) = 2xT_{n-1}(x) - T_{n-2}(x)\n",
    "     end\n",
    " end;"
   ]
  },
  {
   "cell_type": "code",
   "execution_count": 7,
   "id": "c2e084d0",
   "metadata": {},
   "outputs": [
    {
     "data": {
      "text/plain": [
       "7-element Vector{Float64}:\n",
       "  0.9749279121818236\n",
       "  0.7818314824680298\n",
       "  0.4338837391175582\n",
       "  6.123233995736766e-17\n",
       " -0.43388373911755806\n",
       " -0.7818314824680297\n",
       " -0.9749279121818236"
      ]
     },
     "execution_count": 7,
     "metadata": {},
     "output_type": "execute_result"
    }
   ],
   "source": [
    "cheb_nodes(n) = cos.(pi * (2*(1:n) .- 1)./(2n));\n",
    "grid = cheb_nodes(params.num_points) # [-1, 1] grid with n points"
   ]
  },
  {
   "cell_type": "markdown",
   "id": "c55d8f93",
   "metadata": {},
   "source": [
    "Need to \"scale\" the grid from [-1,1] to be the interval that we have and \"descale\""
   ]
  },
  {
   "cell_type": "code",
   "execution_count": 8,
   "id": "c7123a38",
   "metadata": {},
   "outputs": [
    {
     "data": {
      "text/plain": [
       "7-element Vector{Float64}:\n",
       " 0.2586443471450049\n",
       " 0.2459545728087113\n",
       " 0.2230883895732961\n",
       " 0.19457472546386706\n",
       " 0.16606106135443804\n",
       " 0.14319487811902284\n",
       " 0.13050510378272925"
      ]
     },
     "execution_count": 8,
     "metadata": {},
     "output_type": "execute_result"
    }
   ],
   "source": [
    "expand_grid(grid, params) = # function that expands [-1,1] to [a,b]\n",
    "(1 .+ grid)*(params.capital_upper - params.capital_lower)/2 .+ params.capital_lower\n",
    "capital_grid = expand_grid(grid, params)"
   ]
  },
  {
   "cell_type": "code",
   "execution_count": 9,
   "id": "f476e577",
   "metadata": {
    "scrolled": true
   },
   "outputs": [
    {
     "data": {
      "text/plain": [
       "7-element Vector{Float64}:\n",
       "  0.9749279121818237\n",
       "  0.7818314824680297\n",
       "  0.43388373911755806\n",
       " -2.220446049250313e-16\n",
       " -0.43388373911755806\n",
       " -0.7818314824680297\n",
       " -0.9749279121818236"
      ]
     },
     "execution_count": 9,
     "metadata": {},
     "output_type": "execute_result"
    }
   ],
   "source": [
    " shrink_grid(capital) = \n",
    "   2*(capital - params.capital_lower)/(params.capital_upper - params.capital_lower) - 1;\n",
    " shrink_grid.(capital_grid)"
   ]
  },
  {
   "cell_type": "markdown",
   "id": "1125ee6a",
   "metadata": {},
   "source": [
    "For each grid point, evaluate the n degree chebyshev polynomials."
   ]
  },
  {
   "cell_type": "code",
   "execution_count": 11,
   "id": "3d94bc40",
   "metadata": {},
   "outputs": [
    {
     "data": {
      "text/plain": [
       "7×7 Matrix{Float64}:\n",
       " 0.142857    0.142857    0.142857   …   0.142857    0.142857    0.142857\n",
       " 0.278551    0.22338     0.123967      -0.123967   -0.22338    -0.278551\n",
       " 0.25742     0.0635774  -0.17814       -0.17814     0.0635774   0.25742\n",
       " 0.22338    -0.123967   -0.278551       0.278551    0.123967   -0.22338\n",
       " 0.17814    -0.25742    -0.0635774     -0.0635774  -0.25742     0.17814\n",
       " 0.123967   -0.278551    0.22338    …  -0.22338     0.278551   -0.123967\n",
       " 0.0635774  -0.17814     0.25742        0.25742    -0.17814     0.0635774"
      ]
     },
     "execution_count": 11,
     "metadata": {},
     "output_type": "execute_result"
    }
   ],
   "source": [
    " construct_basis_matrix(grid, params) = hcat([cheb_polys.(shrink_grid.(grid), n) for n = 0:params.num_points - 1]...);\n",
    " basis_matrix = construct_basis_matrix(capital_grid, params)\n",
    " basis_inverse = basis_matrix \\ I # pre-invert\n"
   ]
  },
  {
   "cell_type": "markdown",
   "id": "6efc903b",
   "metadata": {},
   "source": [
    "After having the basis matrix, multiply it by the coefficients to get the value functions at every grid point"
   ]
  },
  {
   "cell_type": "code",
   "execution_count": 13,
   "id": "b2639bd5",
   "metadata": {},
   "outputs": [
    {
     "data": {
      "text/plain": [
       "7-element Vector{Float64}:\n",
       "     9.26624982788923e7\n",
       "     1.6940689772371337e7\n",
       " 77224.00563563094\n",
       " 15354.384388936067\n",
       "     2.287632997495987e7\n",
       "     3.3075659788769543e8\n",
       "     9.839582890300741e8"
      ]
     },
     "execution_count": 13,
     "metadata": {},
     "output_type": "execute_result"
    }
   ],
   "source": [
    " eval_value_function(coefficients, grid, params) = construct_basis_matrix(grid, params) * coefficients;\n",
    "eval_value_function([1,1,1,1,1,1,1], grid, params)"
   ]
  },
  {
   "cell_type": "code",
   "execution_count": 16,
   "id": "04ec4340",
   "metadata": {},
   "outputs": [
    {
     "data": {
      "text/plain": [
       "7-element Vector{Float64}:\n",
       "  0.9749279121818236\n",
       "  0.7818314824680298\n",
       "  0.4338837391175582\n",
       "  6.123233995736766e-17\n",
       " -0.43388373911755806\n",
       " -0.7818314824680297\n",
       " -0.9749279121818236"
      ]
     },
     "execution_count": 16,
     "metadata": {},
     "output_type": "execute_result"
    }
   ],
   "source": [
    "grid"
   ]
  },
  {
   "cell_type": "code",
   "execution_count": 19,
   "id": "eb463cc6",
   "metadata": {},
   "outputs": [
    {
     "name": "stdout",
     "output_type": "stream",
     "text": [
      "1 + 0.9749279121818236\n",
      "2 + 0.7818314824680298\n",
      "3 + 0.4338837391175582\n",
      "4 + 6.123233995736766e-17\n",
      "5 + -0.43388373911755806\n",
      "6 + -0.7818314824680297\n",
      "7 + -0.9749279121818236\n"
     ]
    }
   ],
   "source": [
    "for (iteration, capital) in enumerate(grid)\n",
    "    println(\"$iteration + $capital\")\n",
    "end\n"
   ]
  },
  {
   "cell_type": "code",
   "execution_count": null,
   "id": "128d0309",
   "metadata": {},
   "outputs": [],
   "source": []
  }
 ],
 "metadata": {
  "kernelspec": {
   "display_name": "Julia 1.8.5",
   "language": "julia",
   "name": "julia-1.8"
  },
  "language_info": {
   "file_extension": ".jl",
   "mimetype": "application/julia",
   "name": "julia",
   "version": "1.8.5"
  },
  "varInspector": {
   "cols": {
    "lenName": 16,
    "lenType": 16,
    "lenVar": 40
   },
   "kernels_config": {
    "python": {
     "delete_cmd_postfix": "",
     "delete_cmd_prefix": "del ",
     "library": "var_list.py",
     "varRefreshCmd": "print(var_dic_list())"
    },
    "r": {
     "delete_cmd_postfix": ") ",
     "delete_cmd_prefix": "rm(",
     "library": "var_list.r",
     "varRefreshCmd": "cat(var_dic_list()) "
    }
   },
   "types_to_exclude": [
    "module",
    "function",
    "builtin_function_or_method",
    "instance",
    "_Feature"
   ],
   "window_display": false
  }
 },
 "nbformat": 4,
 "nbformat_minor": 5
}
