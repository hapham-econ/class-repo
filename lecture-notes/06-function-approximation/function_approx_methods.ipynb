{
 "cells": [
  {
   "cell_type": "code",
   "execution_count": 20,
   "id": "dd7a0d7e",
   "metadata": {},
   "outputs": [
    {
     "data": {
      "text/plain": [
       "project_monomial (generic function with 1 method)"
      ]
     },
     "execution_count": 20,
     "metadata": {},
     "output_type": "execute_result"
    }
   ],
   "source": [
    "function project_monomial(f, n, lb, ub)\n",
    "    # step 1: make the grid\n",
    "    x = collect(range(lb, ub, n))\n",
    "        \n",
    "    # step 2: evaluate the function at the grid\n",
    "    y = f.(x)\n",
    "    \n",
    "    # step 3: basis function at the grid\n",
    "    ϕ = zeros(n,1)\n",
    "    for col in 1:n\n",
    "        f_col(x) = x^(col-1)\n",
    "        col_output = f_col.(x)\n",
    "        ϕ = hcat(ϕ, col_output)\n",
    "    end\n",
    "    ϕ = ϕ[:, 1:end .!= 1]\n",
    "    \n",
    "    # step 4: get c\n",
    "    c = ϕ \\ y\n",
    "    \n",
    "    return c\n",
    "end"
   ]
  },
  {
   "cell_type": "code",
   "execution_count": 24,
   "id": "bda48588",
   "metadata": {},
   "outputs": [
    {
     "data": {
      "text/plain": [
       "4-element Vector{Float64}:\n",
       "  5.921189464667496e-16\n",
       "  4.44089209850063e-16\n",
       " -8.141635513917813e-16\n",
       "  0.9999999999999998"
      ]
     },
     "execution_count": 24,
     "metadata": {},
     "output_type": "execute_result"
    }
   ],
   "source": [
    "project_monomial(x -> x^3, 4,-4,1)\n",
    "    "
   ]
  },
  {
   "cell_type": "code",
   "execution_count": 15,
   "id": "2d846f8c",
   "metadata": {},
   "outputs": [],
   "source": [
    "# step 3: basis function at the grid\n",
    "ϕ = zeros(10,1)\n",
    "    for col in 1:10\n",
    "        f_col(x) = x^col\n",
    "        \n",
    "        col_output = f_col.(x)\n",
    "        ϕ = hcat(ϕ, col_output)\n",
    "    end"
   ]
  },
  {
   "cell_type": "code",
   "execution_count": 17,
   "id": "f755f9dc",
   "metadata": {
    "scrolled": true
   },
   "outputs": [
    {
     "data": {
      "text/plain": [
       "10×10 Matrix{Float64}:\n",
       "  0.0        0.0         0.0          0.0      …      0.0           0.0\n",
       "  1.11111    1.23457     1.37174      1.52416         2.58117       2.86797\n",
       "  2.22222    4.93827    10.9739      24.3865       1321.56       2936.8\n",
       "  3.33333   11.1111     37.037      123.457       50805.3           1.69351e5\n",
       "  4.44444   19.7531     87.7915     390.184           6.76639e5     3.00729e6\n",
       "  5.55556   30.8642    171.468      952.599    …      5.04136e6     2.80075e7\n",
       "  6.66667   44.4444    296.296     1975.31            2.60123e7     1.73415e8\n",
       "  7.77778   60.4938    470.508     3659.5             1.0416e8      8.10131e8\n",
       "  8.88889   79.0123    702.332     6242.95            3.46439e8     3.07946e9\n",
       " 10.0      100.0      1000.0      10000.0             1.0e9         1.0e10"
      ]
     },
     "execution_count": 17,
     "metadata": {},
     "output_type": "execute_result"
    }
   ],
   "source": [
    "ϕ = ϕ[:, 1:end .!= 1]"
   ]
  },
  {
   "cell_type": "code",
   "execution_count": 29,
   "id": "08563635",
   "metadata": {},
   "outputs": [
    {
     "data": {
      "text/plain": [
       "10×10 Matrix{Float64}:\n",
       " 1.0   0.0        0.0         0.0      …      0.0            0.0\n",
       " 1.0   1.11111    1.23457     1.37174         2.32306        2.58117\n",
       " 1.0   2.22222    4.93827    10.9739        594.703       1321.56\n",
       " 1.0   3.33333   11.1111     37.037       15241.6        50805.3\n",
       " 1.0   4.44444   19.7531     87.7915          1.52244e5      6.76639e5\n",
       " 1.0   5.55556   30.8642    171.468    …      9.07444e5      5.04136e6\n",
       " 1.0   6.66667   44.4444    296.296           3.90184e6      2.60123e7\n",
       " 1.0   7.77778   60.4938    470.508           1.3392e7       1.0416e8\n",
       " 1.0   8.88889   79.0123    702.332           3.89744e7      3.46439e8\n",
       " 1.0  10.0      100.0      1000.0             1.0e8          1.0e9"
      ]
     },
     "execution_count": 29,
     "metadata": {},
     "output_type": "execute_result"
    }
   ],
   "source": [
    "coll_points = range(0, 10, 10)\n",
    "basis_functions = [coll_points.^degree for degree = 0:10-1]\n",
    "hcat(basis_functions...)"
   ]
  },
  {
   "cell_type": "code",
   "execution_count": 32,
   "id": "7d47c9f3",
   "metadata": {},
   "outputs": [
    {
     "data": {
      "text/plain": [
       "10-element Vector{Float64}:\n",
       "   0.0\n",
       "   1.234567901234568\n",
       "   4.938271604938272\n",
       "  11.111111111111112\n",
       "  19.75308641975309\n",
       "  30.864197530864196\n",
       "  44.44444444444445\n",
       "  60.49382716049382\n",
       "  79.01234567901236\n",
       " 100.0"
      ]
     },
     "execution_count": 32,
     "metadata": {},
     "output_type": "execute_result"
    }
   ],
   "source": [
    "coll_points.^2"
   ]
  },
  {
   "cell_type": "code",
   "execution_count": null,
   "id": "26ef83c4",
   "metadata": {},
   "outputs": [],
   "source": [
    "function cheb_polys(n,x)\n",
    "    T_prev(x) = 1\n",
    "    T_now(x) = x\n",
    "    for n in 2:n\n",
    "        T_next(x) = 2*x*T_now(x) - T_prev(x)\n",
    "        T_prev(x) = T_now(x)\n",
    "        T_now() = \n",
    "    end\n",
    "end"
   ]
  }
 ],
 "metadata": {
  "kernelspec": {
   "display_name": "Julia 1.8.5",
   "language": "julia",
   "name": "julia-1.8"
  },
  "language_info": {
   "file_extension": ".jl",
   "mimetype": "application/julia",
   "name": "julia",
   "version": "1.8.5"
  },
  "varInspector": {
   "cols": {
    "lenName": 16,
    "lenType": 16,
    "lenVar": 40
   },
   "kernels_config": {
    "python": {
     "delete_cmd_postfix": "",
     "delete_cmd_prefix": "del ",
     "library": "var_list.py",
     "varRefreshCmd": "print(var_dic_list())"
    },
    "r": {
     "delete_cmd_postfix": ") ",
     "delete_cmd_prefix": "rm(",
     "library": "var_list.r",
     "varRefreshCmd": "cat(var_dic_list()) "
    }
   },
   "types_to_exclude": [
    "module",
    "function",
    "builtin_function_or_method",
    "instance",
    "_Feature"
   ],
   "window_display": false
  }
 },
 "nbformat": 4,
 "nbformat_minor": 5
}
