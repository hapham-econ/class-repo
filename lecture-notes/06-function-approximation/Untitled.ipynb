{
 "cells": [
  {
   "cell_type": "code",
   "execution_count": 3,
   "id": "c56a37ed",
   "metadata": {},
   "outputs": [
    {
     "data": {
      "text/plain": [
       "linear_spline_approx (generic function with 1 method)"
      ]
     },
     "execution_count": 3,
     "metadata": {},
     "output_type": "execute_result"
    }
   ],
   "source": [
    "function linear_spline_approx(f, knots)\n",
    "     function spline_eval(evaluation_points)\n",
    "         prev_knot = knots[1] # initialize previous knot\n",
    "         if !(typeof(evaluation_points) <: Number) # if using multiple points\n",
    "             y_eval = similar(evaluation_points)\n",
    "             y_index = 1\n",
    "             for knot in knots[2:end]\n",
    "                 current_points = evaluation_points[prev_knot .<= evaluation_points .< knot]\n",
    "                 y_eval[y_index:y_index + length(current_points) - 1] =\n",
    "                     f(prev_knot) .+ (f(knot) - f(prev_knot))/(knot - prev_knot)*(current_points .- prev_knot)\n",
    "                 prev_knot = knot\n",
    "                 y_index += length(current_points)\n",
    "             end\n",
    "         else # if using just a single point\n",
    "             for knot in knots[2:end]\n",
    "                 if prev_knot .<= evaluation_points .< knot\n",
    "                     y_eval = f(prev_knot) + (f(knot) - f(prev_knot))/(knot - prev_knot)*(evaluation_point - prev_knot)\n",
    "                 end\n",
    "                 prev_knot = knot\n",
    "             end\n",
    "         end\n",
    "    end\n",
    "end"
   ]
  },
  {
   "cell_type": "code",
   "execution_count": 4,
   "id": "e34137cf",
   "metadata": {},
   "outputs": [],
   "source": [
    "f(x) = sin(x)\n",
    "knots_coarse = 0:pi/2:2pi;\n",
    " spline_func_coarse = linear_spline_approx(f, knots_coarse);\n",
    " knots_fine = 0:pi/4:2pi;\n",
    " spline_func_fine = linear_spline_approx(f, knots_fine);\n",
    " knots_superfine = 0:pi/12:2pi;\n",
    " spline_func_superfine = linear_spline_approx(f, knots_superfine);\n",
    " x_vals =0:.05:2pi;\n",
    " y_vals_coarse = spline_func_coarse(x_vals);\n",
    " y_vals_fine = spline_func_fine(x_vals);\n",
    " y_vals_superfine = spline_func_superfine(x_vals);"
   ]
  },
  {
   "cell_type": "code",
   "execution_count": null,
   "id": "e741403e",
   "metadata": {},
   "outputs": [],
   "source": []
  }
 ],
 "metadata": {
  "kernelspec": {
   "display_name": "Julia 1.8.5",
   "language": "julia",
   "name": "julia-1.8"
  },
  "language_info": {
   "file_extension": ".jl",
   "mimetype": "application/julia",
   "name": "julia",
   "version": "1.8.5"
  },
  "varInspector": {
   "cols": {
    "lenName": 16,
    "lenType": 16,
    "lenVar": 40
   },
   "kernels_config": {
    "python": {
     "delete_cmd_postfix": "",
     "delete_cmd_prefix": "del ",
     "library": "var_list.py",
     "varRefreshCmd": "print(var_dic_list())"
    },
    "r": {
     "delete_cmd_postfix": ") ",
     "delete_cmd_prefix": "rm(",
     "library": "var_list.r",
     "varRefreshCmd": "cat(var_dic_list()) "
    }
   },
   "types_to_exclude": [
    "module",
    "function",
    "builtin_function_or_method",
    "instance",
    "_Feature"
   ],
   "window_display": false
  }
 },
 "nbformat": 4,
 "nbformat_minor": 5
}
