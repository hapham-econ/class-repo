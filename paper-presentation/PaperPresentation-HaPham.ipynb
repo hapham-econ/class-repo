{
 "cells": [
  {
   "cell_type": "markdown",
   "id": "c5ba3095",
   "metadata": {
    "slideshow": {
     "slide_type": "slide"
    }
   },
   "source": [
    "# A Dynamic Discrete Choice Model with Harold Zurcher  in Rust (1987)\n",
    "## Presented by Ha Pham\n",
    "### AEM 7130 Spring 2023"
   ]
  },
  {
   "cell_type": "markdown",
   "id": "27b40d7f",
   "metadata": {
    "slideshow": {
     "slide_type": "slide"
    }
   },
   "source": [
    "# Introduction\n",
    "\n",
    "- A popular model for dynamic decisions\n",
    "\n",
    "\n"
   ]
  },
  {
   "cell_type": "markdown",
   "id": "244cf629",
   "metadata": {
    "slideshow": {
     "slide_type": "fragment"
    }
   },
   "source": [
    "- Widely applied in different fields including labor, IO,..."
   ]
  },
  {
   "cell_type": "markdown",
   "id": "b16a1e09",
   "metadata": {
    "slideshow": {
     "slide_type": "fragment"
    }
   },
   "source": [
    "- Weakness: cannot be applied in dynamic games (mostly due to computational constraint)"
   ]
  },
  {
   "cell_type": "markdown",
   "id": "a76eaf05",
   "metadata": {
    "slideshow": {
     "slide_type": "slide"
    }
   },
   "source": [
    "# Overview\n",
    "- Model Setups \n",
    "- Implementation in Julia\n",
    "- Applications"
   ]
  },
  {
   "cell_type": "markdown",
   "id": "1b2597c0",
   "metadata": {
    "slideshow": {
     "slide_type": "slide"
    }
   },
   "source": [
    "# Model Background\n",
    "\n",
    "- Harold Zurcher is responsible for changing bus engines for Madison Metro in Madison, WI\n",
    "\n",
    "\n",
    " \n",
    "\n"
   ]
  },
  {
   "cell_type": "markdown",
   "id": "fb4e03e8",
   "metadata": {
    "slideshow": {
     "slide_type": "fragment"
    }
   },
   "source": [
    "- Bus engines inherently get older, which makes them more costly to maintain. "
   ]
  },
  {
   "cell_type": "markdown",
   "id": "fecb386f",
   "metadata": {
    "slideshow": {
     "slide_type": "fragment"
    }
   },
   "source": [
    "- Replacing the engine require an upfront fixed cost and \"reset\" the age"
   ]
  },
  {
   "cell_type": "markdown",
   "id": "e60ce245",
   "metadata": {
    "slideshow": {
     "slide_type": "fragment"
    }
   },
   "source": [
    "- This forms a dynamic trade-off: paying the fixed cost today for cheaper maintainance tomorrow or saving the fixed cost "
   ]
  },
  {
   "cell_type": "markdown",
   "id": "ade64006",
   "metadata": {
    "slideshow": {
     "slide_type": "slide"
    }
   },
   "source": [
    "# Model Setup\n",
    "- Time is discrete and infinite: $t = \\{ 1,2,3,...,\\infty\\}$"
   ]
  },
  {
   "cell_type": "markdown",
   "id": "74e2c44c",
   "metadata": {
    "slideshow": {
     "slide_type": "fragment"
    }
   },
   "source": [
    "- States are the discretized mileage of the engines: $s = \\{0,5000-10000,10000-15000,...\\} = \\{0,1,2,3,...\\}$ "
   ]
  },
  {
   "cell_type": "markdown",
   "id": "211af3ef",
   "metadata": {
    "slideshow": {
     "slide_type": "fragment"
    }
   },
   "source": [
    "- Actions are discrete choices:  \n",
    "\\begin{cases}\n",
    "        a_t = 1 &\\text{if replace}  \\\\\n",
    "        a_t = 0 &\\text{if not replace} \n",
    "\\end{cases}"
   ]
  },
  {
   "cell_type": "markdown",
   "id": "d044c425",
   "metadata": {
    "slideshow": {
     "slide_type": "fragment"
    }
   },
   "source": [
    "- If $a_t = 1, s_{t+1} = 0$ with probability 1.  \n",
    "- If $a_t = 0$, \n",
    "\\begin{equation}\n",
    "s_{t+1} =\n",
    "\\begin{cases}\n",
    "     & s_t + 0 \\text{ with probability } p\\\\\n",
    "     & s_t + 1 \\text{ with probability } q\\\\\n",
    "     & s_t + 2 \\text{ with probability } 1-p-q\\\\\n",
    "\\end{cases}\n",
    "\\end{equation}"
   ]
  },
  {
   "cell_type": "markdown",
   "id": "6d5bd4bf",
   "metadata": {
    "slideshow": {
     "slide_type": "fragment"
    }
   },
   "source": [
    "- Given the current state and action, the state will evolve according to a Markovian transtition probability matrix. \n",
    "- The entries of the matrix are: $p(s_{t+1} = s' | s_t = s, a_t = a)$\n",
    "\n"
   ]
  },
  {
   "cell_type": "markdown",
   "id": "d265e6cc",
   "metadata": {
    "slideshow": {
     "slide_type": "slide"
    }
   },
   "source": [
    "# Model Timing \n",
    "1. States are observed \n",
    "2. Shocks are observed by the agent, econometrician knows the distribution\n",
    "3. Choices are made (and observed) to maximize utility\n",
    "4. States evolves according to the transition rule\n",
    "5. Next period"
   ]
  },
  {
   "cell_type": "markdown",
   "id": "1f50b0ac",
   "metadata": {
    "slideshow": {
     "slide_type": "slide"
    }
   },
   "source": [
    "# Period Payoff\n",
    "Each period, the agent earns some profit based on the state and the action:\n",
    "\n",
    "<center>$\n",
    "\\begin{equation}\n",
    "\\pi(s_t, a_t) = \n",
    "        -\\theta*s - FC*a_t\n",
    "\\end{equation}\n",
    "$</center>\n"
   ]
  },
  {
   "cell_type": "code",
   "execution_count": 2,
   "id": "ae907a95",
   "metadata": {
    "hideCode": false,
    "hidePrompt": false,
    "slideshow": {
     "slide_type": "fragment"
    },
    "tags": [
     "hide_input"
    ]
   },
   "outputs": [
    {
     "data": {
      "text/plain": [
       "per_period_payoff (generic function with 1 method)"
      ]
     },
     "execution_count": 2,
     "metadata": {},
     "output_type": "execute_result"
    }
   ],
   "source": [
    "function per_period_payoff(θ::Vector, i::Float64, s::Vector)::Vector\n",
    "    \"\"\"\n",
    "    This function calculate the per period payoff given the state and action.\n",
    "\n",
    "    Input:\n",
    "    - θ: parameters in the cost function\n",
    "    - i: action \n",
    "    - s: vector of states (mileage)\n",
    "\n",
    "    Output:\n",
    "    - a matrix of payoff\n",
    "    \"\"\"\n",
    "    \n",
    "    profit = (-θ[1]*0.001 .* s) .- θ[2] .* i \n",
    "    return profit\n",
    "end"
   ]
  },
  {
   "cell_type": "markdown",
   "id": "c948624f",
   "metadata": {
    "slideshow": {
     "slide_type": "slide"
    }
   },
   "source": [
    "# Decision Problem\n",
    "Each period, the action will maximize the expected utility. The strategy $a(.,.)$ will solve the problem:\n",
    "\n",
    "<center>$ \\max_{a_t} E_t \\sum \\beta^{t-1} [\\pi(s_t, a_t) + \\epsilon_{a}] $<center>\n",
    "    \n",
    "Define the value function:\n",
    "\n",
    "<center>$ \n",
    "\\begin{align}\n",
    "V(x_t) &= \\max_{a_t} \\{ \\pi(s_t, a_t) + \\epsilon_{a} + \\beta E[V(s_t)|s_t, a_t, \\epsilon] \\} \\\\\n",
    "       &= \\max_{a_t} \\{ \\pi(s_t, a_t) + \\epsilon_{a} + \\beta \\int_S \\int_\\Omega V(s_t) p(s', \\epsilon' | s,a,\\epsilon) dx' d\\epsilon'] \\}\n",
    "\\end{align}\n",
    "$<center>\n",
    "\n",
    "\n"
   ]
  },
  {
   "cell_type": "markdown",
   "id": "47f76366",
   "metadata": {
    "slideshow": {
     "slide_type": "slide"
    }
   },
   "source": [
    "# Assumptions\n",
    "- conditional expectation\n",
    "- logit errors\n"
   ]
  },
  {
   "cell_type": "markdown",
   "id": "a2202e60",
   "metadata": {
    "slideshow": {
     "slide_type": "slide"
    }
   },
   "source": [
    "# Bellman Operator & Choice-specific Value Functions\n",
    "- After some algebra, the following Bellman Operator is reached:\n",
    "\n",
    "<center> $T(EV(s,a)) = \\sum_S log(exp[ \\pi(s',0) + \\beta EV(s',0) ] + exp[ \\pi(s',a) + \\beta EV(s',a) ])p(s'|s,a)$ <center>\n",
    "    \n",
    "- Start with a guess of the value function (usual a vector of 0s) and apply value function iteration, the value function can be solved."
   ]
  },
  {
   "cell_type": "code",
   "execution_count": 3,
   "id": "35b24891",
   "metadata": {
    "slideshow": {
     "slide_type": "fragment"
    }
   },
   "outputs": [
    {
     "data": {
      "text/plain": [
       "compute_Vbar (generic function with 1 method)"
      ]
     },
     "execution_count": 3,
     "metadata": {},
     "output_type": "execute_result"
    }
   ],
   "source": [
    "function compute_Vbar(θ::Vector, P::Matrix, β::Float64, \n",
    "                      tol::Float64, max_iter::Int64, print_flag::Bool)::Vector\n",
    "    \"\"\" compute choice-specific value function by VFI\n",
    "    Input: \n",
    "    - θ: vector of parameters in the payoff function\n",
    "    - P: the transition probability matrix \n",
    "    - β: discounted value\n",
    "    - tol: tolerance for VFI\n",
    "    - max_iter: maximum iterations for VFI\n",
    "    Output:\n",
    "    - a vector of value function for each state (mileage)\n",
    "    \"\"\"\n",
    "\n",
    "    # the state space \n",
    "    T = size(P)[1] # dimension\n",
    "    x = collect(1:T) # as an array\n",
    "\n",
    "    # initiate guess for the value function\n",
    "    EV = zeros(T)\n",
    "\n",
    "    # define the Bellman operator\n",
    "    function bellman(EV)\n",
    "        wait = per_period_payoff(θ, 0.0, x) .+ β*EV \n",
    "        x_replace = ones(Int64, T)\n",
    "        replace = per_period_payoff(θ, 1.0, x_replace) .+ β*EV[1]\n",
    "        M = max.(wait, replace)\n",
    "        EV_new = M .+ log.(exp.(wait .- M) .+ exp.(replace .- M))\n",
    "        EV_new = P * EV_new\n",
    "        return EV_new\n",
    "    end\n",
    "\n",
    "    # find the fixed point of the Bellman operator\n",
    "    error = 1000\n",
    "    iter = 0\n",
    "    \n",
    "    while error > tol\n",
    "        EV_new = bellman(EV)\n",
    "        error = maximum(abs.(EV_new - EV))\n",
    "        EV = EV_new\n",
    "        iter += 1\n",
    "        if iter > max_iter\n",
    "            println(\"Value Function Iteration failed, took too long..\")\n",
    "            break\n",
    "        end\n",
    "    end\n",
    "\n",
    "    # print output if print_flag is called\n",
    "    if print_flag == true \n",
    "        if iter <= max_iter\n",
    "            println(\"Value Function Iteration converged in $iter iterations.\")\n",
    "        end\n",
    "    end\n",
    "\n",
    "    # return the new EV\n",
    "    return EV\n",
    "end"
   ]
  },
  {
   "cell_type": "markdown",
   "id": "c1f67548",
   "metadata": {
    "slideshow": {
     "slide_type": "slide"
    }
   },
   "source": [
    "# Maximum Likelihood Estimator\n",
    "Use the choice-specific value function to get the conditional choice probability (CCP):\n",
    "\n",
    "<center> $  \n",
    "Prob(a_t | s_t; \\theta) = \\frac{exp(\\pi(s,a) + \\beta EV(s,a)}{exp(\\pi(s,0) + \\beta EV(s,0)) + exp(\\pi(s,1) + \\beta EV(s,1)}\n",
    "$ <center>\n",
    "    \n",
    "Use the CCPs to get the log likelihood function:\n",
    "    \n",
    "<center> $\n",
    "\\mathcal{L} = \\sum log(prob)\n",
    "$<center"
   ]
  },
  {
   "cell_type": "markdown",
   "id": "6ac9f010",
   "metadata": {
    "slideshow": {
     "slide_type": "slide"
    }
   },
   "source": [
    "# Estimation Steps\n",
    "\n",
    "Now that have learned how to solve the model, how can we estimate the parameters from observed data? "
   ]
  },
  {
   "cell_type": "code",
   "execution_count": 4,
   "id": "37491dfd",
   "metadata": {
    "hideOutput": true,
    "slideshow": {
     "slide_type": "fragment"
    }
   },
   "outputs": [
    {
     "data": {
      "text/html": [
       "<div><div style = \"float: left;\"><span>8260×4 DataFrame</span></div><div style = \"float: right;\"><span style = \"font-style: italic;\">8235 rows omitted</span></div><div style = \"clear: both;\"></div></div><div class = \"data-frame\" style = \"overflow-x: scroll;\"><table class = \"data-frame\" style = \"margin-bottom: 6px;\"><thead><tr class = \"header\"><th class = \"rowNumber\" style = \"font-weight: bold; text-align: right;\">Row</th><th style = \"text-align: left;\">state</th><th style = \"text-align: left;\">decision</th><th style = \"text-align: left;\">next_state</th><th style = \"text-align: left;\">change</th></tr><tr class = \"subheader headerLastRow\"><th class = \"rowNumber\" style = \"font-weight: bold; text-align: right;\"></th><th title = \"Int64\" style = \"text-align: left;\">Int64</th><th title = \"Float64\" style = \"text-align: left;\">Float64</th><th title = \"Union{Missing, Float64}\" style = \"text-align: left;\">Float64?</th><th title = \"Union{Missing, Float64}\" style = \"text-align: left;\">Float64?</th></tr></thead><tbody><tr><td class = \"rowNumber\" style = \"font-weight: bold; text-align: right;\">1</td><td style = \"text-align: right;\">0</td><td style = \"text-align: right;\">0.0</td><td style = \"text-align: right;\">0.0</td><td style = \"text-align: right;\">0.0</td></tr><tr><td class = \"rowNumber\" style = \"font-weight: bold; text-align: right;\">2</td><td style = \"text-align: right;\">0</td><td style = \"text-align: right;\">0.0</td><td style = \"text-align: right;\">1.0</td><td style = \"text-align: right;\">1.0</td></tr><tr><td class = \"rowNumber\" style = \"font-weight: bold; text-align: right;\">3</td><td style = \"text-align: right;\">1</td><td style = \"text-align: right;\">0.0</td><td style = \"text-align: right;\">2.0</td><td style = \"text-align: right;\">1.0</td></tr><tr><td class = \"rowNumber\" style = \"font-weight: bold; text-align: right;\">4</td><td style = \"text-align: right;\">2</td><td style = \"text-align: right;\">0.0</td><td style = \"text-align: right;\">3.0</td><td style = \"text-align: right;\">1.0</td></tr><tr><td class = \"rowNumber\" style = \"font-weight: bold; text-align: right;\">5</td><td style = \"text-align: right;\">3</td><td style = \"text-align: right;\">0.0</td><td style = \"text-align: right;\">4.0</td><td style = \"text-align: right;\">1.0</td></tr><tr><td class = \"rowNumber\" style = \"font-weight: bold; text-align: right;\">6</td><td style = \"text-align: right;\">4</td><td style = \"text-align: right;\">0.0</td><td style = \"text-align: right;\">5.0</td><td style = \"text-align: right;\">1.0</td></tr><tr><td class = \"rowNumber\" style = \"font-weight: bold; text-align: right;\">7</td><td style = \"text-align: right;\">5</td><td style = \"text-align: right;\">0.0</td><td style = \"text-align: right;\">5.0</td><td style = \"text-align: right;\">0.0</td></tr><tr><td class = \"rowNumber\" style = \"font-weight: bold; text-align: right;\">8</td><td style = \"text-align: right;\">5</td><td style = \"text-align: right;\">0.0</td><td style = \"text-align: right;\">6.0</td><td style = \"text-align: right;\">1.0</td></tr><tr><td class = \"rowNumber\" style = \"font-weight: bold; text-align: right;\">9</td><td style = \"text-align: right;\">6</td><td style = \"text-align: right;\">0.0</td><td style = \"text-align: right;\">7.0</td><td style = \"text-align: right;\">1.0</td></tr><tr><td class = \"rowNumber\" style = \"font-weight: bold; text-align: right;\">10</td><td style = \"text-align: right;\">7</td><td style = \"text-align: right;\">0.0</td><td style = \"text-align: right;\">8.0</td><td style = \"text-align: right;\">1.0</td></tr><tr><td class = \"rowNumber\" style = \"font-weight: bold; text-align: right;\">11</td><td style = \"text-align: right;\">8</td><td style = \"text-align: right;\">0.0</td><td style = \"text-align: right;\">9.0</td><td style = \"text-align: right;\">1.0</td></tr><tr><td class = \"rowNumber\" style = \"font-weight: bold; text-align: right;\">12</td><td style = \"text-align: right;\">9</td><td style = \"text-align: right;\">0.0</td><td style = \"text-align: right;\">10.0</td><td style = \"text-align: right;\">1.0</td></tr><tr><td class = \"rowNumber\" style = \"font-weight: bold; text-align: right;\">13</td><td style = \"text-align: right;\">10</td><td style = \"text-align: right;\">0.0</td><td style = \"text-align: right;\">11.0</td><td style = \"text-align: right;\">1.0</td></tr><tr><td style = \"text-align: right;\">&vellip;</td><td style = \"text-align: right;\">&vellip;</td><td style = \"text-align: right;\">&vellip;</td><td style = \"text-align: right;\">&vellip;</td><td style = \"text-align: right;\">&vellip;</td></tr><tr><td class = \"rowNumber\" style = \"font-weight: bold; text-align: right;\">8249</td><td style = \"text-align: right;\">65</td><td style = \"text-align: right;\">0.0</td><td style = \"text-align: right;\">66.0</td><td style = \"text-align: right;\">1.0</td></tr><tr><td class = \"rowNumber\" style = \"font-weight: bold; text-align: right;\">8250</td><td style = \"text-align: right;\">66</td><td style = \"text-align: right;\">0.0</td><td style = \"text-align: right;\">66.0</td><td style = \"text-align: right;\">0.0</td></tr><tr><td class = \"rowNumber\" style = \"font-weight: bold; text-align: right;\">8251</td><td style = \"text-align: right;\">66</td><td style = \"text-align: right;\">0.0</td><td style = \"text-align: right;\">67.0</td><td style = \"text-align: right;\">1.0</td></tr><tr><td class = \"rowNumber\" style = \"font-weight: bold; text-align: right;\">8252</td><td style = \"text-align: right;\">67</td><td style = \"text-align: right;\">0.0</td><td style = \"text-align: right;\">67.0</td><td style = \"text-align: right;\">0.0</td></tr><tr><td class = \"rowNumber\" style = \"font-weight: bold; text-align: right;\">8253</td><td style = \"text-align: right;\">67</td><td style = \"text-align: right;\">0.0</td><td style = \"text-align: right;\">67.0</td><td style = \"text-align: right;\">0.0</td></tr><tr><td class = \"rowNumber\" style = \"font-weight: bold; text-align: right;\">8254</td><td style = \"text-align: right;\">67</td><td style = \"text-align: right;\">0.0</td><td style = \"text-align: right;\">68.0</td><td style = \"text-align: right;\">1.0</td></tr><tr><td class = \"rowNumber\" style = \"font-weight: bold; text-align: right;\">8255</td><td style = \"text-align: right;\">68</td><td style = \"text-align: right;\">0.0</td><td style = \"text-align: right;\">68.0</td><td style = \"text-align: right;\">0.0</td></tr><tr><td class = \"rowNumber\" style = \"font-weight: bold; text-align: right;\">8256</td><td style = \"text-align: right;\">68</td><td style = \"text-align: right;\">0.0</td><td style = \"text-align: right;\">68.0</td><td style = \"text-align: right;\">0.0</td></tr><tr><td class = \"rowNumber\" style = \"font-weight: bold; text-align: right;\">8257</td><td style = \"text-align: right;\">68</td><td style = \"text-align: right;\">0.0</td><td style = \"text-align: right;\">69.0</td><td style = \"text-align: right;\">1.0</td></tr><tr><td class = \"rowNumber\" style = \"font-weight: bold; text-align: right;\">8258</td><td style = \"text-align: right;\">69</td><td style = \"text-align: right;\">0.0</td><td style = \"text-align: right;\">69.0</td><td style = \"text-align: right;\">0.0</td></tr><tr><td class = \"rowNumber\" style = \"font-weight: bold; text-align: right;\">8259</td><td style = \"text-align: right;\">69</td><td style = \"text-align: right;\">0.0</td><td style = \"text-align: right;\">69.0</td><td style = \"text-align: right;\">0.0</td></tr><tr><td class = \"rowNumber\" style = \"font-weight: bold; text-align: right;\">8260</td><td style = \"text-align: right;\">69</td><td style = \"text-align: right;\">0.0</td><td style = \"text-align: right;\">missing</td><td style = \"text-align: right;\">missing</td></tr></tbody></table></div>"
      ],
      "text/latex": [
       "\\begin{tabular}{r|cccc}\n",
       "\t& state & decision & next\\_state & change\\\\\n",
       "\t\\hline\n",
       "\t& Int64 & Float64 & Float64? & Float64?\\\\\n",
       "\t\\hline\n",
       "\t1 & 0 & 0.0 & 0.0 & 0.0 \\\\\n",
       "\t2 & 0 & 0.0 & 1.0 & 1.0 \\\\\n",
       "\t3 & 1 & 0.0 & 2.0 & 1.0 \\\\\n",
       "\t4 & 2 & 0.0 & 3.0 & 1.0 \\\\\n",
       "\t5 & 3 & 0.0 & 4.0 & 1.0 \\\\\n",
       "\t6 & 4 & 0.0 & 5.0 & 1.0 \\\\\n",
       "\t7 & 5 & 0.0 & 5.0 & 0.0 \\\\\n",
       "\t8 & 5 & 0.0 & 6.0 & 1.0 \\\\\n",
       "\t9 & 6 & 0.0 & 7.0 & 1.0 \\\\\n",
       "\t10 & 7 & 0.0 & 8.0 & 1.0 \\\\\n",
       "\t11 & 8 & 0.0 & 9.0 & 1.0 \\\\\n",
       "\t12 & 9 & 0.0 & 10.0 & 1.0 \\\\\n",
       "\t13 & 10 & 0.0 & 11.0 & 1.0 \\\\\n",
       "\t14 & 11 & 0.0 & 12.0 & 1.0 \\\\\n",
       "\t15 & 12 & 0.0 & 13.0 & 1.0 \\\\\n",
       "\t16 & 13 & 0.0 & 14.0 & 1.0 \\\\\n",
       "\t17 & 14 & 0.0 & 15.0 & 1.0 \\\\\n",
       "\t18 & 15 & 0.0 & 15.0 & 0.0 \\\\\n",
       "\t19 & 15 & 0.0 & 16.0 & 1.0 \\\\\n",
       "\t20 & 16 & 0.0 & 17.0 & 1.0 \\\\\n",
       "\t21 & 17 & 0.0 & 18.0 & 1.0 \\\\\n",
       "\t22 & 18 & 0.0 & 18.0 & 0.0 \\\\\n",
       "\t23 & 18 & 0.0 & 19.0 & 1.0 \\\\\n",
       "\t24 & 19 & 0.0 & 20.0 & 1.0 \\\\\n",
       "\t25 & 20 & 0.0 & 0.0 & -20.0 \\\\\n",
       "\t26 & 0 & 0.0 & 0.0 & 0.0 \\\\\n",
       "\t27 & 0 & 0.0 & 0.0 & 0.0 \\\\\n",
       "\t28 & 0 & 0.0 & 0.0 & 0.0 \\\\\n",
       "\t29 & 0 & 0.0 & 1.0 & 1.0 \\\\\n",
       "\t30 & 1 & 0.0 & 2.0 & 1.0 \\\\\n",
       "\t$\\dots$ & $\\dots$ & $\\dots$ & $\\dots$ & $\\dots$ \\\\\n",
       "\\end{tabular}\n"
      ],
      "text/plain": [
       "\u001b[1m8260×4 DataFrame\u001b[0m\n",
       "\u001b[1m  Row \u001b[0m│\u001b[1m state \u001b[0m\u001b[1m decision \u001b[0m\u001b[1m next_state \u001b[0m\u001b[1m change    \u001b[0m\n",
       "      │\u001b[90m Int64 \u001b[0m\u001b[90m Float64  \u001b[0m\u001b[90m Float64?   \u001b[0m\u001b[90m Float64?  \u001b[0m\n",
       "──────┼────────────────────────────────────────\n",
       "    1 │     0       0.0         0.0        0.0\n",
       "    2 │     0       0.0         1.0        1.0\n",
       "    3 │     1       0.0         2.0        1.0\n",
       "    4 │     2       0.0         3.0        1.0\n",
       "    5 │     3       0.0         4.0        1.0\n",
       "    6 │     4       0.0         5.0        1.0\n",
       "    7 │     5       0.0         5.0        0.0\n",
       "    8 │     5       0.0         6.0        1.0\n",
       "    9 │     6       0.0         7.0        1.0\n",
       "   10 │     7       0.0         8.0        1.0\n",
       "   11 │     8       0.0         9.0        1.0\n",
       "  ⋮   │   ⋮       ⋮          ⋮           ⋮\n",
       " 8251 │    66       0.0        67.0        1.0\n",
       " 8252 │    67       0.0        67.0        0.0\n",
       " 8253 │    67       0.0        67.0        0.0\n",
       " 8254 │    67       0.0        68.0        1.0\n",
       " 8255 │    68       0.0        68.0        0.0\n",
       " 8256 │    68       0.0        68.0        0.0\n",
       " 8257 │    68       0.0        69.0        1.0\n",
       " 8258 │    69       0.0        69.0        0.0\n",
       " 8259 │    69       0.0        69.0        0.0\n",
       " 8260 │    69       0.0 \u001b[90m  missing   \u001b[0m\u001b[90m missing   \u001b[0m\n",
       "\u001b[36m                              8239 rows omitted\u001b[0m"
      ]
     },
     "execution_count": 4,
     "metadata": {},
     "output_type": "execute_result"
    }
   ],
   "source": [
    "using CSV \n",
    "using DataFrames\n",
    "using Statistics\n",
    "using LinearAlgebra\n",
    "using Plots\n",
    "using Optim\n",
    "df = DataFrame(CSV.File(\"bus_data.csv\"))\n",
    "df.state = convert.(Int64, df.state)\n",
    "df"
   ]
  },
  {
   "cell_type": "markdown",
   "id": "b779fa2e",
   "metadata": {
    "slideshow": {
     "slide_type": "slide"
    }
   },
   "source": [
    "# Step 1: Estimate the state transition rule \n",
    "The state transition rule can be directly estimated by the empirical distribution from the data."
   ]
  },
  {
   "cell_type": "code",
   "execution_count": 5,
   "id": "d63acbcf",
   "metadata": {
    "slideshow": {
     "slide_type": "fragment"
    }
   },
   "outputs": [
    {
     "name": "stdout",
     "output_type": "stream",
     "text": [
      "Estimated (p,q) is (0.3500802370077768, 0.6383162572521911)"
     ]
    }
   ],
   "source": [
    "df = coalesce.(df, -1)\n",
    "N = length(df.change[df.change .>= 0.0])\n",
    "p = length(df.change[df.change .== 0.0]) / N\n",
    "q = length(df.change[df.change .== 1.0]) / N\n",
    "print(\"Estimated (p,q) is ($p, $q)\")"
   ]
  },
  {
   "cell_type": "markdown",
   "id": "4ce438c3",
   "metadata": {
    "slideshow": {
     "slide_type": "slide"
    }
   },
   "source": [
    "With the estimated probability $(p,q)$, we can generate the transition matrix:"
   ]
  },
  {
   "cell_type": "code",
   "execution_count": 6,
   "id": "ccfa818b",
   "metadata": {
    "slideshow": {
     "slide_type": "fragment"
    }
   },
   "outputs": [
    {
     "data": {
      "text/plain": [
       "transition_matrix (generic function with 1 method)"
      ]
     },
     "execution_count": 6,
     "metadata": {},
     "output_type": "execute_result"
    }
   ],
   "source": [
    "function transition_matrix(T::Int64, p::Float64, q::Float64)::Matrix\n",
    "\"\"\"\n",
    "This function create a transitional probability matrix based on estimated parameters\n",
    "\n",
    "Input:\n",
    "- p & q: estimated transition probabilities\n",
    "- T: dimension of state space\n",
    "\n",
    "Output:\n",
    "a TxT matrix\n",
    "\"\"\"\n",
    "    P = zeros(T,T)\n",
    "    P += diagm(0 => ones(T) .* p) \n",
    "    P += diagm(1 => ones(T-1) .* q)\n",
    "    P += diagm(2 => ones(T-2) .* (1-p-q))\n",
    "    P[1:end, end] += 1 .- sum(P, dims=2)\n",
    "return P\n",
    "end"
   ]
  },
  {
   "cell_type": "code",
   "execution_count": 1,
   "id": "fc5fa827",
   "metadata": {},
   "outputs": [
    {
     "ename": "LoadError",
     "evalue": "UndefVarError: transition_matrix not defined",
     "output_type": "error",
     "traceback": [
      "UndefVarError: transition_matrix not defined",
      "",
      "Stacktrace:",
      " [1] top-level scope",
      "   @ In[1]:2"
     ]
    }
   ],
   "source": [
    "# test it out\n",
    "P = transition_matrix(90, p, q)\n",
    "@code_warntype transition_matrix(90.0, p, q)\n"
   ]
  },
  {
   "cell_type": "markdown",
   "id": "db44e04b",
   "metadata": {
    "slideshow": {
     "slide_type": "slide"
    }
   },
   "source": [
    "# Step 2: Compute Value Function given parameters (Inner Loop)"
   ]
  },
  {
   "cell_type": "code",
   "execution_count": 8,
   "id": "6bcf2707",
   "metadata": {},
   "outputs": [
    {
     "name": "stdout",
     "output_type": "stream",
     "text": [
      "Value Function Iteration converged in 48244 iterations.\n"
     ]
    },
    {
     "data": {
      "image/svg+xml": [
       "<?xml version=\"1.0\" encoding=\"utf-8\"?>\n",
       "<svg xmlns=\"http://www.w3.org/2000/svg\" xmlns:xlink=\"http://www.w3.org/1999/xlink\" width=\"600\" height=\"400\" viewBox=\"0 0 2400 1600\">\n",
       "<defs>\n",
       "  <clipPath id=\"clip100\">\n",
       "    <rect x=\"0\" y=\"0\" width=\"2400\" height=\"1600\"/>\n",
       "  </clipPath>\n",
       "</defs>\n",
       "<path clip-path=\"url(#clip100)\" d=\"M0 1600 L2400 1600 L2400 0 L0 0  Z\" fill=\"#ffffff\" fill-rule=\"evenodd\" fill-opacity=\"1\"/>\n",
       "<defs>\n",
       "  <clipPath id=\"clip101\">\n",
       "    <rect x=\"480\" y=\"0\" width=\"1681\" height=\"1600\"/>\n",
       "  </clipPath>\n",
       "</defs>\n",
       "<path clip-path=\"url(#clip100)\" d=\"M239.676 1486.45 L2352.76 1486.45 L2352.76 123.472 L239.676 123.472  Z\" fill=\"#ffffff\" fill-rule=\"evenodd\" fill-opacity=\"1\"/>\n",
       "<defs>\n",
       "  <clipPath id=\"clip102\">\n",
       "    <rect x=\"239\" y=\"123\" width=\"2114\" height=\"1364\"/>\n",
       "  </clipPath>\n",
       "</defs>\n",
       "<polyline clip-path=\"url(#clip102)\" style=\"stroke:#000000; stroke-linecap:round; stroke-linejoin:round; stroke-width:2; stroke-opacity:0.1; fill:none\" points=\"277.082,1486.45 277.082,123.472 \"/>\n",
       "<polyline clip-path=\"url(#clip102)\" style=\"stroke:#000000; stroke-linecap:round; stroke-linejoin:round; stroke-width:2; stroke-opacity:0.1; fill:none\" points=\"725.053,1486.45 725.053,123.472 \"/>\n",
       "<polyline clip-path=\"url(#clip102)\" style=\"stroke:#000000; stroke-linecap:round; stroke-linejoin:round; stroke-width:2; stroke-opacity:0.1; fill:none\" points=\"1173.02,1486.45 1173.02,123.472 \"/>\n",
       "<polyline clip-path=\"url(#clip102)\" style=\"stroke:#000000; stroke-linecap:round; stroke-linejoin:round; stroke-width:2; stroke-opacity:0.1; fill:none\" points=\"1621,1486.45 1621,123.472 \"/>\n",
       "<polyline clip-path=\"url(#clip102)\" style=\"stroke:#000000; stroke-linecap:round; stroke-linejoin:round; stroke-width:2; stroke-opacity:0.1; fill:none\" points=\"2068.97,1486.45 2068.97,123.472 \"/>\n",
       "<polyline clip-path=\"url(#clip100)\" style=\"stroke:#000000; stroke-linecap:round; stroke-linejoin:round; stroke-width:4; stroke-opacity:1; fill:none\" points=\"239.676,1486.45 2352.76,1486.45 \"/>\n",
       "<polyline clip-path=\"url(#clip100)\" style=\"stroke:#000000; stroke-linecap:round; stroke-linejoin:round; stroke-width:4; stroke-opacity:1; fill:none\" points=\"277.082,1486.45 277.082,1467.55 \"/>\n",
       "<polyline clip-path=\"url(#clip100)\" style=\"stroke:#000000; stroke-linecap:round; stroke-linejoin:round; stroke-width:4; stroke-opacity:1; fill:none\" points=\"725.053,1486.45 725.053,1467.55 \"/>\n",
       "<polyline clip-path=\"url(#clip100)\" style=\"stroke:#000000; stroke-linecap:round; stroke-linejoin:round; stroke-width:4; stroke-opacity:1; fill:none\" points=\"1173.02,1486.45 1173.02,1467.55 \"/>\n",
       "<polyline clip-path=\"url(#clip100)\" style=\"stroke:#000000; stroke-linecap:round; stroke-linejoin:round; stroke-width:4; stroke-opacity:1; fill:none\" points=\"1621,1486.45 1621,1467.55 \"/>\n",
       "<polyline clip-path=\"url(#clip100)\" style=\"stroke:#000000; stroke-linecap:round; stroke-linejoin:round; stroke-width:4; stroke-opacity:1; fill:none\" points=\"2068.97,1486.45 2068.97,1467.55 \"/>\n",
       "<path clip-path=\"url(#clip100)\" d=\"M277.082 1517.37 Q273.471 1517.37 271.642 1520.93 Q269.837 1524.47 269.837 1531.6 Q269.837 1538.71 271.642 1542.27 Q273.471 1545.82 277.082 1545.82 Q280.716 1545.82 282.522 1542.27 Q284.351 1538.71 284.351 1531.6 Q284.351 1524.47 282.522 1520.93 Q280.716 1517.37 277.082 1517.37 M277.082 1513.66 Q282.892 1513.66 285.948 1518.27 Q289.026 1522.85 289.026 1531.6 Q289.026 1540.33 285.948 1544.94 Q282.892 1549.52 277.082 1549.52 Q271.272 1549.52 268.193 1544.94 Q265.138 1540.33 265.138 1531.6 Q265.138 1522.85 268.193 1518.27 Q271.272 1513.66 277.082 1513.66 Z\" fill=\"#000000\" fill-rule=\"evenodd\" fill-opacity=\"1\" /><path clip-path=\"url(#clip100)\" d=\"M703.826 1544.91 L720.146 1544.91 L720.146 1548.85 L698.201 1548.85 L698.201 1544.91 Q700.863 1542.16 705.447 1537.53 Q710.053 1532.88 711.234 1531.53 Q713.479 1529.01 714.359 1527.27 Q715.262 1525.51 715.262 1523.82 Q715.262 1521.07 713.317 1519.33 Q711.396 1517.6 708.294 1517.6 Q706.095 1517.6 703.641 1518.36 Q701.211 1519.13 698.433 1520.68 L698.433 1515.95 Q701.257 1514.82 703.711 1514.24 Q706.164 1513.66 708.201 1513.66 Q713.572 1513.66 716.766 1516.35 Q719.961 1519.03 719.961 1523.52 Q719.961 1525.65 719.15 1527.57 Q718.363 1529.47 716.257 1532.07 Q715.678 1532.74 712.576 1535.95 Q709.474 1539.15 703.826 1544.91 Z\" fill=\"#000000\" fill-rule=\"evenodd\" fill-opacity=\"1\" /><path clip-path=\"url(#clip100)\" d=\"M739.96 1517.37 Q736.349 1517.37 734.521 1520.93 Q732.715 1524.47 732.715 1531.6 Q732.715 1538.71 734.521 1542.27 Q736.349 1545.82 739.96 1545.82 Q743.595 1545.82 745.4 1542.27 Q747.229 1538.71 747.229 1531.6 Q747.229 1524.47 745.4 1520.93 Q743.595 1517.37 739.96 1517.37 M739.96 1513.66 Q745.771 1513.66 748.826 1518.27 Q751.905 1522.85 751.905 1531.6 Q751.905 1540.33 748.826 1544.94 Q745.771 1549.52 739.96 1549.52 Q734.15 1549.52 731.072 1544.94 Q728.016 1540.33 728.016 1531.6 Q728.016 1522.85 731.072 1518.27 Q734.15 1513.66 739.96 1513.66 Z\" fill=\"#000000\" fill-rule=\"evenodd\" fill-opacity=\"1\" /><path clip-path=\"url(#clip100)\" d=\"M1161.2 1518.36 L1149.39 1536.81 L1161.2 1536.81 L1161.2 1518.36 M1159.97 1514.29 L1165.85 1514.29 L1165.85 1536.81 L1170.78 1536.81 L1170.78 1540.7 L1165.85 1540.7 L1165.85 1548.85 L1161.2 1548.85 L1161.2 1540.7 L1145.59 1540.7 L1145.59 1536.19 L1159.97 1514.29 Z\" fill=\"#000000\" fill-rule=\"evenodd\" fill-opacity=\"1\" /><path clip-path=\"url(#clip100)\" d=\"M1188.51 1517.37 Q1184.9 1517.37 1183.07 1520.93 Q1181.26 1524.47 1181.26 1531.6 Q1181.26 1538.71 1183.07 1542.27 Q1184.9 1545.82 1188.51 1545.82 Q1192.14 1545.82 1193.95 1542.27 Q1195.78 1538.71 1195.78 1531.6 Q1195.78 1524.47 1193.95 1520.93 Q1192.14 1517.37 1188.51 1517.37 M1188.51 1513.66 Q1194.32 1513.66 1197.38 1518.27 Q1200.45 1522.85 1200.45 1531.6 Q1200.45 1540.33 1197.38 1544.94 Q1194.32 1549.52 1188.51 1549.52 Q1182.7 1549.52 1179.62 1544.94 Q1176.57 1540.33 1176.57 1531.6 Q1176.57 1522.85 1179.62 1518.27 Q1182.7 1513.66 1188.51 1513.66 Z\" fill=\"#000000\" fill-rule=\"evenodd\" fill-opacity=\"1\" /><path clip-path=\"url(#clip100)\" d=\"M1606.4 1529.7 Q1603.25 1529.7 1601.4 1531.86 Q1599.57 1534.01 1599.57 1537.76 Q1599.57 1541.49 1601.4 1543.66 Q1603.25 1545.82 1606.4 1545.82 Q1609.55 1545.82 1611.38 1543.66 Q1613.23 1541.49 1613.23 1537.76 Q1613.23 1534.01 1611.38 1531.86 Q1609.55 1529.7 1606.4 1529.7 M1615.68 1515.05 L1615.68 1519.31 Q1613.92 1518.48 1612.12 1518.04 Q1610.34 1517.6 1608.58 1517.6 Q1603.95 1517.6 1601.49 1520.72 Q1599.06 1523.85 1598.72 1530.17 Q1600.08 1528.15 1602.14 1527.09 Q1604.2 1526 1606.68 1526 Q1611.89 1526 1614.9 1529.17 Q1617.93 1532.32 1617.93 1537.76 Q1617.93 1543.08 1614.78 1546.3 Q1611.63 1549.52 1606.4 1549.52 Q1600.41 1549.52 1597.23 1544.94 Q1594.06 1540.33 1594.06 1531.6 Q1594.06 1523.41 1597.95 1518.55 Q1601.84 1513.66 1608.39 1513.66 Q1610.15 1513.66 1611.93 1514.01 Q1613.74 1514.36 1615.68 1515.05 Z\" fill=\"#000000\" fill-rule=\"evenodd\" fill-opacity=\"1\" /><path clip-path=\"url(#clip100)\" d=\"M1635.98 1517.37 Q1632.37 1517.37 1630.54 1520.93 Q1628.74 1524.47 1628.74 1531.6 Q1628.74 1538.71 1630.54 1542.27 Q1632.37 1545.82 1635.98 1545.82 Q1639.62 1545.82 1641.42 1542.27 Q1643.25 1538.71 1643.25 1531.6 Q1643.25 1524.47 1641.42 1520.93 Q1639.62 1517.37 1635.98 1517.37 M1635.98 1513.66 Q1641.79 1513.66 1644.85 1518.27 Q1647.93 1522.85 1647.93 1531.6 Q1647.93 1540.33 1644.85 1544.94 Q1641.79 1549.52 1635.98 1549.52 Q1630.17 1549.52 1627.09 1544.94 Q1624.04 1540.33 1624.04 1531.6 Q1624.04 1522.85 1627.09 1518.27 Q1630.17 1513.66 1635.98 1513.66 Z\" fill=\"#000000\" fill-rule=\"evenodd\" fill-opacity=\"1\" /><path clip-path=\"url(#clip100)\" d=\"M2053.84 1532.44 Q2050.51 1532.44 2048.58 1534.22 Q2046.69 1536 2046.69 1539.13 Q2046.69 1542.25 2048.58 1544.03 Q2050.51 1545.82 2053.84 1545.82 Q2057.17 1545.82 2059.09 1544.03 Q2061.01 1542.23 2061.01 1539.13 Q2061.01 1536 2059.09 1534.22 Q2057.2 1532.44 2053.84 1532.44 M2049.16 1530.45 Q2046.15 1529.7 2044.46 1527.64 Q2042.8 1525.58 2042.8 1522.62 Q2042.8 1518.48 2045.74 1516.07 Q2048.7 1513.66 2053.84 1513.66 Q2059 1513.66 2061.94 1516.07 Q2064.88 1518.48 2064.88 1522.62 Q2064.88 1525.58 2063.19 1527.64 Q2061.52 1529.7 2058.54 1530.45 Q2061.92 1531.23 2063.79 1533.52 Q2065.69 1535.82 2065.69 1539.13 Q2065.69 1544.15 2062.61 1546.83 Q2059.56 1549.52 2053.84 1549.52 Q2048.12 1549.52 2045.04 1546.83 Q2041.99 1544.15 2041.99 1539.13 Q2041.99 1535.82 2043.89 1533.52 Q2045.78 1531.23 2049.16 1530.45 M2047.45 1523.06 Q2047.45 1525.75 2049.12 1527.25 Q2050.81 1528.76 2053.84 1528.76 Q2056.85 1528.76 2058.54 1527.25 Q2060.25 1525.75 2060.25 1523.06 Q2060.25 1520.38 2058.54 1518.87 Q2056.85 1517.37 2053.84 1517.37 Q2050.81 1517.37 2049.12 1518.87 Q2047.45 1520.38 2047.45 1523.06 Z\" fill=\"#000000\" fill-rule=\"evenodd\" fill-opacity=\"1\" /><path clip-path=\"url(#clip100)\" d=\"M2084 1517.37 Q2080.39 1517.37 2078.56 1520.93 Q2076.76 1524.47 2076.76 1531.6 Q2076.76 1538.71 2078.56 1542.27 Q2080.39 1545.82 2084 1545.82 Q2087.64 1545.82 2089.44 1542.27 Q2091.27 1538.71 2091.27 1531.6 Q2091.27 1524.47 2089.44 1520.93 Q2087.64 1517.37 2084 1517.37 M2084 1513.66 Q2089.81 1513.66 2092.87 1518.27 Q2095.95 1522.85 2095.95 1531.6 Q2095.95 1540.33 2092.87 1544.94 Q2089.81 1549.52 2084 1549.52 Q2078.19 1549.52 2075.11 1544.94 Q2072.06 1540.33 2072.06 1531.6 Q2072.06 1522.85 2075.11 1518.27 Q2078.19 1513.66 2084 1513.66 Z\" fill=\"#000000\" fill-rule=\"evenodd\" fill-opacity=\"1\" /><polyline clip-path=\"url(#clip102)\" style=\"stroke:#000000; stroke-linecap:round; stroke-linejoin:round; stroke-width:2; stroke-opacity:0.1; fill:none\" points=\"239.676,1274.04 2352.76,1274.04 \"/>\n",
       "<polyline clip-path=\"url(#clip102)\" style=\"stroke:#000000; stroke-linecap:round; stroke-linejoin:round; stroke-width:2; stroke-opacity:0.1; fill:none\" points=\"239.676,904.319 2352.76,904.319 \"/>\n",
       "<polyline clip-path=\"url(#clip102)\" style=\"stroke:#000000; stroke-linecap:round; stroke-linejoin:round; stroke-width:2; stroke-opacity:0.1; fill:none\" points=\"239.676,534.595 2352.76,534.595 \"/>\n",
       "<polyline clip-path=\"url(#clip102)\" style=\"stroke:#000000; stroke-linecap:round; stroke-linejoin:round; stroke-width:2; stroke-opacity:0.1; fill:none\" points=\"239.676,164.872 2352.76,164.872 \"/>\n",
       "<polyline clip-path=\"url(#clip100)\" style=\"stroke:#000000; stroke-linecap:round; stroke-linejoin:round; stroke-width:4; stroke-opacity:1; fill:none\" points=\"239.676,1486.45 239.676,123.472 \"/>\n",
       "<polyline clip-path=\"url(#clip100)\" style=\"stroke:#000000; stroke-linecap:round; stroke-linejoin:round; stroke-width:4; stroke-opacity:1; fill:none\" points=\"239.676,1274.04 258.574,1274.04 \"/>\n",
       "<polyline clip-path=\"url(#clip100)\" style=\"stroke:#000000; stroke-linecap:round; stroke-linejoin:round; stroke-width:4; stroke-opacity:1; fill:none\" points=\"239.676,904.319 258.574,904.319 \"/>\n",
       "<polyline clip-path=\"url(#clip100)\" style=\"stroke:#000000; stroke-linecap:round; stroke-linejoin:round; stroke-width:4; stroke-opacity:1; fill:none\" points=\"239.676,534.595 258.574,534.595 \"/>\n",
       "<polyline clip-path=\"url(#clip100)\" style=\"stroke:#000000; stroke-linecap:round; stroke-linejoin:round; stroke-width:4; stroke-opacity:1; fill:none\" points=\"239.676,164.872 258.574,164.872 \"/>\n",
       "<path clip-path=\"url(#clip100)\" d=\"M51.3162 1274.49 L80.992 1274.49 L80.992 1278.43 L51.3162 1278.43 L51.3162 1274.49 Z\" fill=\"#000000\" fill-rule=\"evenodd\" fill-opacity=\"1\" /><path clip-path=\"url(#clip100)\" d=\"M91.8947 1287.39 L99.5335 1287.39 L99.5335 1261.02 L91.2234 1262.69 L91.2234 1258.43 L99.4872 1256.76 L104.163 1256.76 L104.163 1287.39 L111.802 1287.39 L111.802 1291.32 L91.8947 1291.32 L91.8947 1287.39 Z\" fill=\"#000000\" fill-rule=\"evenodd\" fill-opacity=\"1\" /><path clip-path=\"url(#clip100)\" d=\"M125.274 1287.39 L141.593 1287.39 L141.593 1291.32 L119.649 1291.32 L119.649 1287.39 Q122.311 1284.63 126.894 1280 Q131.501 1275.35 132.682 1274.01 Q134.927 1271.49 135.806 1269.75 Q136.709 1267.99 136.709 1266.3 Q136.709 1263.55 134.765 1261.81 Q132.844 1260.07 129.742 1260.07 Q127.543 1260.07 125.089 1260.84 Q122.658 1261.6 119.881 1263.15 L119.881 1258.43 Q122.705 1257.3 125.158 1256.72 Q127.612 1256.14 129.649 1256.14 Q135.019 1256.14 138.214 1258.82 Q141.408 1261.51 141.408 1266 Q141.408 1268.13 140.598 1270.05 Q139.811 1271.95 137.705 1274.54 Q137.126 1275.21 134.024 1278.43 Q130.922 1281.62 125.274 1287.39 Z\" fill=\"#000000\" fill-rule=\"evenodd\" fill-opacity=\"1\" /><path clip-path=\"url(#clip100)\" d=\"M165.575 1272.69 Q168.931 1273.41 170.806 1275.67 Q172.704 1277.94 172.704 1281.28 Q172.704 1286.39 169.186 1289.19 Q165.667 1291.99 159.186 1291.99 Q157.01 1291.99 154.695 1291.55 Q152.404 1291.14 149.95 1290.28 L149.95 1285.77 Q151.894 1286.9 154.209 1287.48 Q156.524 1288.06 159.047 1288.06 Q163.445 1288.06 165.737 1286.32 Q168.052 1284.59 168.052 1281.28 Q168.052 1278.22 165.899 1276.51 Q163.769 1274.77 159.95 1274.77 L155.922 1274.77 L155.922 1270.93 L160.135 1270.93 Q163.584 1270.93 165.413 1269.56 Q167.242 1268.18 167.242 1265.58 Q167.242 1262.92 165.343 1261.51 Q163.468 1260.07 159.95 1260.07 Q158.029 1260.07 155.83 1260.49 Q153.63 1260.91 150.992 1261.79 L150.992 1257.62 Q153.654 1256.88 155.968 1256.51 Q158.306 1256.14 160.367 1256.14 Q165.691 1256.14 168.792 1258.57 Q171.894 1260.98 171.894 1265.1 Q171.894 1267.97 170.251 1269.96 Q168.607 1271.92 165.575 1272.69 Z\" fill=\"#000000\" fill-rule=\"evenodd\" fill-opacity=\"1\" /><path clip-path=\"url(#clip100)\" d=\"M192.149 1272.18 Q189.001 1272.18 187.149 1274.33 Q185.32 1276.49 185.32 1280.24 Q185.32 1283.96 187.149 1286.14 Q189.001 1288.29 192.149 1288.29 Q195.297 1288.29 197.126 1286.14 Q198.977 1283.96 198.977 1280.24 Q198.977 1276.49 197.126 1274.33 Q195.297 1272.18 192.149 1272.18 M201.431 1257.53 L201.431 1261.79 Q199.672 1260.95 197.866 1260.51 Q196.084 1260.07 194.325 1260.07 Q189.695 1260.07 187.241 1263.2 Q184.811 1266.32 184.464 1272.64 Q185.829 1270.63 187.89 1269.56 Q189.95 1268.48 192.427 1268.48 Q197.635 1268.48 200.644 1271.65 Q203.676 1274.8 203.676 1280.24 Q203.676 1285.56 200.528 1288.78 Q197.38 1291.99 192.149 1291.99 Q186.153 1291.99 182.982 1287.41 Q179.811 1282.8 179.811 1274.08 Q179.811 1265.88 183.7 1261.02 Q187.589 1256.14 194.14 1256.14 Q195.899 1256.14 197.681 1256.49 Q199.487 1256.83 201.431 1257.53 Z\" fill=\"#000000\" fill-rule=\"evenodd\" fill-opacity=\"1\" /><path clip-path=\"url(#clip100)\" d=\"M50.9921 904.771 L80.6679 904.771 L80.6679 908.706 L50.9921 908.706 L50.9921 904.771 Z\" fill=\"#000000\" fill-rule=\"evenodd\" fill-opacity=\"1\" /><path clip-path=\"url(#clip100)\" d=\"M91.5706 917.664 L99.2095 917.664 L99.2095 891.298 L90.8993 892.965 L90.8993 888.706 L99.1632 887.039 L103.839 887.039 L103.839 917.664 L111.478 917.664 L111.478 921.599 L91.5706 921.599 L91.5706 917.664 Z\" fill=\"#000000\" fill-rule=\"evenodd\" fill-opacity=\"1\" /><path clip-path=\"url(#clip100)\" d=\"M124.95 917.664 L141.269 917.664 L141.269 921.599 L119.325 921.599 L119.325 917.664 Q121.987 914.909 126.57 910.28 Q131.177 905.627 132.357 904.284 Q134.603 901.761 135.482 900.025 Q136.385 898.266 136.385 896.576 Q136.385 893.822 134.441 892.085 Q132.519 890.349 129.418 890.349 Q127.219 890.349 124.765 891.113 Q122.334 891.877 119.557 893.428 L119.557 888.706 Q122.381 887.572 124.834 886.993 Q127.288 886.414 129.325 886.414 Q134.695 886.414 137.89 889.099 Q141.084 891.785 141.084 896.275 Q141.084 898.405 140.274 900.326 Q139.487 902.224 137.381 904.817 Q136.802 905.488 133.7 908.706 Q130.598 911.9 124.95 917.664 Z\" fill=\"#000000\" fill-rule=\"evenodd\" fill-opacity=\"1\" /><path clip-path=\"url(#clip100)\" d=\"M165.251 902.965 Q168.607 903.683 170.482 905.951 Q172.38 908.22 172.38 911.553 Q172.38 916.669 168.862 919.47 Q165.343 922.27 158.862 922.27 Q156.686 922.27 154.371 921.831 Q152.08 921.414 149.626 920.558 L149.626 916.044 Q151.57 917.178 153.885 917.757 Q156.2 918.335 158.723 918.335 Q163.121 918.335 165.413 916.599 Q167.728 914.863 167.728 911.553 Q167.728 908.497 165.575 906.784 Q163.445 905.048 159.626 905.048 L155.598 905.048 L155.598 901.206 L159.811 901.206 Q163.26 901.206 165.089 899.84 Q166.917 898.451 166.917 895.859 Q166.917 893.197 165.019 891.785 Q163.144 890.349 159.626 890.349 Q157.705 890.349 155.505 890.766 Q153.306 891.183 150.668 892.062 L150.668 887.896 Q153.33 887.155 155.644 886.785 Q157.982 886.414 160.042 886.414 Q165.367 886.414 168.468 888.845 Q171.57 891.252 171.57 895.372 Q171.57 898.243 169.927 900.234 Q168.283 902.201 165.251 902.965 Z\" fill=\"#000000\" fill-rule=\"evenodd\" fill-opacity=\"1\" /><path clip-path=\"url(#clip100)\" d=\"M194.093 891.113 L182.288 909.562 L194.093 909.562 L194.093 891.113 M192.866 887.039 L198.746 887.039 L198.746 909.562 L203.676 909.562 L203.676 913.451 L198.746 913.451 L198.746 921.599 L194.093 921.599 L194.093 913.451 L178.491 913.451 L178.491 908.937 L192.866 887.039 Z\" fill=\"#000000\" fill-rule=\"evenodd\" fill-opacity=\"1\" /><path clip-path=\"url(#clip100)\" d=\"M53.0754 535.047 L82.7512 535.047 L82.7512 538.982 L53.0754 538.982 L53.0754 535.047 Z\" fill=\"#000000\" fill-rule=\"evenodd\" fill-opacity=\"1\" /><path clip-path=\"url(#clip100)\" d=\"M93.6539 547.94 L101.293 547.94 L101.293 521.575 L92.9826 523.241 L92.9826 518.982 L101.246 517.315 L105.922 517.315 L105.922 547.94 L113.561 547.94 L113.561 551.875 L93.6539 551.875 L93.6539 547.94 Z\" fill=\"#000000\" fill-rule=\"evenodd\" fill-opacity=\"1\" /><path clip-path=\"url(#clip100)\" d=\"M127.033 547.94 L143.353 547.94 L143.353 551.875 L121.408 551.875 L121.408 547.94 Q124.07 545.186 128.654 540.556 Q133.26 535.903 134.441 534.561 Q136.686 532.038 137.566 530.301 Q138.469 528.542 138.469 526.852 Q138.469 524.098 136.524 522.362 Q134.603 520.626 131.501 520.626 Q129.302 520.626 126.848 521.389 Q124.418 522.153 121.64 523.704 L121.64 518.982 Q124.464 517.848 126.918 517.269 Q129.371 516.69 131.408 516.69 Q136.779 516.69 139.973 519.376 Q143.168 522.061 143.168 526.551 Q143.168 528.681 142.357 530.602 Q141.57 532.5 139.464 535.093 Q138.885 535.764 135.783 538.982 Q132.682 542.176 127.033 547.94 Z\" fill=\"#000000\" fill-rule=\"evenodd\" fill-opacity=\"1\" /><path clip-path=\"url(#clip100)\" d=\"M167.334 533.241 Q170.691 533.959 172.566 536.227 Q174.464 538.496 174.464 541.829 Q174.464 546.945 170.945 549.746 Q167.427 552.547 160.945 552.547 Q158.769 552.547 156.455 552.107 Q154.163 551.69 151.709 550.834 L151.709 546.32 Q153.654 547.454 155.968 548.033 Q158.283 548.611 160.806 548.611 Q165.204 548.611 167.496 546.875 Q169.811 545.139 169.811 541.829 Q169.811 538.774 167.658 537.061 Q165.529 535.325 161.709 535.325 L157.681 535.325 L157.681 531.482 L161.894 531.482 Q165.343 531.482 167.172 530.116 Q169.001 528.727 169.001 526.135 Q169.001 523.473 167.103 522.061 Q165.228 520.626 161.709 520.626 Q159.788 520.626 157.589 521.042 Q155.39 521.459 152.751 522.338 L152.751 518.172 Q155.413 517.431 157.728 517.061 Q160.066 516.69 162.126 516.69 Q167.45 516.69 170.552 519.121 Q173.654 521.528 173.654 525.649 Q173.654 528.519 172.01 530.51 Q170.366 532.477 167.334 533.241 Z\" fill=\"#000000\" fill-rule=\"evenodd\" fill-opacity=\"1\" /><path clip-path=\"url(#clip100)\" d=\"M187.357 547.94 L203.676 547.94 L203.676 551.875 L181.732 551.875 L181.732 547.94 Q184.394 545.186 188.977 540.556 Q193.584 535.903 194.765 534.561 Q197.01 532.038 197.889 530.301 Q198.792 528.542 198.792 526.852 Q198.792 524.098 196.848 522.362 Q194.927 520.626 191.825 520.626 Q189.626 520.626 187.172 521.389 Q184.741 522.153 181.964 523.704 L181.964 518.982 Q184.788 517.848 187.241 517.269 Q189.695 516.69 191.732 516.69 Q197.102 516.69 200.297 519.376 Q203.491 522.061 203.491 526.551 Q203.491 528.681 202.681 530.602 Q201.894 532.5 199.788 535.093 Q199.209 535.764 196.107 538.982 Q193.005 542.176 187.357 547.94 Z\" fill=\"#000000\" fill-rule=\"evenodd\" fill-opacity=\"1\" /><path clip-path=\"url(#clip100)\" d=\"M51.4782 165.323 L81.154 165.323 L81.154 169.258 L51.4782 169.258 L51.4782 165.323 Z\" fill=\"#000000\" fill-rule=\"evenodd\" fill-opacity=\"1\" /><path clip-path=\"url(#clip100)\" d=\"M92.0567 178.216 L99.6956 178.216 L99.6956 151.851 L91.3854 153.517 L91.3854 149.258 L99.6493 147.592 L104.325 147.592 L104.325 178.216 L111.964 178.216 L111.964 182.152 L92.0567 182.152 L92.0567 178.216 Z\" fill=\"#000000\" fill-rule=\"evenodd\" fill-opacity=\"1\" /><path clip-path=\"url(#clip100)\" d=\"M125.436 178.216 L141.756 178.216 L141.756 182.152 L119.811 182.152 L119.811 178.216 Q122.473 175.462 127.057 170.832 Q131.663 166.179 132.844 164.837 Q135.089 162.314 135.969 160.578 Q136.871 158.818 136.871 157.129 Q136.871 154.374 134.927 152.638 Q133.006 150.902 129.904 150.902 Q127.705 150.902 125.251 151.666 Q122.82 152.429 120.043 153.98 L120.043 149.258 Q122.867 148.124 125.32 147.545 Q127.774 146.967 129.811 146.967 Q135.181 146.967 138.376 149.652 Q141.57 152.337 141.57 156.828 Q141.57 158.957 140.76 160.879 Q139.973 162.777 137.867 165.369 Q137.288 166.041 134.186 169.258 Q131.084 172.453 125.436 178.216 Z\" fill=\"#000000\" fill-rule=\"evenodd\" fill-opacity=\"1\" /><path clip-path=\"url(#clip100)\" d=\"M165.737 163.517 Q169.093 164.235 170.968 166.503 Q172.866 168.772 172.866 172.105 Q172.866 177.221 169.348 180.022 Q165.829 182.823 159.348 182.823 Q157.172 182.823 154.857 182.383 Q152.566 181.966 150.112 181.11 L150.112 176.596 Q152.056 177.73 154.371 178.309 Q156.686 178.888 159.209 178.888 Q163.607 178.888 165.899 177.152 Q168.214 175.415 168.214 172.105 Q168.214 169.05 166.061 167.337 Q163.931 165.601 160.112 165.601 L156.084 165.601 L156.084 161.758 L160.297 161.758 Q163.746 161.758 165.575 160.392 Q167.404 159.004 167.404 156.411 Q167.404 153.749 165.505 152.337 Q163.63 150.902 160.112 150.902 Q158.191 150.902 155.992 151.318 Q153.793 151.735 151.154 152.615 L151.154 148.448 Q153.816 147.707 156.13 147.337 Q158.468 146.967 160.529 146.967 Q165.853 146.967 168.954 149.397 Q172.056 151.804 172.056 155.925 Q172.056 158.795 170.413 160.786 Q168.769 162.753 165.737 163.517 Z\" fill=\"#000000\" fill-rule=\"evenodd\" fill-opacity=\"1\" /><path clip-path=\"url(#clip100)\" d=\"M191.732 150.67 Q188.121 150.67 186.292 154.235 Q184.487 157.777 184.487 164.906 Q184.487 172.013 186.292 175.577 Q188.121 179.119 191.732 179.119 Q195.366 179.119 197.172 175.577 Q199.001 172.013 199.001 164.906 Q199.001 157.777 197.172 154.235 Q195.366 150.67 191.732 150.67 M191.732 146.967 Q197.542 146.967 200.598 151.573 Q203.676 156.156 203.676 164.906 Q203.676 173.633 200.598 178.24 Q197.542 182.823 191.732 182.823 Q185.922 182.823 182.843 178.24 Q179.788 173.633 179.788 164.906 Q179.788 156.156 182.843 151.573 Q185.922 146.967 191.732 146.967 Z\" fill=\"#000000\" fill-rule=\"evenodd\" fill-opacity=\"1\" /><path clip-path=\"url(#clip100)\" d=\"M1019.62 72.576 L996.53 12.096 L1005.08 12.096 L1024.24 63.0159 L1043.44 12.096 L1051.95 12.096 L1028.9 72.576 L1019.62 72.576 Z\" fill=\"#000000\" fill-rule=\"evenodd\" fill-opacity=\"1\" /><path clip-path=\"url(#clip100)\" d=\"M1074.63 49.7694 Q1065.6 49.7694 1062.11 51.8354 Q1058.63 53.9013 1058.63 58.8839 Q1058.63 62.8538 1061.22 65.2034 Q1063.86 67.5124 1068.35 67.5124 Q1074.55 67.5124 1078.28 63.1374 Q1082.04 58.7219 1082.04 51.4303 L1082.04 49.7694 L1074.63 49.7694 M1089.5 46.6907 L1089.5 72.576 L1082.04 72.576 L1082.04 65.6895 Q1079.49 69.8214 1075.68 71.8063 Q1071.88 73.7508 1066.37 73.7508 Q1059.4 73.7508 1055.27 69.8619 Q1051.18 65.9325 1051.18 59.3701 Q1051.18 51.7138 1056.28 47.825 Q1061.43 43.9361 1071.59 43.9361 L1082.04 43.9361 L1082.04 43.2069 Q1082.04 38.0623 1078.64 35.2672 Q1075.28 32.4315 1069.16 32.4315 Q1065.27 32.4315 1061.59 33.3632 Q1057.9 34.295 1054.5 36.1584 L1054.5 29.2718 Q1058.59 27.692 1062.44 26.9223 Q1066.29 26.1121 1069.93 26.1121 Q1079.78 26.1121 1084.64 31.2163 Q1089.5 36.3204 1089.5 46.6907 Z\" fill=\"#000000\" fill-rule=\"evenodd\" fill-opacity=\"1\" /><path clip-path=\"url(#clip100)\" d=\"M1104.85 9.54393 L1112.31 9.54393 L1112.31 72.576 L1104.85 72.576 L1104.85 9.54393 Z\" fill=\"#000000\" fill-rule=\"evenodd\" fill-opacity=\"1\" /><path clip-path=\"url(#clip100)\" d=\"M1127.13 54.671 L1127.13 27.2059 L1134.59 27.2059 L1134.59 54.3874 Q1134.59 60.8284 1137.1 64.0691 Q1139.61 67.2693 1144.63 67.2693 Q1150.67 67.2693 1154.15 63.421 Q1157.68 59.5726 1157.68 52.9291 L1157.68 27.2059 L1165.13 27.2059 L1165.13 72.576 L1157.68 72.576 L1157.68 65.6084 Q1154.96 69.7404 1151.36 71.7658 Q1147.79 73.7508 1143.05 73.7508 Q1135.23 73.7508 1131.18 68.8897 Q1127.13 64.0286 1127.13 54.671 M1145.89 26.1121 L1145.89 26.1121 Z\" fill=\"#000000\" fill-rule=\"evenodd\" fill-opacity=\"1\" /><path clip-path=\"url(#clip100)\" d=\"M1219.29 48.0275 L1219.29 51.6733 L1185.02 51.6733 Q1185.5 59.3701 1189.64 63.421 Q1193.81 67.4314 1201.22 67.4314 Q1205.52 67.4314 1209.53 66.3781 Q1213.58 65.3249 1217.55 63.2184 L1217.55 70.267 Q1213.54 71.9684 1209.32 72.8596 Q1205.11 73.7508 1200.78 73.7508 Q1189.92 73.7508 1183.56 67.4314 Q1177.24 61.1119 1177.24 50.3365 Q1177.24 39.1965 1183.24 32.6746 Q1189.27 26.1121 1199.48 26.1121 Q1208.64 26.1121 1213.94 32.0264 Q1219.29 37.9003 1219.29 48.0275 M1211.84 45.84 Q1211.75 39.7232 1208.39 36.0774 Q1205.07 32.4315 1199.56 32.4315 Q1193.32 32.4315 1189.56 35.9558 Q1185.83 39.4801 1185.26 45.8805 L1211.84 45.84 Z\" fill=\"#000000\" fill-rule=\"evenodd\" fill-opacity=\"1\" /><path clip-path=\"url(#clip100)\" d=\"M1258.22 12.096 L1292.98 12.096 L1292.98 18.9825 L1266.4 18.9825 L1266.4 36.8065 L1290.38 36.8065 L1290.38 43.6931 L1266.4 43.6931 L1266.4 72.576 L1258.22 72.576 L1258.22 12.096 Z\" fill=\"#000000\" fill-rule=\"evenodd\" fill-opacity=\"1\" /><path clip-path=\"url(#clip100)\" d=\"M1300.31 54.671 L1300.31 27.2059 L1307.76 27.2059 L1307.76 54.3874 Q1307.76 60.8284 1310.27 64.0691 Q1312.78 67.2693 1317.81 67.2693 Q1323.84 67.2693 1327.33 63.421 Q1330.85 59.5726 1330.85 52.9291 L1330.85 27.2059 L1338.31 27.2059 L1338.31 72.576 L1330.85 72.576 L1330.85 65.6084 Q1328.14 69.7404 1324.53 71.7658 Q1320.97 73.7508 1316.23 73.7508 Q1308.41 73.7508 1304.36 68.8897 Q1300.31 64.0286 1300.31 54.671 M1319.06 26.1121 L1319.06 26.1121 Z\" fill=\"#000000\" fill-rule=\"evenodd\" fill-opacity=\"1\" /><path clip-path=\"url(#clip100)\" d=\"M1391.37 45.1919 L1391.37 72.576 L1383.92 72.576 L1383.92 45.4349 Q1383.92 38.994 1381.41 35.7938 Q1378.9 32.5936 1373.87 32.5936 Q1367.84 32.5936 1364.35 36.4419 Q1360.87 40.2903 1360.87 46.9338 L1360.87 72.576 L1353.37 72.576 L1353.37 27.2059 L1360.87 27.2059 L1360.87 34.2544 Q1363.54 30.163 1367.15 28.1376 Q1370.79 26.1121 1375.53 26.1121 Q1383.35 26.1121 1387.36 30.9732 Q1391.37 35.7938 1391.37 45.1919 Z\" fill=\"#000000\" fill-rule=\"evenodd\" fill-opacity=\"1\" /><path clip-path=\"url(#clip100)\" d=\"M1438.89 28.9478 L1438.89 35.9153 Q1435.73 34.1734 1432.53 33.3227 Q1429.37 32.4315 1426.13 32.4315 Q1418.88 32.4315 1414.87 37.0496 Q1410.86 41.6271 1410.86 49.9314 Q1410.86 58.2358 1414.87 62.8538 Q1418.88 67.4314 1426.13 67.4314 Q1429.37 67.4314 1432.53 66.5807 Q1435.73 65.6895 1438.89 63.9476 L1438.89 70.8341 Q1435.77 72.2924 1432.41 73.0216 Q1429.09 73.7508 1425.32 73.7508 Q1415.07 73.7508 1409.03 67.3098 Q1403 60.8689 1403 49.9314 Q1403 38.832 1409.07 32.472 Q1415.19 26.1121 1425.8 26.1121 Q1429.25 26.1121 1432.53 26.8413 Q1435.81 27.5299 1438.89 28.9478 Z\" fill=\"#000000\" fill-rule=\"evenodd\" fill-opacity=\"1\" /><path clip-path=\"url(#clip100)\" d=\"M1459.22 14.324 L1459.22 27.2059 L1474.58 27.2059 L1474.58 32.9987 L1459.22 32.9987 L1459.22 57.6282 Q1459.22 63.1779 1460.72 64.7578 Q1462.26 66.3376 1466.92 66.3376 L1474.58 66.3376 L1474.58 72.576 L1466.92 72.576 Q1458.29 72.576 1455.01 69.3758 Q1451.73 66.1351 1451.73 57.6282 L1451.73 32.9987 L1446.26 32.9987 L1446.26 27.2059 L1451.73 27.2059 L1451.73 14.324 L1459.22 14.324 Z\" fill=\"#000000\" fill-rule=\"evenodd\" fill-opacity=\"1\" /><path clip-path=\"url(#clip100)\" d=\"M1484.38 27.2059 L1491.83 27.2059 L1491.83 72.576 L1484.38 72.576 L1484.38 27.2059 M1484.38 9.54393 L1491.83 9.54393 L1491.83 18.9825 L1484.38 18.9825 L1484.38 9.54393 Z\" fill=\"#000000\" fill-rule=\"evenodd\" fill-opacity=\"1\" /><path clip-path=\"url(#clip100)\" d=\"M1525.01 32.4315 Q1519.02 32.4315 1515.53 37.1306 Q1512.05 41.7891 1512.05 49.9314 Q1512.05 58.0738 1515.49 62.7728 Q1518.98 67.4314 1525.01 67.4314 Q1530.97 67.4314 1534.45 62.7323 Q1537.93 58.0333 1537.93 49.9314 Q1537.93 41.8701 1534.45 37.1711 Q1530.97 32.4315 1525.01 32.4315 M1525.01 26.1121 Q1534.73 26.1121 1540.28 32.4315 Q1545.83 38.7509 1545.83 49.9314 Q1545.83 61.0714 1540.28 67.4314 Q1534.73 73.7508 1525.01 73.7508 Q1515.25 73.7508 1509.7 67.4314 Q1504.19 61.0714 1504.19 49.9314 Q1504.19 38.7509 1509.7 32.4315 Q1515.25 26.1121 1525.01 26.1121 Z\" fill=\"#000000\" fill-rule=\"evenodd\" fill-opacity=\"1\" /><path clip-path=\"url(#clip100)\" d=\"M1595.9 45.1919 L1595.9 72.576 L1588.45 72.576 L1588.45 45.4349 Q1588.45 38.994 1585.94 35.7938 Q1583.43 32.5936 1578.4 32.5936 Q1572.37 32.5936 1568.88 36.4419 Q1565.4 40.2903 1565.4 46.9338 L1565.4 72.576 L1557.9 72.576 L1557.9 27.2059 L1565.4 27.2059 L1565.4 34.2544 Q1568.07 30.163 1571.68 28.1376 Q1575.32 26.1121 1580.06 26.1121 Q1587.88 26.1121 1591.89 30.9732 Q1595.9 35.7938 1595.9 45.1919 Z\" fill=\"#000000\" fill-rule=\"evenodd\" fill-opacity=\"1\" /><polyline clip-path=\"url(#clip102)\" style=\"stroke:#009af9; stroke-linecap:round; stroke-linejoin:round; stroke-width:12; stroke-opacity:1; fill:none\" points=\"299.481,162.047 321.879,195.797 344.278,228.996 366.676,261.644 389.075,293.743 411.473,325.292 433.872,356.292 456.27,386.744 478.669,416.65 501.068,446.009 523.466,474.824 545.865,503.095 568.263,530.825 590.662,558.014 613.06,584.665 635.459,610.78 657.857,636.362 680.256,661.413 702.655,685.935 725.053,709.933 747.452,733.409 769.85,756.367 792.249,778.812 814.647,800.747 837.046,822.177 859.444,843.108 881.843,863.544 904.242,883.49 926.64,902.954 949.039,921.94 971.437,940.456 993.836,958.509 1016.23,976.104 1038.63,993.25 1061.03,1009.95 1083.43,1026.22 1105.83,1042.07 1128.23,1057.49 1150.63,1072.5 1173.02,1087.12 1195.42,1101.34 1217.82,1115.17 1240.22,1128.63 1262.62,1141.72 1285.02,1154.45 1307.42,1166.83 1329.81,1178.87 1352.21,1190.58 1374.61,1201.96 1397.01,1213.03 1419.41,1223.79 1441.81,1234.24 1464.21,1244.41 1486.6,1254.28 1509,1263.88 1531.4,1273.21 1553.8,1282.28 1576.2,1291.09 1598.6,1299.64 1621,1307.96 1643.39,1316.03 1665.79,1323.86 1688.19,1331.47 1710.59,1338.85 1732.99,1346.01 1755.39,1352.96 1777.79,1359.68 1800.18,1366.19 1822.58,1372.49 1844.98,1378.59 1867.38,1384.47 1889.78,1390.13 1912.18,1395.59 1934.57,1400.83 1956.97,1405.86 1979.37,1410.66 2001.77,1415.23 2024.17,1419.57 2046.57,1423.66 2068.97,1427.49 2091.36,1431.06 2113.76,1434.35 2136.16,1437.34 2158.56,1440 2180.96,1442.33 2203.36,1444.3 2225.76,1445.86 2248.15,1447.01 2270.55,1447.69 2292.95,1447.87 \"/>\n",
       "<path clip-path=\"url(#clip100)\" d=\"M2013.67 272.585 L2282.32 272.585 L2282.32 168.905 L2013.67 168.905  Z\" fill=\"#ffffff\" fill-rule=\"evenodd\" fill-opacity=\"1\"/>\n",
       "<polyline clip-path=\"url(#clip100)\" style=\"stroke:#000000; stroke-linecap:round; stroke-linejoin:round; stroke-width:4; stroke-opacity:1; fill:none\" points=\"2013.67,272.585 2282.32,272.585 2282.32,168.905 2013.67,168.905 2013.67,272.585 \"/>\n",
       "<polyline clip-path=\"url(#clip100)\" style=\"stroke:#009af9; stroke-linecap:round; stroke-linejoin:round; stroke-width:12; stroke-opacity:1; fill:none\" points=\"2037.15,220.745 2178.02,220.745 \"/>\n",
       "<path clip-path=\"url(#clip100)\" d=\"M2201.5 203.465 L2223.36 203.465 L2223.36 207.4 L2206.18 207.4 L2206.18 217.631 L2222.64 217.631 L2222.64 221.566 L2206.18 221.566 L2206.18 234.089 L2223.77 234.089 L2223.77 238.025 L2201.5 238.025 L2201.5 203.465 Z\" fill=\"#000000\" fill-rule=\"evenodd\" fill-opacity=\"1\" /><path clip-path=\"url(#clip100)\" d=\"M2240.37 238.025 L2227.17 203.465 L2232.06 203.465 L2243.01 232.562 L2253.98 203.465 L2258.84 203.465 L2245.67 238.025 L2240.37 238.025 Z\" fill=\"#000000\" fill-rule=\"evenodd\" fill-opacity=\"1\" /></svg>\n"
      ]
     },
     "execution_count": 8,
     "metadata": {},
     "output_type": "execute_result"
    }
   ],
   "source": [
    "EV = compute_Vbar([2.0, 10.0], P, 0.9999, 1e-3, 300000, true)\n",
    "x = 1:90\n",
    "plot(x, EV, title=\"Value Function\", label=\"EV\", linewidth=3)"
   ]
  },
  {
   "cell_type": "markdown",
   "id": "e8b3b8cc",
   "metadata": {
    "slideshow": {
     "slide_type": "slide"
    }
   },
   "source": [
    "# Step 3: Searching for the parameters by ML (Outer Loop)"
   ]
  },
  {
   "cell_type": "code",
   "execution_count": 17,
   "id": "c923df2f",
   "metadata": {},
   "outputs": [
    {
     "data": {
      "text/plain": [
       "conditional_probability (generic function with 1 method)"
      ]
     },
     "execution_count": 17,
     "metadata": {},
     "output_type": "execute_result"
    }
   ],
   "source": [
    "function conditional_probability(θ::Vector, P::Matrix, β::Float64, \n",
    "                                 tol::Float64, max_iter::Int64, print_flag::Bool)::Tuple\n",
    "    \"\"\"\n",
    "    This function compute the conditional probability using the logit formula\n",
    "\n",
    "    Input:\n",
    "    - same as compute_Vbar()\n",
    "\n",
    "    Ouput:\n",
    "    - CCPs\n",
    "    \"\"\"\n",
    "    \n",
    "    # solve the model for the value function\n",
    "    EV = compute_Vbar(θ, P, β, tol, max_iter, print_flag)\n",
    "    \n",
    "    # calculate the CCPs\n",
    "    x = collect(1:90)\n",
    "    T = 90\n",
    "    wait = per_period_payoff(θ, 0.0, x) + β*EV\n",
    "    x_replace = ones(Int64, T)\n",
    "    replace = per_period_payoff(θ, 1.0, x_replace) .+ β*EV[1]\n",
    "    P_wait = 1 ./ (1 .+ (exp.(replace .- wait)))\n",
    "    P_replace = 1 .- P_wait\n",
    "\n",
    "    return P_wait, P_replace\n",
    "end"
   ]
  },
  {
   "cell_type": "code",
   "execution_count": 22,
   "id": "cd0df0e1",
   "metadata": {},
   "outputs": [
    {
     "data": {
      "text/plain": [
       "log_likelihood (generic function with 1 method)"
      ]
     },
     "execution_count": 22,
     "metadata": {},
     "output_type": "execute_result"
    }
   ],
   "source": [
    "function log_likelihood(θ::Vector, data::DataFrame, p::Float64, q::Float64,\n",
    "    β::Float64, tol::Float64, max_iter::Int64, print_flag::Bool)::Float64\n",
    "    \"\"\"\n",
    "    This function takes in the data and the guess of the parameters to go thru all the steps and calculate the log log_likelihood\n",
    "\n",
    "    Input:\n",
    "    - θ: parameters guesses  \n",
    "    - data: pairs of (state, action)\n",
    "    - (p,q): estimated transition conditional_probability\n",
    "    - β, tol, max_iter, print_flag: same as in compute_Vbar\n",
    "\n",
    "    Output:\n",
    "    - Log likelihood to be maximized\n",
    "    \"\"\"\n",
    "    if print_flag == true\n",
    "        println(\"Current parameters are $θ\")\n",
    "    end\n",
    "\n",
    "    # make the transition matrix\n",
    "    P = transition_matrix(90, p, q)\n",
    "    \n",
    "    # Solve the inner loop to get the CCPs\n",
    "    p_wait, p_replace = conditional_probability(θ, P, β, tol, max_iter, print_flag)\n",
    "    \n",
    "    # sum of all the log(prob) \n",
    "    log_likelihood = 0\n",
    "\n",
    "    # this loop looks very bad because I don't really know how to work with df in Julia..\n",
    "    for i in 1:size(df)[1]\n",
    "        if df.decision[i] == 0.0\n",
    "            log_likelihood += log(p_wait[df.state[i] + 1])\n",
    "        elseif df.decision[i] == 1.0\n",
    "            log_likelihood += log(p_replace[df.state[i] + 1])\n",
    "        end\n",
    "    end\n",
    "\n",
    "    \n",
    "    return -log_likelihood\n",
    "end"
   ]
  },
  {
   "cell_type": "code",
   "execution_count": 24,
   "id": "5886133d",
   "metadata": {},
   "outputs": [
    {
     "name": "stdout",
     "output_type": "stream",
     "text": [
      " 39.795127 seconds (44.46 M allocations: 30.593 GiB, 13.64% gc time, 0.10% compilation time)\n"
     ]
    },
    {
     "data": {
      "text/plain": [
       " * Status: success\n",
       "\n",
       " * Candidate solution\n",
       "    Final objective value:     2.961049e+02\n",
       "\n",
       " * Found with\n",
       "    Algorithm:     Nelder-Mead\n",
       "\n",
       " * Convergence measures\n",
       "    √(Σ(yᵢ-ȳ)²)/n ≤ 1.0e-08\n",
       "\n",
       " * Work counters\n",
       "    Seconds run:   38  (vs limit Inf)\n",
       "    Iterations:    38\n",
       "    f(x) calls:    76\n"
      ]
     },
     "execution_count": 24,
     "metadata": {},
     "output_type": "execute_result"
    }
   ],
   "source": [
    "@time result = optimize(x -> log_likelihood(x, df, p, q, 0.9999, 1e-3, 300000, false), [1.0, 5.0])\n"
   ]
  },
  {
   "cell_type": "code",
   "execution_count": 27,
   "id": "eaa31590",
   "metadata": {},
   "outputs": [
    {
     "name": "stdout",
     "output_type": "stream",
     "text": [
      "Successfully optimized! Cost parameter is 2.616121255861131 and replacement cost is 9.89488656672712\n"
     ]
    }
   ],
   "source": [
    "cost_parameter = result.minimizer[1]\n",
    "replacement_cost = result.minimizer[2]\n",
    "println(\"Successfully optimized! Cost parameter is $cost_parameter and replacement cost is $replacement_cost\")"
   ]
  },
  {
   "cell_type": "markdown",
   "id": "5a221c6a",
   "metadata": {},
   "source": [
    "This is pretty close to groups 1,2,3,4 of table IX in Rust paper!"
   ]
  },
  {
   "cell_type": "markdown",
   "id": "fdb623e8",
   "metadata": {
    "slideshow": {
     "slide_type": "slide"
    }
   },
   "source": [
    "# Applications\n",
    "\n",
    "- IO:\n",
    "  - Investment Decision: Rust (1987), \n",
    "  - Innovation: Igami ()\n",
    " "
   ]
  },
  {
   "cell_type": "markdown",
   "id": "b0a4f696",
   "metadata": {
    "slideshow": {
     "slide_type": "subslide"
    }
   },
   "source": [
    "- Energy & Environmental:\n",
    "  - Eiseinberg ()\n",
    "  - Cullen (2013)"
   ]
  },
  {
   "cell_type": "markdown",
   "id": "bd9fd215",
   "metadata": {
    "slideshow": {
     "slide_type": "subslide"
    }
   },
   "source": [
    "- Labor:\n",
    "  - Rust ...\n",
    "  - ...."
   ]
  },
  {
   "cell_type": "markdown",
   "id": "800ef2cc",
   "metadata": {
    "slideshow": {
     "slide_type": "slide"
    }
   },
   "source": [
    "# Conclusion\n",
    "\n",
    "- Rust (1987) provides an estimation routine that is still widely used today\n",
    "- The model inspires many structural papers in different fields"
   ]
  },
  {
   "cell_type": "code",
   "execution_count": null,
   "id": "77b63448",
   "metadata": {},
   "outputs": [],
   "source": []
  }
 ],
 "metadata": {
  "celltoolbar": "Hide code",
  "kernelspec": {
   "display_name": "Julia 1.8.5",
   "language": "julia",
   "name": "julia-1.8"
  },
  "language_info": {
   "file_extension": ".jl",
   "mimetype": "application/julia",
   "name": "julia",
   "version": "1.8.5"
  },
  "varInspector": {
   "cols": {
    "lenName": 16,
    "lenType": 16,
    "lenVar": 40
   },
   "kernels_config": {
    "python": {
     "delete_cmd_postfix": "",
     "delete_cmd_prefix": "del ",
     "library": "var_list.py",
     "varRefreshCmd": "print(var_dic_list())"
    },
    "r": {
     "delete_cmd_postfix": ") ",
     "delete_cmd_prefix": "rm(",
     "library": "var_list.r",
     "varRefreshCmd": "cat(var_dic_list()) "
    }
   },
   "types_to_exclude": [
    "module",
    "function",
    "builtin_function_or_method",
    "instance",
    "_Feature"
   ],
   "window_display": false
  }
 },
 "nbformat": 4,
 "nbformat_minor": 5
}
