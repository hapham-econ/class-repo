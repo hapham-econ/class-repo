{
 "cells": [
  {
   "cell_type": "markdown",
   "id": "9572d5e9",
   "metadata": {},
   "source": [
    "This notebook clean the OG Rust(1987) data in ACSII. The code is borrowed from https://notes.quantecon.org/submission/6234fe0f96e1ce001b61fad8."
   ]
  },
  {
   "cell_type": "code",
   "execution_count": 2,
   "id": "3bfd709f",
   "metadata": {},
   "outputs": [],
   "source": [
    "import pandas as pd \n",
    "import numpy as np\n",
    "import os"
   ]
  },
  {
   "cell_type": "code",
   "execution_count": 3,
   "id": "4627af74",
   "metadata": {},
   "outputs": [
    {
     "data": {
      "text/plain": [
       "'C:\\\\Users\\\\phamv\\\\Dropbox\\\\PHD\\\\AEM 7130 - Dynamic\\\\class-repo\\\\paper-presentation'"
      ]
     },
     "execution_count": 3,
     "metadata": {},
     "output_type": "execute_result"
    }
   ],
   "source": [
    "os.getcwd()"
   ]
  },
  {
   "cell_type": "code",
   "execution_count": 4,
   "id": "15b51cd9",
   "metadata": {},
   "outputs": [],
   "source": [
    "# Import the raw data\n",
    "b1_raw = pd.read_csv(r'.\\OpenSourceEconomics-zurcher-data-43d37bd\\data\\original_data\\g870.asc', header=None)\n",
    "b1_raw = pd.DataFrame(b1_raw.values.reshape((15, int(len(b1_raw) / 15)))).T\n",
    "\n",
    "b2_raw = pd.read_csv(r'.\\OpenSourceEconomics-zurcher-data-43d37bd\\data\\original_data\\rt50.asc', header=None)\n",
    "b2_raw = pd.DataFrame(b2_raw.values.reshape((4, int(len(b2_raw) / 4)))).T\n",
    "\n",
    "b3_raw = pd.read_csv(r'.\\OpenSourceEconomics-zurcher-data-43d37bd\\data\\original_data\\t8h203.asc', header=None)\n",
    "b3_raw = pd.DataFrame(b3_raw.values.reshape((48, int(len(b3_raw) / 48)))).T\n",
    "\n",
    "b4_raw = pd.read_csv(r'.\\OpenSourceEconomics-zurcher-data-43d37bd\\data\\original_data\\a530875.asc', header=None)\n",
    "b4_raw = pd.DataFrame(b4_raw.values.reshape((37, int(len(b4_raw) / 37)))).T"
   ]
  },
  {
   "cell_type": "code",
   "execution_count": 5,
   "id": "7d1e049d",
   "metadata": {},
   "outputs": [],
   "source": [
    "def extract_info(b):\n",
    "\n",
    "    # Create separate dataframe for bus info\n",
    "    new_index = ['' for x in range(11)]\n",
    "    new_index[0] = 'bus_number'\n",
    "    new_index[1] = 'month_purchased'\n",
    "    new_index[2] = 'year_purchased'\n",
    "    new_index[3] = 'month_replacement_1'\n",
    "    new_index[4] = 'year_replacement_1'\n",
    "    new_index[5] = 'odometer_replacement_1'\n",
    "    new_index[6] = 'month_replacement_2'\n",
    "    new_index[7] = 'year_replacement_2'\n",
    "    new_index[8] = 'odometer_replacement_2'\n",
    "    new_index[9] = 'month_begin'\n",
    "    new_index[10] = 'year_begin'\n",
    "    b_info = b.iloc[:11]\n",
    "    b_info.index = new_index\n",
    "    b_info = b_info.T.set_index('bus_number').T\n",
    "    \n",
    "    # Set bus number to be column headers\n",
    "    b = b.T.set_index([0]).T\n",
    "\n",
    "    # Drop bus info\n",
    "    b = b[10:]\n",
    "\n",
    "    # Add dates to row index\n",
    "    month = b_info.loc[\"month_begin\"].values[0]\n",
    "    year = b_info.loc[\"year_begin\"].values[0]\n",
    "    b.index = pd.date_range(f\"{year}-{month}-01\", periods=len(b), freq=\"MS\")\n",
    "\n",
    "    # Fix month and years of odometer replacements to be date corresponding to odometer replacement\n",
    "    # Rust points out this differs in some cases\n",
    "    col_map = pd.DataFrame(b.columns).to_dict()[0]\n",
    "    for o in ['1', '2']:\n",
    "        x, y = np.where(b > b_info.loc[f'odometer_replacement_{o}', :])\n",
    "        replacement = pd.DataFrame([x, y], index=['row', 'column']).T\n",
    "        replacement = replacement.groupby('column').min()\n",
    "        replacement.index = replacement.index.map(col_map)\n",
    "        replacement[f'month_{o}'] = replacement['row'].apply(lambda x: b.index[x].month)\n",
    "        replacement[f'year_{o}'] = replacement['row'].apply(lambda x: np.mod(b.index[x].year, 1900))\n",
    "        replacement[f'replace_{o}'] = replacement['row'].apply(lambda x: pd.Timestamp(year=b.index[x].year, month=b.index[x].month, day=1))\n",
    "        replacement[replacement.row == 0] = 0\n",
    "        # Append checks to dataframe\n",
    "        replacement = replacement.drop('row', axis=1)\n",
    "        b_info = pd.concat([b_info, replacement.T])\n",
    "\n",
    "    return b_info, b"
   ]
  },
  {
   "cell_type": "code",
   "execution_count": 6,
   "id": "cfaec7eb",
   "metadata": {},
   "outputs": [],
   "source": [
    "def update_b(b, b_info):\n",
    "    '''Resets mileage after replacement and returns investment decision matrix'''\n",
    "\n",
    "    b_reset = b.copy()\n",
    "    b_i = b.copy()\n",
    "    b_i[:] = 0\n",
    "\n",
    "    for col in b.iteritems():\n",
    "\n",
    "        bus_number = col[0]\n",
    "        bus_info = b_info[bus_number].copy()\n",
    "\n",
    "        for r in ('1'):\n",
    "            replace_date = bus_info[f'replace_{r}']\n",
    "\n",
    "            if replace_date != 0:\n",
    "\n",
    "                if r == '1':\n",
    "                    odometer_replacement = b.loc[replace_date, bus_number]\n",
    "\n",
    "                if r == '2':\n",
    "                    # Subtract mileage from earlier replacement\n",
    "                    replace_date_1 = bus_info[f'replace_1']\n",
    "                    previous_mileage = b.loc[replace_date_1, bus_number]\n",
    "                    odometer_replacement = b.loc[replace_date, bus_number] - previous_mileage\n",
    "                \n",
    "                bus_odometer = b_reset[bus_number].copy()\n",
    "                \n",
    "                # Find replacement date then subtract odometer replacement value from\n",
    "                # odometer readings after replacement\n",
    "                bus_odometer[bus_odometer.index > replace_date] -= odometer_replacement\n",
    "                b_reset[bus_number] = bus_odometer\n",
    "\n",
    "                # Set decision = 1 on replacement date\n",
    "                b_i.loc[replace_date, bus_number] = 1\n",
    "\n",
    "    return b, b_reset, b_i"
   ]
  },
  {
   "cell_type": "code",
   "execution_count": 7,
   "id": "62531da4",
   "metadata": {},
   "outputs": [],
   "source": [
    "def discretize(b, d=5000):\n",
    "    '''Discretizes odometer data into buckets of length d'''\n",
    "\n",
    "    return np.floor(b / d)"
   ]
  },
  {
   "cell_type": "code",
   "execution_count": 8,
   "id": "b8ea03f0",
   "metadata": {},
   "outputs": [],
   "source": [
    "# Extract information from the raw datasets\n",
    "b1_info, b1 = extract_info(b1_raw)\n",
    "b2_info, b2 = extract_info(b2_raw)\n",
    "b3_info, b3 = extract_info(b3_raw)\n",
    "b4_info, b4 = extract_info(b4_raw)\n",
    "\n",
    "# Get relevant data and merge\n",
    "b1, b1_reset, b1_i = update_b(b1, b1_info)\n",
    "b2, b2_reset, b2_i = update_b(b2, b2_info)\n",
    "b3, b3_reset, b3_i = update_b(b3, b3_info)\n",
    "b4, b4_reset, b4_i = update_b(b4, b4_info)\n",
    "\n",
    "b = pd.concat([b1, b2, b3, b4], axis=1, join='outer')\n",
    "b_reset = pd.concat([b1_reset, b2_reset, b3_reset, b4_reset], axis=1, join='outer')\n",
    "b_i = pd.concat([b1_i, b2_i, b3_i, b4_i], axis=1, join='outer')\n",
    "\n",
    "# Create dataframe for likelihood estimation\n",
    "b_data = pd.concat([discretize(b_reset.T.stack()), b_i.T.stack()], axis=1)\n",
    "b_data.columns = ['state', 'decision']"
   ]
  },
  {
   "cell_type": "code",
   "execution_count": 29,
   "id": "b4364730",
   "metadata": {},
   "outputs": [
    {
     "data": {
      "text/html": [
       "<div>\n",
       "<style scoped>\n",
       "    .dataframe tbody tr th:only-of-type {\n",
       "        vertical-align: middle;\n",
       "    }\n",
       "\n",
       "    .dataframe tbody tr th {\n",
       "        vertical-align: top;\n",
       "    }\n",
       "\n",
       "    .dataframe thead th {\n",
       "        text-align: right;\n",
       "    }\n",
       "</style>\n",
       "<table border=\"1\" class=\"dataframe\">\n",
       "  <thead>\n",
       "    <tr style=\"text-align: right;\">\n",
       "      <th></th>\n",
       "      <th></th>\n",
       "      <th>state</th>\n",
       "      <th>decision</th>\n",
       "    </tr>\n",
       "    <tr>\n",
       "      <th>0</th>\n",
       "      <th></th>\n",
       "      <th></th>\n",
       "      <th></th>\n",
       "    </tr>\n",
       "  </thead>\n",
       "  <tbody>\n",
       "    <tr>\n",
       "      <th rowspan=\"5\" valign=\"top\">4403</th>\n",
       "      <th>1983-05-01</th>\n",
       "      <td>0.0</td>\n",
       "      <td>0.0</td>\n",
       "    </tr>\n",
       "    <tr>\n",
       "      <th>1983-06-01</th>\n",
       "      <td>0.0</td>\n",
       "      <td>0.0</td>\n",
       "    </tr>\n",
       "    <tr>\n",
       "      <th>1983-07-01</th>\n",
       "      <td>1.0</td>\n",
       "      <td>0.0</td>\n",
       "    </tr>\n",
       "    <tr>\n",
       "      <th>1983-08-01</th>\n",
       "      <td>2.0</td>\n",
       "      <td>0.0</td>\n",
       "    </tr>\n",
       "    <tr>\n",
       "      <th>1983-09-01</th>\n",
       "      <td>3.0</td>\n",
       "      <td>0.0</td>\n",
       "    </tr>\n",
       "    <tr>\n",
       "      <th>...</th>\n",
       "      <th>...</th>\n",
       "      <td>...</td>\n",
       "      <td>...</td>\n",
       "    </tr>\n",
       "    <tr>\n",
       "      <th rowspan=\"5\" valign=\"top\">5333</th>\n",
       "      <th>1985-01-01</th>\n",
       "      <td>68.0</td>\n",
       "      <td>0.0</td>\n",
       "    </tr>\n",
       "    <tr>\n",
       "      <th>1985-02-01</th>\n",
       "      <td>68.0</td>\n",
       "      <td>0.0</td>\n",
       "    </tr>\n",
       "    <tr>\n",
       "      <th>1985-03-01</th>\n",
       "      <td>69.0</td>\n",
       "      <td>0.0</td>\n",
       "    </tr>\n",
       "    <tr>\n",
       "      <th>1985-04-01</th>\n",
       "      <td>69.0</td>\n",
       "      <td>0.0</td>\n",
       "    </tr>\n",
       "    <tr>\n",
       "      <th>1985-05-01</th>\n",
       "      <td>69.0</td>\n",
       "      <td>0.0</td>\n",
       "    </tr>\n",
       "  </tbody>\n",
       "</table>\n",
       "<p>8260 rows × 2 columns</p>\n",
       "</div>"
      ],
      "text/plain": [
       "                 state  decision\n",
       "0                               \n",
       "4403 1983-05-01    0.0       0.0\n",
       "     1983-06-01    0.0       0.0\n",
       "     1983-07-01    1.0       0.0\n",
       "     1983-08-01    2.0       0.0\n",
       "     1983-09-01    3.0       0.0\n",
       "...                ...       ...\n",
       "5333 1985-01-01   68.0       0.0\n",
       "     1985-02-01   68.0       0.0\n",
       "     1985-03-01   69.0       0.0\n",
       "     1985-04-01   69.0       0.0\n",
       "     1985-05-01   69.0       0.0\n",
       "\n",
       "[8260 rows x 2 columns]"
      ]
     },
     "execution_count": 29,
     "metadata": {},
     "output_type": "execute_result"
    }
   ],
   "source": [
    "b_data"
   ]
  },
  {
   "cell_type": "code",
   "execution_count": 38,
   "id": "e2d14090",
   "metadata": {},
   "outputs": [
    {
     "data": {
      "text/plain": [
       "MultiIndex([(4403, '1983-05-01'),\n",
       "            (4403, '1983-06-01'),\n",
       "            (4403, '1983-07-01'),\n",
       "            (4403, '1983-08-01'),\n",
       "            (4403, '1983-09-01'),\n",
       "            (4403, '1983-10-01'),\n",
       "            (4403, '1983-11-01'),\n",
       "            (4403, '1983-12-01'),\n",
       "            (4403, '1984-01-01'),\n",
       "            (4403, '1984-02-01'),\n",
       "            ...\n",
       "            (5333, '1984-08-01'),\n",
       "            (5333, '1984-09-01'),\n",
       "            (5333, '1984-10-01'),\n",
       "            (5333, '1984-11-01'),\n",
       "            (5333, '1984-12-01'),\n",
       "            (5333, '1985-01-01'),\n",
       "            (5333, '1985-02-01'),\n",
       "            (5333, '1985-03-01'),\n",
       "            (5333, '1985-04-01'),\n",
       "            (5333, '1985-05-01')],\n",
       "           names=[0, None], length=8260)"
      ]
     },
     "execution_count": 38,
     "metadata": {},
     "output_type": "execute_result"
    }
   ],
   "source": [
    "b_data[b_data]"
   ]
  },
  {
   "cell_type": "code",
   "execution_count": 22,
   "id": "a2115252",
   "metadata": {},
   "outputs": [
    {
     "data": {
      "text/plain": [
       "4403  1983-05-01     0.0\n",
       "      1983-06-01     0.0\n",
       "      1983-07-01     1.0\n",
       "      1983-08-01     2.0\n",
       "      1983-09-01     3.0\n",
       "                    ... \n",
       "5333  1985-01-01    68.0\n",
       "      1985-02-01    68.0\n",
       "      1985-03-01    69.0\n",
       "      1985-04-01    69.0\n",
       "      1985-05-01    69.0\n",
       "Length: 8260, dtype: float64"
      ]
     },
     "execution_count": 22,
     "metadata": {},
     "output_type": "execute_result"
    }
   ],
   "source": [
    "discretize(b_reset.T.stack())\n"
   ]
  },
  {
   "cell_type": "code",
   "execution_count": 18,
   "id": "748cec90",
   "metadata": {},
   "outputs": [],
   "source": [
    "N = b_state.notna().sum().sum()\n",
    "p = (b_state == 0).sum().sum() / N\n",
    "#q = (b_state == 1).sum().sum() / N\n",
    "#(p, q)"
   ]
  },
  {
   "cell_type": "code",
   "execution_count": 19,
   "id": "8e4a637f",
   "metadata": {},
   "outputs": [
    {
     "data": {
      "text/plain": [
       "8156"
      ]
     },
     "execution_count": 19,
     "metadata": {},
     "output_type": "execute_result"
    }
   ],
   "source": [
    "N\n"
   ]
  },
  {
   "cell_type": "code",
   "execution_count": null,
   "id": "0e8da072",
   "metadata": {},
   "outputs": [],
   "source": []
  },
  {
   "cell_type": "code",
   "execution_count": null,
   "id": "26a03c55",
   "metadata": {},
   "outputs": [],
   "source": []
  },
  {
   "cell_type": "code",
   "execution_count": null,
   "id": "d40e55a7",
   "metadata": {},
   "outputs": [],
   "source": []
  },
  {
   "cell_type": "code",
   "execution_count": 13,
   "id": "144e91f6",
   "metadata": {},
   "outputs": [],
   "source": [
    "b_data.to_csv('bus_data.csv', index=False)"
   ]
  },
  {
   "cell_type": "code",
   "execution_count": null,
   "id": "8625b888",
   "metadata": {},
   "outputs": [],
   "source": []
  }
 ],
 "metadata": {
  "kernelspec": {
   "display_name": "Python 3 (ipykernel)",
   "language": "python",
   "name": "python3"
  },
  "language_info": {
   "codemirror_mode": {
    "name": "ipython",
    "version": 3
   },
   "file_extension": ".py",
   "mimetype": "text/x-python",
   "name": "python",
   "nbconvert_exporter": "python",
   "pygments_lexer": "ipython3",
   "version": "3.9.12"
  },
  "varInspector": {
   "cols": {
    "lenName": 16,
    "lenType": 16,
    "lenVar": 40
   },
   "kernels_config": {
    "python": {
     "delete_cmd_postfix": "",
     "delete_cmd_prefix": "del ",
     "library": "var_list.py",
     "varRefreshCmd": "print(var_dic_list())"
    },
    "r": {
     "delete_cmd_postfix": ") ",
     "delete_cmd_prefix": "rm(",
     "library": "var_list.r",
     "varRefreshCmd": "cat(var_dic_list()) "
    }
   },
   "types_to_exclude": [
    "module",
    "function",
    "builtin_function_or_method",
    "instance",
    "_Feature"
   ],
   "window_display": false
  }
 },
 "nbformat": 4,
 "nbformat_minor": 5
}
