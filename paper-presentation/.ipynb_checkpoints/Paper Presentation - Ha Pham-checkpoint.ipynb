{
 "cells": [
  {
   "cell_type": "markdown",
   "id": "c5ba3095",
   "metadata": {
    "slideshow": {
     "slide_type": "slide"
    }
   },
   "source": [
    "# A Dynamic Discrete Choice Model with Harold Zurcher  in Rust (1987)\n",
    "## Presented by Ha Pham\n",
    "### AEM 7130 Spring 2023"
   ]
  },
  {
   "cell_type": "markdown",
   "id": "27b40d7f",
   "metadata": {
    "slideshow": {
     "slide_type": "slide"
    }
   },
   "source": [
    "# Introduction\n",
    "\n",
    "- A popular model for dynamic decisions\n",
    "\n",
    "\n"
   ]
  },
  {
   "cell_type": "markdown",
   "id": "244cf629",
   "metadata": {
    "slideshow": {
     "slide_type": "fragment"
    }
   },
   "source": [
    "- Widely applied in different fields including labor, IO,..."
   ]
  },
  {
   "cell_type": "markdown",
   "id": "b16a1e09",
   "metadata": {
    "slideshow": {
     "slide_type": "fragment"
    }
   },
   "source": [
    "- Weakness: cannot be applied in dynamic games (kinda)"
   ]
  },
  {
   "cell_type": "markdown",
   "id": "a76eaf05",
   "metadata": {
    "slideshow": {
     "slide_type": "slide"
    }
   },
   "source": [
    "# Overview\n",
    "- Model Setups \n",
    "- Applications\n",
    "- Implementation in Julia"
   ]
  },
  {
   "cell_type": "markdown",
   "id": "1b2597c0",
   "metadata": {
    "slideshow": {
     "slide_type": "slide"
    }
   },
   "source": [
    "# Model Background\n",
    "\n",
    "- Harold Zurcher is responsible for changing bus engines for Madison Metro in Madison, WI\n",
    "\n",
    "\n",
    " \n",
    "\n"
   ]
  },
  {
   "cell_type": "markdown",
   "id": "fb4e03e8",
   "metadata": {
    "slideshow": {
     "slide_type": "fragment"
    }
   },
   "source": [
    "- Bus engines inherently get older, which makes them more costly to maintain. "
   ]
  },
  {
   "cell_type": "markdown",
   "id": "fecb386f",
   "metadata": {
    "slideshow": {
     "slide_type": "fragment"
    }
   },
   "source": [
    "- Replacing the engine require an upfront fixed cost and \"reset\" the age"
   ]
  },
  {
   "cell_type": "markdown",
   "id": "e60ce245",
   "metadata": {
    "slideshow": {
     "slide_type": "fragment"
    }
   },
   "source": [
    "- This forms a dynamic trade-off: paying the fixed cost today for cheaper maintainance tomorrow or saving the fixed cost "
   ]
  },
  {
   "cell_type": "markdown",
   "id": "ade64006",
   "metadata": {
    "slideshow": {
     "slide_type": "slide"
    }
   },
   "source": [
    "# Model Setup\n",
    "- Time is discrete and infinite: $t = \\{ 1,2,3,...,\\infty\\}$"
   ]
  },
  {
   "cell_type": "markdown",
   "id": "74e2c44c",
   "metadata": {
    "slideshow": {
     "slide_type": "fragment"
    }
   },
   "source": [
    "- States are the discretized mileage of the engines: $s = \\{0,5000-10000,10000 -\\infty \\}$ "
   ]
  },
  {
   "cell_type": "markdown",
   "id": "211af3ef",
   "metadata": {
    "slideshow": {
     "slide_type": "fragment"
    }
   },
   "source": [
    "- Actions are discrete choices: $a = \\{0,1\\}$ where $0 = \\textit{not replace}$ and $1 = replace$ "
   ]
  },
  {
   "cell_type": "markdown",
   "id": "6d5bd4bf",
   "metadata": {
    "slideshow": {
     "slide_type": "fragment"
    }
   },
   "source": [
    "- Given the current state and action, the state will evolve according to a Markovian transtition probability matrix. \n",
    "- The entries of the matrix are: $p(s_{t+1} = s' | s_t = s, a_t = a)$\n",
    "\n"
   ]
  },
  {
   "cell_type": "markdown",
   "id": "d265e6cc",
   "metadata": {
    "slideshow": {
     "slide_type": "slide"
    }
   },
   "source": [
    "# Model Timing \n",
    "1. States are observed \n",
    "2. Shocks are observed by the agent, econometrician knows the distribution\n",
    "3. Choices are made (and observed) to maximize utility\n",
    "4. States evolves according to the transition rule\n",
    "5. Next period"
   ]
  },
  {
   "cell_type": "markdown",
   "id": "1f50b0ac",
   "metadata": {
    "slideshow": {
     "slide_type": "slide"
    }
   },
   "source": [
    "# Period Payoff\n",
    "Each period, the agent earns some profit based on the state and the action:\n",
    "\n",
    "<center>$\n",
    "\\begin{equation}\n",
    "\\pi(s_t, a_t) +  \\epsilon_{ta} = \n",
    "    \\begin{cases}\n",
    "        ... &\\text{if } a_t = 1 \\\\\n",
    "        ... &\\text{if } a_t = 0\n",
    "    \\end{cases}\n",
    "\\end{equation}\n",
    "$</center>\n"
   ]
  },
  {
   "cell_type": "code",
   "execution_count": null,
   "id": "ae907a95",
   "metadata": {
    "slideshow": {
     "slide_type": "fragment"
    }
   },
   "outputs": [],
   "source": [
    "function per_period_payoff(θ::Vector, s::Vector)::Matrix\n",
    "end"
   ]
  },
  {
   "cell_type": "markdown",
   "id": "c948624f",
   "metadata": {
    "slideshow": {
     "slide_type": "slide"
    }
   },
   "source": [
    "# Decision Problem\n",
    "Each period, the action will maximize the expected utility. The strategy $a(.,.)$ will solve the problem:\n",
    "\n",
    "<center>$ \\max_{a_t} E_t \\sum \\beta^{t-1} [\\pi(s_t, a_t) + \\epsilon_{ta}] $<center>\n",
    "    \n",
    "Define the value function:\n",
    "\n",
    "<center>$ \n",
    "\\begin{align}\n",
    "V(x_t) &= max E_{} ... \\\\\n",
    "       &= max (a_t = 1, a_t = 0)\n",
    "\\end{align}\n",
    "$<center>\n",
    "\n",
    "\n"
   ]
  },
  {
   "cell_type": "markdown",
   "id": "47f76366",
   "metadata": {
    "slideshow": {
     "slide_type": "slide"
    }
   },
   "source": [
    "# Assumptions\n",
    "- conditional expectation\n",
    "- logit errors\n"
   ]
  },
  {
   "cell_type": "markdown",
   "id": "a2202e60",
   "metadata": {
    "slideshow": {
     "slide_type": "slide"
    }
   },
   "source": [
    "# Choice-specific Value Functions\n",
    "Solve the model using Value Function Iteration to get the choice specific value function $V(x,0)$ and $V(x,1)$"
   ]
  },
  {
   "cell_type": "code",
   "execution_count": null,
   "id": "35b24891",
   "metadata": {
    "slideshow": {
     "slide_type": "fragment"
    }
   },
   "outputs": [],
   "source": [
    "function compute_Vbar(θ::Vector, λ::Float64, β::Float64, s::Vector)::Matrix\n",
    "end"
   ]
  },
  {
   "cell_type": "markdown",
   "id": "c1f67548",
   "metadata": {
    "slideshow": {
     "slide_type": "slide"
    }
   },
   "source": [
    "# Maximum Likelihood Estimator\n",
    "Use the choice-specific value function to get the conditional choice probability (CCP):\n",
    "\n",
    "<center> $  \n",
    "Prob(i_t | x_t; \\theta) = \\frac{...}{...}\n",
    "$ <center>\n",
    "    \n",
    "Use the CCP to get the likelihood function:\n",
    "    \n",
    "<center> $\n",
    "\\L = ...\n",
    "$<center"
   ]
  },
  {
   "cell_type": "markdown",
   "id": "6ac9f010",
   "metadata": {
    "slideshow": {
     "slide_type": "slide"
    }
   },
   "source": [
    "# Estimation Steps\n",
    "\n",
    "Now that have learned how to solve the model, how can we estimate the parameters from observed data? "
   ]
  },
  {
   "cell_type": "code",
   "execution_count": 2,
   "id": "37491dfd",
   "metadata": {
    "slideshow": {
     "slide_type": "fragment"
    }
   },
   "outputs": [
    {
     "data": {
      "text/html": [
       "<div><div style = \"float: left;\"><span>8260×2 DataFrame</span></div><div style = \"float: right;\"><span style = \"font-style: italic;\">8235 rows omitted</span></div><div style = \"clear: both;\"></div></div><div class = \"data-frame\" style = \"overflow-x: scroll;\"><table class = \"data-frame\" style = \"margin-bottom: 6px;\"><thead><tr class = \"header\"><th class = \"rowNumber\" style = \"font-weight: bold; text-align: right;\">Row</th><th style = \"text-align: left;\">state</th><th style = \"text-align: left;\">decision</th></tr><tr class = \"subheader headerLastRow\"><th class = \"rowNumber\" style = \"font-weight: bold; text-align: right;\"></th><th title = \"Float64\" style = \"text-align: left;\">Float64</th><th title = \"Float64\" style = \"text-align: left;\">Float64</th></tr></thead><tbody><tr><td class = \"rowNumber\" style = \"font-weight: bold; text-align: right;\">1</td><td style = \"text-align: right;\">0.0</td><td style = \"text-align: right;\">0.0</td></tr><tr><td class = \"rowNumber\" style = \"font-weight: bold; text-align: right;\">2</td><td style = \"text-align: right;\">0.0</td><td style = \"text-align: right;\">0.0</td></tr><tr><td class = \"rowNumber\" style = \"font-weight: bold; text-align: right;\">3</td><td style = \"text-align: right;\">1.0</td><td style = \"text-align: right;\">0.0</td></tr><tr><td class = \"rowNumber\" style = \"font-weight: bold; text-align: right;\">4</td><td style = \"text-align: right;\">2.0</td><td style = \"text-align: right;\">0.0</td></tr><tr><td class = \"rowNumber\" style = \"font-weight: bold; text-align: right;\">5</td><td style = \"text-align: right;\">3.0</td><td style = \"text-align: right;\">0.0</td></tr><tr><td class = \"rowNumber\" style = \"font-weight: bold; text-align: right;\">6</td><td style = \"text-align: right;\">4.0</td><td style = \"text-align: right;\">0.0</td></tr><tr><td class = \"rowNumber\" style = \"font-weight: bold; text-align: right;\">7</td><td style = \"text-align: right;\">5.0</td><td style = \"text-align: right;\">0.0</td></tr><tr><td class = \"rowNumber\" style = \"font-weight: bold; text-align: right;\">8</td><td style = \"text-align: right;\">5.0</td><td style = \"text-align: right;\">0.0</td></tr><tr><td class = \"rowNumber\" style = \"font-weight: bold; text-align: right;\">9</td><td style = \"text-align: right;\">6.0</td><td style = \"text-align: right;\">0.0</td></tr><tr><td class = \"rowNumber\" style = \"font-weight: bold; text-align: right;\">10</td><td style = \"text-align: right;\">7.0</td><td style = \"text-align: right;\">0.0</td></tr><tr><td class = \"rowNumber\" style = \"font-weight: bold; text-align: right;\">11</td><td style = \"text-align: right;\">8.0</td><td style = \"text-align: right;\">0.0</td></tr><tr><td class = \"rowNumber\" style = \"font-weight: bold; text-align: right;\">12</td><td style = \"text-align: right;\">9.0</td><td style = \"text-align: right;\">0.0</td></tr><tr><td class = \"rowNumber\" style = \"font-weight: bold; text-align: right;\">13</td><td style = \"text-align: right;\">10.0</td><td style = \"text-align: right;\">0.0</td></tr><tr><td style = \"text-align: right;\">&vellip;</td><td style = \"text-align: right;\">&vellip;</td><td style = \"text-align: right;\">&vellip;</td></tr><tr><td class = \"rowNumber\" style = \"font-weight: bold; text-align: right;\">8249</td><td style = \"text-align: right;\">65.0</td><td style = \"text-align: right;\">0.0</td></tr><tr><td class = \"rowNumber\" style = \"font-weight: bold; text-align: right;\">8250</td><td style = \"text-align: right;\">66.0</td><td style = \"text-align: right;\">0.0</td></tr><tr><td class = \"rowNumber\" style = \"font-weight: bold; text-align: right;\">8251</td><td style = \"text-align: right;\">66.0</td><td style = \"text-align: right;\">0.0</td></tr><tr><td class = \"rowNumber\" style = \"font-weight: bold; text-align: right;\">8252</td><td style = \"text-align: right;\">67.0</td><td style = \"text-align: right;\">0.0</td></tr><tr><td class = \"rowNumber\" style = \"font-weight: bold; text-align: right;\">8253</td><td style = \"text-align: right;\">67.0</td><td style = \"text-align: right;\">0.0</td></tr><tr><td class = \"rowNumber\" style = \"font-weight: bold; text-align: right;\">8254</td><td style = \"text-align: right;\">67.0</td><td style = \"text-align: right;\">0.0</td></tr><tr><td class = \"rowNumber\" style = \"font-weight: bold; text-align: right;\">8255</td><td style = \"text-align: right;\">68.0</td><td style = \"text-align: right;\">0.0</td></tr><tr><td class = \"rowNumber\" style = \"font-weight: bold; text-align: right;\">8256</td><td style = \"text-align: right;\">68.0</td><td style = \"text-align: right;\">0.0</td></tr><tr><td class = \"rowNumber\" style = \"font-weight: bold; text-align: right;\">8257</td><td style = \"text-align: right;\">68.0</td><td style = \"text-align: right;\">0.0</td></tr><tr><td class = \"rowNumber\" style = \"font-weight: bold; text-align: right;\">8258</td><td style = \"text-align: right;\">69.0</td><td style = \"text-align: right;\">0.0</td></tr><tr><td class = \"rowNumber\" style = \"font-weight: bold; text-align: right;\">8259</td><td style = \"text-align: right;\">69.0</td><td style = \"text-align: right;\">0.0</td></tr><tr><td class = \"rowNumber\" style = \"font-weight: bold; text-align: right;\">8260</td><td style = \"text-align: right;\">69.0</td><td style = \"text-align: right;\">0.0</td></tr></tbody></table></div>"
      ],
      "text/latex": [
       "\\begin{tabular}{r|cc}\n",
       "\t& state & decision\\\\\n",
       "\t\\hline\n",
       "\t& Float64 & Float64\\\\\n",
       "\t\\hline\n",
       "\t1 & 0.0 & 0.0 \\\\\n",
       "\t2 & 0.0 & 0.0 \\\\\n",
       "\t3 & 1.0 & 0.0 \\\\\n",
       "\t4 & 2.0 & 0.0 \\\\\n",
       "\t5 & 3.0 & 0.0 \\\\\n",
       "\t6 & 4.0 & 0.0 \\\\\n",
       "\t7 & 5.0 & 0.0 \\\\\n",
       "\t8 & 5.0 & 0.0 \\\\\n",
       "\t9 & 6.0 & 0.0 \\\\\n",
       "\t10 & 7.0 & 0.0 \\\\\n",
       "\t11 & 8.0 & 0.0 \\\\\n",
       "\t12 & 9.0 & 0.0 \\\\\n",
       "\t13 & 10.0 & 0.0 \\\\\n",
       "\t14 & 11.0 & 0.0 \\\\\n",
       "\t15 & 12.0 & 0.0 \\\\\n",
       "\t16 & 13.0 & 0.0 \\\\\n",
       "\t17 & 14.0 & 0.0 \\\\\n",
       "\t18 & 15.0 & 0.0 \\\\\n",
       "\t19 & 15.0 & 0.0 \\\\\n",
       "\t20 & 16.0 & 0.0 \\\\\n",
       "\t21 & 17.0 & 0.0 \\\\\n",
       "\t22 & 18.0 & 0.0 \\\\\n",
       "\t23 & 18.0 & 0.0 \\\\\n",
       "\t24 & 19.0 & 0.0 \\\\\n",
       "\t25 & 20.0 & 0.0 \\\\\n",
       "\t26 & 0.0 & 0.0 \\\\\n",
       "\t27 & 0.0 & 0.0 \\\\\n",
       "\t28 & 0.0 & 0.0 \\\\\n",
       "\t29 & 0.0 & 0.0 \\\\\n",
       "\t30 & 1.0 & 0.0 \\\\\n",
       "\t$\\dots$ & $\\dots$ & $\\dots$ \\\\\n",
       "\\end{tabular}\n"
      ],
      "text/plain": [
       "\u001b[1m8260×2 DataFrame\u001b[0m\n",
       "\u001b[1m  Row \u001b[0m│\u001b[1m state   \u001b[0m\u001b[1m decision \u001b[0m\n",
       "      │\u001b[90m Float64 \u001b[0m\u001b[90m Float64  \u001b[0m\n",
       "──────┼───────────────────\n",
       "    1 │     0.0       0.0\n",
       "    2 │     0.0       0.0\n",
       "    3 │     1.0       0.0\n",
       "    4 │     2.0       0.0\n",
       "    5 │     3.0       0.0\n",
       "    6 │     4.0       0.0\n",
       "    7 │     5.0       0.0\n",
       "    8 │     5.0       0.0\n",
       "    9 │     6.0       0.0\n",
       "   10 │     7.0       0.0\n",
       "   11 │     8.0       0.0\n",
       "  ⋮   │    ⋮        ⋮\n",
       " 8251 │    66.0       0.0\n",
       " 8252 │    67.0       0.0\n",
       " 8253 │    67.0       0.0\n",
       " 8254 │    67.0       0.0\n",
       " 8255 │    68.0       0.0\n",
       " 8256 │    68.0       0.0\n",
       " 8257 │    68.0       0.0\n",
       " 8258 │    69.0       0.0\n",
       " 8259 │    69.0       0.0\n",
       " 8260 │    69.0       0.0\n",
       "\u001b[36m         8239 rows omitted\u001b[0m"
      ]
     },
     "execution_count": 2,
     "metadata": {},
     "output_type": "execute_result"
    }
   ],
   "source": [
    "using CSV \n",
    "using DataFrames\n",
    "df = DataFrame(CSV.File(\"bus_data.csv\"))"
   ]
  },
  {
   "cell_type": "code",
   "execution_count": 3,
   "id": "8bab4480",
   "metadata": {},
   "outputs": [
    {
     "ename": "LoadError",
     "evalue": "ArgumentError: Package Zurcher not found in current path.\n- Run `import Pkg; Pkg.add(\"Zurcher\")` to install the Zurcher package.",
     "output_type": "error",
     "traceback": [
      "ArgumentError: Package Zurcher not found in current path.\n- Run `import Pkg; Pkg.add(\"Zurcher\")` to install the Zurcher package.",
      "",
      "Stacktrace:",
      " [1] macro expansion",
      "   @ .\\loading.jl:1163 [inlined]",
      " [2] macro expansion",
      "   @ .\\lock.jl:223 [inlined]",
      " [3] require(into::Module, mod::Symbol)",
      "   @ Base .\\loading.jl:1144"
     ]
    }
   ],
   "source": [
    "using Zurcher"
   ]
  },
  {
   "cell_type": "markdown",
   "id": "b779fa2e",
   "metadata": {
    "slideshow": {
     "slide_type": "slide"
    }
   },
   "source": [
    "# Step 1: Estimate the state transition rule \n",
    "The state transition rule can be directly estimated (nonparametrically) by the empirical distribution from the data."
   ]
  },
  {
   "cell_type": "code",
   "execution_count": 1,
   "id": "d63acbcf",
   "metadata": {},
   "outputs": [
    {
     "ename": "LoadError",
     "evalue": "UndefVarError: df not defined",
     "output_type": "error",
     "traceback": [
      "UndefVarError: df not defined",
      ""
     ]
    }
   ],
   "source": []
  },
  {
   "cell_type": "markdown",
   "id": "db44e04b",
   "metadata": {
    "slideshow": {
     "slide_type": "slide"
    }
   },
   "source": [
    "# Step 2: Compute Value Function given parameters (Inner Loop)"
   ]
  },
  {
   "cell_type": "markdown",
   "id": "e8b3b8cc",
   "metadata": {
    "slideshow": {
     "slide_type": "slide"
    }
   },
   "source": [
    "# Step 3: Searching for the parameters by ML (Outer Loop)"
   ]
  },
  {
   "cell_type": "markdown",
   "id": "fdb623e8",
   "metadata": {
    "slideshow": {
     "slide_type": "slide"
    }
   },
   "source": [
    "# Applications\n",
    "\n",
    "- IO:\n",
    "  - Investment Decision: Rust (1987), \n",
    "  - Innovation: Igami ()\n",
    " "
   ]
  },
  {
   "cell_type": "markdown",
   "id": "b0a4f696",
   "metadata": {
    "slideshow": {
     "slide_type": "subslide"
    }
   },
   "source": [
    "- Energy & Environmental:\n",
    "  - Eiseinberg ()\n",
    "  - Cullen (2013)"
   ]
  },
  {
   "cell_type": "markdown",
   "id": "bd9fd215",
   "metadata": {
    "slideshow": {
     "slide_type": "subslide"
    }
   },
   "source": [
    "- Labor:\n",
    "  - Rust ...\n",
    "  - ...."
   ]
  },
  {
   "cell_type": "markdown",
   "id": "800ef2cc",
   "metadata": {
    "slideshow": {
     "slide_type": "slide"
    }
   },
   "source": [
    "# Conclusion\n",
    "\n",
    "- Rust (1987) provides an estimation routine that is still widely used today\n",
    "- This is the basic model, there are several extensions to the model such as Hotz & Miller\n",
    "- "
   ]
  }
 ],
 "metadata": {
  "celltoolbar": "Slideshow",
  "kernelspec": {
   "display_name": "Julia 1.8.5",
   "language": "julia",
   "name": "julia-1.8"
  },
  "language_info": {
   "file_extension": ".jl",
   "mimetype": "application/julia",
   "name": "julia",
   "version": "1.8.5"
  },
  "varInspector": {
   "cols": {
    "lenName": 16,
    "lenType": 16,
    "lenVar": 40
   },
   "kernels_config": {
    "python": {
     "delete_cmd_postfix": "",
     "delete_cmd_prefix": "del ",
     "library": "var_list.py",
     "varRefreshCmd": "print(var_dic_list())"
    },
    "r": {
     "delete_cmd_postfix": ") ",
     "delete_cmd_prefix": "rm(",
     "library": "var_list.r",
     "varRefreshCmd": "cat(var_dic_list()) "
    }
   },
   "types_to_exclude": [
    "module",
    "function",
    "builtin_function_or_method",
    "instance",
    "_Feature"
   ],
   "window_display": false
  }
 },
 "nbformat": 4,
 "nbformat_minor": 5
}
