{
 "cells": [
  {
   "cell_type": "markdown",
   "id": "c5ba3095",
   "metadata": {
    "slideshow": {
     "slide_type": "slide"
    }
   },
   "source": [
    "# A Dynamic Discrete Choice Model with Harold Zurcher  in Rust (1987)\n",
    "## Presented by Ha Pham\n",
    "### AEM 7130 Spring 2023"
   ]
  },
  {
   "cell_type": "markdown",
   "id": "27b40d7f",
   "metadata": {
    "slideshow": {
     "slide_type": "slide"
    }
   },
   "source": [
    "# Introduction\n",
    "- A popular model for dynamic decisions\n",
    "- Widely applied in different fields including labor, IO,...\n"
   ]
  },
  {
   "cell_type": "markdown",
   "id": "a76eaf05",
   "metadata": {
    "slideshow": {
     "slide_type": "slide"
    }
   },
   "source": [
    "# Overview\n",
    "- Model Setups \n",
    "- Implementation in Julia\n",
    "- Applications"
   ]
  },
  {
   "cell_type": "markdown",
   "id": "1b2597c0",
   "metadata": {
    "slideshow": {
     "slide_type": "slide"
    }
   },
   "source": [
    "# Model Background\n",
    "\n",
    "- Harold Zurcher is responsible for changing bus engines for Madison Metro in Madison, WI\n",
    "- Bus engines inherently get older, which makes them more costly to maintain. \n",
    "- Replacing the engine require an upfront fixed cost and \"reset\" the age\n",
    "- This forms a dynamic trade-off: paying the fixed cost today for cheaper maintainance tomorrow or saving the fixed cost \n"
   ]
  },
  {
   "cell_type": "markdown",
   "id": "ade64006",
   "metadata": {
    "slideshow": {
     "slide_type": "slide"
    }
   },
   "source": [
    "# Model Setup\n",
    "- Time is discrete and infinite: $t = \\{ 1,2,3,...,\\infty\\}$\n",
    "- States are the discretized mileage of the engines: $s = \\{0,5000-10000,10000-15000,...\\} = \\{0,1,2,3,...\\}$ \n",
    "- Actions are discrete choices: $a_t = 1$ if replace and $0$ otherwise\n",
    "- If $a_t = 1, s_{t+1} = 0$ with probability 1.  \n",
    "- If $a_t = 0$, \n",
    "<center>$\\begin{equation}\n",
    "s_{t+1} =\n",
    "\\begin{cases}\n",
    "     & s_t + 0 \\text{ with probability } p\\\\\n",
    "     & s_t + 1 \\text{ with probability } q\\\\\n",
    "     & s_t + 2 \\text{ with probability } 1-p-q\\\\\n",
    "\\end{cases}\n",
    "\\end{equation}$<center>\n",
    "\n",
    "- Given the current state and action, the state will evolve according to a Markovian transtition probability matrix. \n",
    "- The entries of the matrix are: $p(s_{t+1} = s' | s_t = s, a_t = a)$\n"
   ]
  },
  {
   "cell_type": "markdown",
   "id": "d265e6cc",
   "metadata": {
    "slideshow": {
     "slide_type": "slide"
    }
   },
   "source": [
    "# Model Timing \n",
    "1. States (mileages) are observed \n",
    "2. Shocks are observed by the agent, econometrician knows only the distribution\n",
    "3. Choices are made (and observed) to maximize utility\n",
    "4. States evolves according to the transition rule\n",
    "5. Next period"
   ]
  },
  {
   "cell_type": "markdown",
   "id": "1f50b0ac",
   "metadata": {
    "slideshow": {
     "slide_type": "slide"
    }
   },
   "source": [
    "# Period Payoff\n",
    "Each period, the agent earns some profit based on the state and the action:\n",
    "\n",
    "<center>$ \\large\n",
    "\\begin{equation}\n",
    "\\pi(s_t, a_t) = \n",
    "        -\\theta*s_t - FC*a_t\n",
    "\\end{equation}\n",
    "$</center>\n"
   ]
  },
  {
   "cell_type": "code",
   "execution_count": 1,
   "id": "ae907a95",
   "metadata": {
    "hideCode": false,
    "hidePrompt": false,
    "slideshow": {
     "slide_type": "fragment"
    },
    "tags": [
     "hide_input"
    ]
   },
   "outputs": [
    {
     "data": {
      "text/plain": [
       "per_period_payoff (generic function with 1 method)"
      ]
     },
     "execution_count": 1,
     "metadata": {},
     "output_type": "execute_result"
    }
   ],
   "source": [
    "function per_period_payoff(θ::Vector, i::Float64, s::Vector)::Vector\n",
    "    \"\"\"\n",
    "    This function calculate the per period payoff given the state and action.\n",
    "\n",
    "    Input:\n",
    "    - θ: parameters in the cost function\n",
    "    - i: action \n",
    "    - s: vector of states (mileage)\n",
    "\n",
    "    Output:\n",
    "    - a matrix of payoff\n",
    "    \"\"\"\n",
    "    \n",
    "    profit = (-θ[1]*0.001 .* s) .- θ[2] .* i \n",
    "    return profit\n",
    "end"
   ]
  },
  {
   "cell_type": "markdown",
   "id": "c948624f",
   "metadata": {
    "slideshow": {
     "slide_type": "slide"
    }
   },
   "source": [
    "# Decision Problem\n",
    "Each period, the action will maximize the expected utility. The strategy $a(.,.)$ will solve the problem:\n",
    "\n",
    "<center>$ \\large \\max_{a_t} E_t \\sum \\beta^{t-1} [\\pi(s_t, a_t) + \\epsilon_{a}] $<center>\n",
    "    \n",
    "Define the value function:\n",
    "\n",
    "<center>$ \\large\n",
    "\\begin{align}\n",
    "V(x_t) &= \\max_{a_t} \\{ \\pi(s_t, a_t) + \\epsilon_{a} + \\beta E[V(s_t)|s_t, a_t, \\epsilon] \\} \\\\\n",
    "       &= \\max_{a_t} \\{ \\pi(s_t, a_t) + \\epsilon_{a} + \\beta \\int_S \\int_\\Omega V(s_t) p(s', \\epsilon' | s,a,\\epsilon) dx' d\\epsilon'] \\}\n",
    "\\end{align}\n",
    "$<center>\n",
    "\n",
    "\n"
   ]
  },
  {
   "cell_type": "markdown",
   "id": "47f76366",
   "metadata": {
    "slideshow": {
     "slide_type": "slide"
    }
   },
   "source": [
    "# Assumptions\n",
    "- Conditional independence: $p(s', \\epsilon' | s,a,\\epsilon) = q(\\epsilon'|s') \\cdot \\pi(s'|s,a)$\n",
    "- Distribution of $\\epsilon$ is extreme value Type I (logit errors)\n"
   ]
  },
  {
   "cell_type": "markdown",
   "id": "a2202e60",
   "metadata": {
    "slideshow": {
     "slide_type": "slide"
    }
   },
   "source": [
    "# Bellman Operator \n",
    "- After some algebra, the following Bellman Operator is reached:\n",
    "\n",
    "<center> $ \\large T(EV(s,a)) = \\sum_S log(exp[ \\pi(s',0) + \\beta EV(s',0) ] + exp[ \\pi(s',a) + \\beta EV(s',a) ])p(s'|s,a)$ <center>\n",
    "    \n",
    " "
   ]
  },
  {
   "cell_type": "code",
   "execution_count": 2,
   "id": "35b24891",
   "metadata": {
    "slideshow": {
     "slide_type": "fragment"
    }
   },
   "outputs": [
    {
     "data": {
      "text/plain": [
       "compute_Vbar (generic function with 1 method)"
      ]
     },
     "execution_count": 2,
     "metadata": {},
     "output_type": "execute_result"
    }
   ],
   "source": [
    "function compute_Vbar(θ::Vector, P::Matrix, β::Float64, \n",
    "                      tol::Float64, max_iter::Int64, print_flag::Bool)::Vector\n",
    "    \"\"\" compute choice-specific value function by VFI\n",
    "    Input: \n",
    "    - θ: vector of parameters in the payoff function\n",
    "    - P: the transition probability matrix \n",
    "    - β: discounted value\n",
    "    - tol: tolerance for VFI\n",
    "    - max_iter: maximum iterations for VFI\n",
    "    Output:\n",
    "    - a vector of value function for each state (mileage)\n",
    "    \"\"\"\n",
    "\n",
    "    # the state space \n",
    "    T = size(P)[1] # dimension\n",
    "    s = collect(1:T) # as an array\n",
    "\n",
    "    # initiate guess for the value function\n",
    "    EV = zeros(T)\n",
    "\n",
    "    # define the Bellman operator\n",
    "    function bellman(EV)\n",
    "        wait = per_period_payoff(θ, 0.0, s) .+ β*EV \n",
    "        s_replace = ones(Int64, T)\n",
    "        replace = per_period_payoff(θ, 1.0, s_replace) .+ β*EV[1]\n",
    "        M = max.(wait, replace)\n",
    "        EV_new = M .+ log.(exp.(wait .- M) .+ exp.(replace .- M))\n",
    "        EV_new = P * EV_new\n",
    "        return EV_new\n",
    "    end\n",
    "\n",
    "    # find the fixed point of the Bellman operator\n",
    "    error = 1000\n",
    "    iter = 0\n",
    "    \n",
    "    while error > tol\n",
    "        EV_new = bellman(EV)\n",
    "        error = maximum(abs.(EV_new - EV))\n",
    "        EV = EV_new\n",
    "        iter += 1\n",
    "        if iter > max_iter\n",
    "            println(\"Value Function Iteration failed, took too long..\")\n",
    "            break\n",
    "        end\n",
    "    end\n",
    "\n",
    "    # print output if print_flag is called\n",
    "    if print_flag == true \n",
    "        if iter <= max_iter\n",
    "            println(\"Value Function Iteration converged in $iter iterations.\")\n",
    "        end\n",
    "    end\n",
    "\n",
    "    # return the new EV\n",
    "    return EV\n",
    "end"
   ]
  },
  {
   "cell_type": "markdown",
   "id": "c1f67548",
   "metadata": {
    "slideshow": {
     "slide_type": "slide"
    }
   },
   "source": [
    "# Maximum Likelihood Estimator\n",
    "Use the choice-specific value function and the logit error assumption\n",
    "to get the conditional choice probability (CCP):\n",
    "\n",
    "<center> $  \\large\n",
    "Prob(a_t | s_t; \\theta) = \\frac{exp[\\pi(s,a) + \\beta EV(s,a)]}{exp[\\pi(s,0) + \\beta EV(s,0)] + exp[\\pi(s,1) + \\beta EV(s,1)]}\n",
    "$ <center>\n",
    "    \n",
    "Use the CCPs to get the log likelihood function. Use MLE to estimate the parameters in the payoff function, [$\\theta$, FC]:\n",
    "    \n",
    "<center> $\n",
    "\\large \\mathcal{L} = \\sum log(prob)\n",
    "$<center"
   ]
  },
  {
   "cell_type": "markdown",
   "id": "6ac9f010",
   "metadata": {
    "slideshow": {
     "slide_type": "slide"
    }
   },
   "source": [
    "# Estimation Steps\n",
    " "
   ]
  },
  {
   "cell_type": "code",
   "execution_count": 3,
   "id": "37491dfd",
   "metadata": {
    "hideOutput": true,
    "slideshow": {
     "slide_type": "fragment"
    }
   },
   "outputs": [
    {
     "data": {
      "text/html": [
       "<div><div style = \"float: left;\"><span>8260×4 DataFrame</span></div><div style = \"float: right;\"><span style = \"font-style: italic;\">8235 rows omitted</span></div><div style = \"clear: both;\"></div></div><div class = \"data-frame\" style = \"overflow-x: scroll;\"><table class = \"data-frame\" style = \"margin-bottom: 6px;\"><thead><tr class = \"header\"><th class = \"rowNumber\" style = \"font-weight: bold; text-align: right;\">Row</th><th style = \"text-align: left;\">state</th><th style = \"text-align: left;\">decision</th><th style = \"text-align: left;\">next_state</th><th style = \"text-align: left;\">change</th></tr><tr class = \"subheader headerLastRow\"><th class = \"rowNumber\" style = \"font-weight: bold; text-align: right;\"></th><th title = \"Int64\" style = \"text-align: left;\">Int64</th><th title = \"Float64\" style = \"text-align: left;\">Float64</th><th title = \"Union{Missing, Float64}\" style = \"text-align: left;\">Float64?</th><th title = \"Union{Missing, Float64}\" style = \"text-align: left;\">Float64?</th></tr></thead><tbody><tr><td class = \"rowNumber\" style = \"font-weight: bold; text-align: right;\">1</td><td style = \"text-align: right;\">0</td><td style = \"text-align: right;\">0.0</td><td style = \"text-align: right;\">0.0</td><td style = \"text-align: right;\">0.0</td></tr><tr><td class = \"rowNumber\" style = \"font-weight: bold; text-align: right;\">2</td><td style = \"text-align: right;\">0</td><td style = \"text-align: right;\">0.0</td><td style = \"text-align: right;\">1.0</td><td style = \"text-align: right;\">1.0</td></tr><tr><td class = \"rowNumber\" style = \"font-weight: bold; text-align: right;\">3</td><td style = \"text-align: right;\">1</td><td style = \"text-align: right;\">0.0</td><td style = \"text-align: right;\">2.0</td><td style = \"text-align: right;\">1.0</td></tr><tr><td class = \"rowNumber\" style = \"font-weight: bold; text-align: right;\">4</td><td style = \"text-align: right;\">2</td><td style = \"text-align: right;\">0.0</td><td style = \"text-align: right;\">3.0</td><td style = \"text-align: right;\">1.0</td></tr><tr><td class = \"rowNumber\" style = \"font-weight: bold; text-align: right;\">5</td><td style = \"text-align: right;\">3</td><td style = \"text-align: right;\">0.0</td><td style = \"text-align: right;\">4.0</td><td style = \"text-align: right;\">1.0</td></tr><tr><td class = \"rowNumber\" style = \"font-weight: bold; text-align: right;\">6</td><td style = \"text-align: right;\">4</td><td style = \"text-align: right;\">0.0</td><td style = \"text-align: right;\">5.0</td><td style = \"text-align: right;\">1.0</td></tr><tr><td class = \"rowNumber\" style = \"font-weight: bold; text-align: right;\">7</td><td style = \"text-align: right;\">5</td><td style = \"text-align: right;\">0.0</td><td style = \"text-align: right;\">5.0</td><td style = \"text-align: right;\">0.0</td></tr><tr><td class = \"rowNumber\" style = \"font-weight: bold; text-align: right;\">8</td><td style = \"text-align: right;\">5</td><td style = \"text-align: right;\">0.0</td><td style = \"text-align: right;\">6.0</td><td style = \"text-align: right;\">1.0</td></tr><tr><td class = \"rowNumber\" style = \"font-weight: bold; text-align: right;\">9</td><td style = \"text-align: right;\">6</td><td style = \"text-align: right;\">0.0</td><td style = \"text-align: right;\">7.0</td><td style = \"text-align: right;\">1.0</td></tr><tr><td class = \"rowNumber\" style = \"font-weight: bold; text-align: right;\">10</td><td style = \"text-align: right;\">7</td><td style = \"text-align: right;\">0.0</td><td style = \"text-align: right;\">8.0</td><td style = \"text-align: right;\">1.0</td></tr><tr><td class = \"rowNumber\" style = \"font-weight: bold; text-align: right;\">11</td><td style = \"text-align: right;\">8</td><td style = \"text-align: right;\">0.0</td><td style = \"text-align: right;\">9.0</td><td style = \"text-align: right;\">1.0</td></tr><tr><td class = \"rowNumber\" style = \"font-weight: bold; text-align: right;\">12</td><td style = \"text-align: right;\">9</td><td style = \"text-align: right;\">0.0</td><td style = \"text-align: right;\">10.0</td><td style = \"text-align: right;\">1.0</td></tr><tr><td class = \"rowNumber\" style = \"font-weight: bold; text-align: right;\">13</td><td style = \"text-align: right;\">10</td><td style = \"text-align: right;\">0.0</td><td style = \"text-align: right;\">11.0</td><td style = \"text-align: right;\">1.0</td></tr><tr><td style = \"text-align: right;\">&vellip;</td><td style = \"text-align: right;\">&vellip;</td><td style = \"text-align: right;\">&vellip;</td><td style = \"text-align: right;\">&vellip;</td><td style = \"text-align: right;\">&vellip;</td></tr><tr><td class = \"rowNumber\" style = \"font-weight: bold; text-align: right;\">8249</td><td style = \"text-align: right;\">65</td><td style = \"text-align: right;\">0.0</td><td style = \"text-align: right;\">66.0</td><td style = \"text-align: right;\">1.0</td></tr><tr><td class = \"rowNumber\" style = \"font-weight: bold; text-align: right;\">8250</td><td style = \"text-align: right;\">66</td><td style = \"text-align: right;\">0.0</td><td style = \"text-align: right;\">66.0</td><td style = \"text-align: right;\">0.0</td></tr><tr><td class = \"rowNumber\" style = \"font-weight: bold; text-align: right;\">8251</td><td style = \"text-align: right;\">66</td><td style = \"text-align: right;\">0.0</td><td style = \"text-align: right;\">67.0</td><td style = \"text-align: right;\">1.0</td></tr><tr><td class = \"rowNumber\" style = \"font-weight: bold; text-align: right;\">8252</td><td style = \"text-align: right;\">67</td><td style = \"text-align: right;\">0.0</td><td style = \"text-align: right;\">67.0</td><td style = \"text-align: right;\">0.0</td></tr><tr><td class = \"rowNumber\" style = \"font-weight: bold; text-align: right;\">8253</td><td style = \"text-align: right;\">67</td><td style = \"text-align: right;\">0.0</td><td style = \"text-align: right;\">67.0</td><td style = \"text-align: right;\">0.0</td></tr><tr><td class = \"rowNumber\" style = \"font-weight: bold; text-align: right;\">8254</td><td style = \"text-align: right;\">67</td><td style = \"text-align: right;\">0.0</td><td style = \"text-align: right;\">68.0</td><td style = \"text-align: right;\">1.0</td></tr><tr><td class = \"rowNumber\" style = \"font-weight: bold; text-align: right;\">8255</td><td style = \"text-align: right;\">68</td><td style = \"text-align: right;\">0.0</td><td style = \"text-align: right;\">68.0</td><td style = \"text-align: right;\">0.0</td></tr><tr><td class = \"rowNumber\" style = \"font-weight: bold; text-align: right;\">8256</td><td style = \"text-align: right;\">68</td><td style = \"text-align: right;\">0.0</td><td style = \"text-align: right;\">68.0</td><td style = \"text-align: right;\">0.0</td></tr><tr><td class = \"rowNumber\" style = \"font-weight: bold; text-align: right;\">8257</td><td style = \"text-align: right;\">68</td><td style = \"text-align: right;\">0.0</td><td style = \"text-align: right;\">69.0</td><td style = \"text-align: right;\">1.0</td></tr><tr><td class = \"rowNumber\" style = \"font-weight: bold; text-align: right;\">8258</td><td style = \"text-align: right;\">69</td><td style = \"text-align: right;\">0.0</td><td style = \"text-align: right;\">69.0</td><td style = \"text-align: right;\">0.0</td></tr><tr><td class = \"rowNumber\" style = \"font-weight: bold; text-align: right;\">8259</td><td style = \"text-align: right;\">69</td><td style = \"text-align: right;\">0.0</td><td style = \"text-align: right;\">69.0</td><td style = \"text-align: right;\">0.0</td></tr><tr><td class = \"rowNumber\" style = \"font-weight: bold; text-align: right;\">8260</td><td style = \"text-align: right;\">69</td><td style = \"text-align: right;\">0.0</td><td style = \"text-align: right;\">missing</td><td style = \"text-align: right;\">missing</td></tr></tbody></table></div>"
      ],
      "text/latex": [
       "\\begin{tabular}{r|cccc}\n",
       "\t& state & decision & next\\_state & change\\\\\n",
       "\t\\hline\n",
       "\t& Int64 & Float64 & Float64? & Float64?\\\\\n",
       "\t\\hline\n",
       "\t1 & 0 & 0.0 & 0.0 & 0.0 \\\\\n",
       "\t2 & 0 & 0.0 & 1.0 & 1.0 \\\\\n",
       "\t3 & 1 & 0.0 & 2.0 & 1.0 \\\\\n",
       "\t4 & 2 & 0.0 & 3.0 & 1.0 \\\\\n",
       "\t5 & 3 & 0.0 & 4.0 & 1.0 \\\\\n",
       "\t6 & 4 & 0.0 & 5.0 & 1.0 \\\\\n",
       "\t7 & 5 & 0.0 & 5.0 & 0.0 \\\\\n",
       "\t8 & 5 & 0.0 & 6.0 & 1.0 \\\\\n",
       "\t9 & 6 & 0.0 & 7.0 & 1.0 \\\\\n",
       "\t10 & 7 & 0.0 & 8.0 & 1.0 \\\\\n",
       "\t11 & 8 & 0.0 & 9.0 & 1.0 \\\\\n",
       "\t12 & 9 & 0.0 & 10.0 & 1.0 \\\\\n",
       "\t13 & 10 & 0.0 & 11.0 & 1.0 \\\\\n",
       "\t14 & 11 & 0.0 & 12.0 & 1.0 \\\\\n",
       "\t15 & 12 & 0.0 & 13.0 & 1.0 \\\\\n",
       "\t16 & 13 & 0.0 & 14.0 & 1.0 \\\\\n",
       "\t17 & 14 & 0.0 & 15.0 & 1.0 \\\\\n",
       "\t18 & 15 & 0.0 & 15.0 & 0.0 \\\\\n",
       "\t19 & 15 & 0.0 & 16.0 & 1.0 \\\\\n",
       "\t20 & 16 & 0.0 & 17.0 & 1.0 \\\\\n",
       "\t21 & 17 & 0.0 & 18.0 & 1.0 \\\\\n",
       "\t22 & 18 & 0.0 & 18.0 & 0.0 \\\\\n",
       "\t23 & 18 & 0.0 & 19.0 & 1.0 \\\\\n",
       "\t24 & 19 & 0.0 & 20.0 & 1.0 \\\\\n",
       "\t25 & 20 & 0.0 & 0.0 & -20.0 \\\\\n",
       "\t26 & 0 & 0.0 & 0.0 & 0.0 \\\\\n",
       "\t27 & 0 & 0.0 & 0.0 & 0.0 \\\\\n",
       "\t28 & 0 & 0.0 & 0.0 & 0.0 \\\\\n",
       "\t29 & 0 & 0.0 & 1.0 & 1.0 \\\\\n",
       "\t30 & 1 & 0.0 & 2.0 & 1.0 \\\\\n",
       "\t$\\dots$ & $\\dots$ & $\\dots$ & $\\dots$ & $\\dots$ \\\\\n",
       "\\end{tabular}\n"
      ],
      "text/plain": [
       "\u001b[1m8260×4 DataFrame\u001b[0m\n",
       "\u001b[1m  Row \u001b[0m│\u001b[1m state \u001b[0m\u001b[1m decision \u001b[0m\u001b[1m next_state \u001b[0m\u001b[1m change    \u001b[0m\n",
       "      │\u001b[90m Int64 \u001b[0m\u001b[90m Float64  \u001b[0m\u001b[90m Float64?   \u001b[0m\u001b[90m Float64?  \u001b[0m\n",
       "──────┼────────────────────────────────────────\n",
       "    1 │     0       0.0         0.0        0.0\n",
       "    2 │     0       0.0         1.0        1.0\n",
       "    3 │     1       0.0         2.0        1.0\n",
       "    4 │     2       0.0         3.0        1.0\n",
       "    5 │     3       0.0         4.0        1.0\n",
       "    6 │     4       0.0         5.0        1.0\n",
       "    7 │     5       0.0         5.0        0.0\n",
       "    8 │     5       0.0         6.0        1.0\n",
       "    9 │     6       0.0         7.0        1.0\n",
       "   10 │     7       0.0         8.0        1.0\n",
       "   11 │     8       0.0         9.0        1.0\n",
       "  ⋮   │   ⋮       ⋮          ⋮           ⋮\n",
       " 8251 │    66       0.0        67.0        1.0\n",
       " 8252 │    67       0.0        67.0        0.0\n",
       " 8253 │    67       0.0        67.0        0.0\n",
       " 8254 │    67       0.0        68.0        1.0\n",
       " 8255 │    68       0.0        68.0        0.0\n",
       " 8256 │    68       0.0        68.0        0.0\n",
       " 8257 │    68       0.0        69.0        1.0\n",
       " 8258 │    69       0.0        69.0        0.0\n",
       " 8259 │    69       0.0        69.0        0.0\n",
       " 8260 │    69       0.0 \u001b[90m  missing   \u001b[0m\u001b[90m missing   \u001b[0m\n",
       "\u001b[36m                              8239 rows omitted\u001b[0m"
      ]
     },
     "execution_count": 3,
     "metadata": {},
     "output_type": "execute_result"
    }
   ],
   "source": [
    "using CSV \n",
    "using DataFrames\n",
    "using Statistics\n",
    "using LinearAlgebra\n",
    "using Plots\n",
    "using Optim\n",
    "df = DataFrame(CSV.File(\"bus_data.csv\"))\n",
    "df.state = convert.(Int64, df.state)\n",
    "df"
   ]
  },
  {
   "cell_type": "markdown",
   "id": "b779fa2e",
   "metadata": {
    "slideshow": {
     "slide_type": "slide"
    }
   },
   "source": [
    "# Step 1: Estimate the state transition rule \n",
    "The state transition rule can be directly estimated by the empirical distribution from the data."
   ]
  },
  {
   "cell_type": "code",
   "execution_count": 4,
   "id": "d63acbcf",
   "metadata": {
    "slideshow": {
     "slide_type": "fragment"
    }
   },
   "outputs": [
    {
     "name": "stdout",
     "output_type": "stream",
     "text": [
      "Estimated (p,q) is (0.3500802370077768, 0.6383162572521911)"
     ]
    }
   ],
   "source": [
    "df = coalesce.(df, -1)\n",
    "N = length(df.change[df.change .>= 0.0])\n",
    "p = length(df.change[df.change .== 0.0]) / N\n",
    "q = length(df.change[df.change .== 1.0]) / N\n",
    "print(\"Estimated (p,q) is ($p, $q)\")"
   ]
  },
  {
   "cell_type": "markdown",
   "id": "4ce438c3",
   "metadata": {
    "slideshow": {
     "slide_type": "slide"
    }
   },
   "source": [
    "With the estimated probability $(p,q)$, we can generate the transition matrix:"
   ]
  },
  {
   "cell_type": "code",
   "execution_count": 5,
   "id": "ccfa818b",
   "metadata": {
    "slideshow": {
     "slide_type": "fragment"
    }
   },
   "outputs": [
    {
     "data": {
      "text/plain": [
       "transition_matrix (generic function with 1 method)"
      ]
     },
     "execution_count": 5,
     "metadata": {},
     "output_type": "execute_result"
    }
   ],
   "source": [
    "function transition_matrix(T::Int64, p::Float64, q::Float64)::Matrix\n",
    "\"\"\"\n",
    "This function create a transitional probability matrix based on estimated parameters\n",
    "\n",
    "Input:\n",
    "- p & q: estimated transition probabilities\n",
    "- T: dimension of state space\n",
    "\n",
    "Output:\n",
    "a TxT matrix\n",
    "\"\"\"\n",
    "    P = zeros(T,T)\n",
    "    P += diagm(0 => ones(T) .* p) \n",
    "    P += diagm(1 => ones(T-1) .* q)\n",
    "    P += diagm(2 => ones(T-2) .* (1-p-q))\n",
    "    P[1:end, end] += 1 .- sum(P, dims=2)\n",
    "return P\n",
    "end"
   ]
  },
  {
   "cell_type": "code",
   "execution_count": 6,
   "id": "fc5fa827",
   "metadata": {},
   "outputs": [
    {
     "data": {
      "text/plain": [
       "90×90 Matrix{Float64}:\n",
       " 0.35008  0.638316  0.0116035  0.0        …  0.0        0.0        0.0\n",
       " 0.0      0.35008   0.638316   0.0116035     0.0        0.0        0.0\n",
       " 0.0      0.0       0.35008    0.638316      0.0        0.0        0.0\n",
       " 0.0      0.0       0.0        0.35008       0.0        0.0        0.0\n",
       " 0.0      0.0       0.0        0.0           0.0        0.0        0.0\n",
       " 0.0      0.0       0.0        0.0        …  0.0        0.0        0.0\n",
       " 0.0      0.0       0.0        0.0           0.0        0.0        0.0\n",
       " 0.0      0.0       0.0        0.0           0.0        0.0        0.0\n",
       " 0.0      0.0       0.0        0.0           0.0        0.0        0.0\n",
       " 0.0      0.0       0.0        0.0           0.0        0.0        0.0\n",
       " 0.0      0.0       0.0        0.0        …  0.0        0.0        0.0\n",
       " 0.0      0.0       0.0        0.0           0.0        0.0        0.0\n",
       " 0.0      0.0       0.0        0.0           0.0        0.0        0.0\n",
       " ⋮                                        ⋱                        \n",
       " 0.0      0.0       0.0        0.0           0.0        0.0        0.0\n",
       " 0.0      0.0       0.0        0.0           0.0        0.0        0.0\n",
       " 0.0      0.0       0.0        0.0        …  0.0        0.0        0.0\n",
       " 0.0      0.0       0.0        0.0           0.0        0.0        0.0\n",
       " 0.0      0.0       0.0        0.0           0.0        0.0        0.0\n",
       " 0.0      0.0       0.0        0.0           0.0        0.0        0.0\n",
       " 0.0      0.0       0.0        0.0           0.0        0.0        0.0\n",
       " 0.0      0.0       0.0        0.0        …  0.0116035  0.0        0.0\n",
       " 0.0      0.0       0.0        0.0           0.638316   0.0116035  0.0\n",
       " 0.0      0.0       0.0        0.0           0.35008    0.638316   0.0116035\n",
       " 0.0      0.0       0.0        0.0           0.0        0.35008    0.64992\n",
       " 0.0      0.0       0.0        0.0           0.0        0.0        1.0"
      ]
     },
     "execution_count": 6,
     "metadata": {},
     "output_type": "execute_result"
    }
   ],
   "source": [
    "# test it out\n",
    "P = transition_matrix(90, p, q)\n",
    "P"
   ]
  },
  {
   "cell_type": "markdown",
   "id": "db44e04b",
   "metadata": {
    "slideshow": {
     "slide_type": "slide"
    }
   },
   "source": [
    "# Step 2: Compute Value Function given parameters (Inner Loop)"
   ]
  },
  {
   "cell_type": "code",
   "execution_count": 7,
   "id": "6bcf2707",
   "metadata": {},
   "outputs": [
    {
     "name": "stdout",
     "output_type": "stream",
     "text": [
      "Value Function Iteration converged in 48244 iterations.\n"
     ]
    },
    {
     "data": {
      "image/svg+xml": [
       "<?xml version=\"1.0\" encoding=\"utf-8\"?>\n",
       "<svg xmlns=\"http://www.w3.org/2000/svg\" xmlns:xlink=\"http://www.w3.org/1999/xlink\" width=\"600\" height=\"400\" viewBox=\"0 0 2400 1600\">\n",
       "<defs>\n",
       "  <clipPath id=\"clip570\">\n",
       "    <rect x=\"0\" y=\"0\" width=\"2400\" height=\"1600\"/>\n",
       "  </clipPath>\n",
       "</defs>\n",
       "<path clip-path=\"url(#clip570)\" d=\"M0 1600 L2400 1600 L2400 0 L0 0  Z\" fill=\"#ffffff\" fill-rule=\"evenodd\" fill-opacity=\"1\"/>\n",
       "<defs>\n",
       "  <clipPath id=\"clip571\">\n",
       "    <rect x=\"480\" y=\"0\" width=\"1681\" height=\"1600\"/>\n",
       "  </clipPath>\n",
       "</defs>\n",
       "<path clip-path=\"url(#clip570)\" d=\"M239.676 1423.18 L2352.76 1423.18 L2352.76 123.472 L239.676 123.472  Z\" fill=\"#ffffff\" fill-rule=\"evenodd\" fill-opacity=\"1\"/>\n",
       "<defs>\n",
       "  <clipPath id=\"clip572\">\n",
       "    <rect x=\"239\" y=\"123\" width=\"2114\" height=\"1301\"/>\n",
       "  </clipPath>\n",
       "</defs>\n",
       "<polyline clip-path=\"url(#clip572)\" style=\"stroke:#000000; stroke-linecap:round; stroke-linejoin:round; stroke-width:2; stroke-opacity:0.1; fill:none\" points=\"277.082,1423.18 277.082,123.472 \"/>\n",
       "<polyline clip-path=\"url(#clip572)\" style=\"stroke:#000000; stroke-linecap:round; stroke-linejoin:round; stroke-width:2; stroke-opacity:0.1; fill:none\" points=\"725.053,1423.18 725.053,123.472 \"/>\n",
       "<polyline clip-path=\"url(#clip572)\" style=\"stroke:#000000; stroke-linecap:round; stroke-linejoin:round; stroke-width:2; stroke-opacity:0.1; fill:none\" points=\"1173.02,1423.18 1173.02,123.472 \"/>\n",
       "<polyline clip-path=\"url(#clip572)\" style=\"stroke:#000000; stroke-linecap:round; stroke-linejoin:round; stroke-width:2; stroke-opacity:0.1; fill:none\" points=\"1621,1423.18 1621,123.472 \"/>\n",
       "<polyline clip-path=\"url(#clip572)\" style=\"stroke:#000000; stroke-linecap:round; stroke-linejoin:round; stroke-width:2; stroke-opacity:0.1; fill:none\" points=\"2068.97,1423.18 2068.97,123.472 \"/>\n",
       "<polyline clip-path=\"url(#clip570)\" style=\"stroke:#000000; stroke-linecap:round; stroke-linejoin:round; stroke-width:4; stroke-opacity:1; fill:none\" points=\"239.676,1423.18 2352.76,1423.18 \"/>\n",
       "<polyline clip-path=\"url(#clip570)\" style=\"stroke:#000000; stroke-linecap:round; stroke-linejoin:round; stroke-width:4; stroke-opacity:1; fill:none\" points=\"277.082,1423.18 277.082,1404.28 \"/>\n",
       "<polyline clip-path=\"url(#clip570)\" style=\"stroke:#000000; stroke-linecap:round; stroke-linejoin:round; stroke-width:4; stroke-opacity:1; fill:none\" points=\"725.053,1423.18 725.053,1404.28 \"/>\n",
       "<polyline clip-path=\"url(#clip570)\" style=\"stroke:#000000; stroke-linecap:round; stroke-linejoin:round; stroke-width:4; stroke-opacity:1; fill:none\" points=\"1173.02,1423.18 1173.02,1404.28 \"/>\n",
       "<polyline clip-path=\"url(#clip570)\" style=\"stroke:#000000; stroke-linecap:round; stroke-linejoin:round; stroke-width:4; stroke-opacity:1; fill:none\" points=\"1621,1423.18 1621,1404.28 \"/>\n",
       "<polyline clip-path=\"url(#clip570)\" style=\"stroke:#000000; stroke-linecap:round; stroke-linejoin:round; stroke-width:4; stroke-opacity:1; fill:none\" points=\"2068.97,1423.18 2068.97,1404.28 \"/>\n",
       "<path clip-path=\"url(#clip570)\" d=\"M277.082 1454.1 Q273.471 1454.1 271.642 1457.66 Q269.837 1461.2 269.837 1468.33 Q269.837 1475.44 271.642 1479.01 Q273.471 1482.55 277.082 1482.55 Q280.716 1482.55 282.522 1479.01 Q284.351 1475.44 284.351 1468.33 Q284.351 1461.2 282.522 1457.66 Q280.716 1454.1 277.082 1454.1 M277.082 1450.39 Q282.892 1450.39 285.948 1455 Q289.026 1459.58 289.026 1468.33 Q289.026 1477.06 285.948 1481.67 Q282.892 1486.25 277.082 1486.25 Q271.272 1486.25 268.193 1481.67 Q265.138 1477.06 265.138 1468.33 Q265.138 1459.58 268.193 1455 Q271.272 1450.39 277.082 1450.39 Z\" fill=\"#000000\" fill-rule=\"evenodd\" fill-opacity=\"1\" /><path clip-path=\"url(#clip570)\" d=\"M703.826 1481.64 L720.146 1481.64 L720.146 1485.58 L698.201 1485.58 L698.201 1481.64 Q700.863 1478.89 705.447 1474.26 Q710.053 1469.61 711.234 1468.27 Q713.479 1465.74 714.359 1464.01 Q715.262 1462.25 715.262 1460.56 Q715.262 1457.8 713.317 1456.07 Q711.396 1454.33 708.294 1454.33 Q706.095 1454.33 703.641 1455.09 Q701.211 1455.86 698.433 1457.41 L698.433 1452.69 Q701.257 1451.55 703.711 1450.97 Q706.164 1450.39 708.201 1450.39 Q713.572 1450.39 716.766 1453.08 Q719.961 1455.77 719.961 1460.26 Q719.961 1462.39 719.15 1464.31 Q718.363 1466.2 716.257 1468.8 Q715.678 1469.47 712.576 1472.69 Q709.474 1475.88 703.826 1481.64 Z\" fill=\"#000000\" fill-rule=\"evenodd\" fill-opacity=\"1\" /><path clip-path=\"url(#clip570)\" d=\"M739.96 1454.1 Q736.349 1454.1 734.521 1457.66 Q732.715 1461.2 732.715 1468.33 Q732.715 1475.44 734.521 1479.01 Q736.349 1482.55 739.96 1482.55 Q743.595 1482.55 745.4 1479.01 Q747.229 1475.44 747.229 1468.33 Q747.229 1461.2 745.4 1457.66 Q743.595 1454.1 739.96 1454.1 M739.96 1450.39 Q745.771 1450.39 748.826 1455 Q751.905 1459.58 751.905 1468.33 Q751.905 1477.06 748.826 1481.67 Q745.771 1486.25 739.96 1486.25 Q734.15 1486.25 731.072 1481.67 Q728.016 1477.06 728.016 1468.33 Q728.016 1459.58 731.072 1455 Q734.15 1450.39 739.96 1450.39 Z\" fill=\"#000000\" fill-rule=\"evenodd\" fill-opacity=\"1\" /><path clip-path=\"url(#clip570)\" d=\"M1161.2 1455.09 L1149.39 1473.54 L1161.2 1473.54 L1161.2 1455.09 M1159.97 1451.02 L1165.85 1451.02 L1165.85 1473.54 L1170.78 1473.54 L1170.78 1477.43 L1165.85 1477.43 L1165.85 1485.58 L1161.2 1485.58 L1161.2 1477.43 L1145.59 1477.43 L1145.59 1472.92 L1159.97 1451.02 Z\" fill=\"#000000\" fill-rule=\"evenodd\" fill-opacity=\"1\" /><path clip-path=\"url(#clip570)\" d=\"M1188.51 1454.1 Q1184.9 1454.1 1183.07 1457.66 Q1181.26 1461.2 1181.26 1468.33 Q1181.26 1475.44 1183.07 1479.01 Q1184.9 1482.55 1188.51 1482.55 Q1192.14 1482.55 1193.95 1479.01 Q1195.78 1475.44 1195.78 1468.33 Q1195.78 1461.2 1193.95 1457.66 Q1192.14 1454.1 1188.51 1454.1 M1188.51 1450.39 Q1194.32 1450.39 1197.38 1455 Q1200.45 1459.58 1200.45 1468.33 Q1200.45 1477.06 1197.38 1481.67 Q1194.32 1486.25 1188.51 1486.25 Q1182.7 1486.25 1179.62 1481.67 Q1176.57 1477.06 1176.57 1468.33 Q1176.57 1459.58 1179.62 1455 Q1182.7 1450.39 1188.51 1450.39 Z\" fill=\"#000000\" fill-rule=\"evenodd\" fill-opacity=\"1\" /><path clip-path=\"url(#clip570)\" d=\"M1606.4 1466.44 Q1603.25 1466.44 1601.4 1468.59 Q1599.57 1470.74 1599.57 1474.49 Q1599.57 1478.22 1601.4 1480.39 Q1603.25 1482.55 1606.4 1482.55 Q1609.55 1482.55 1611.38 1480.39 Q1613.23 1478.22 1613.23 1474.49 Q1613.23 1470.74 1611.38 1468.59 Q1609.55 1466.44 1606.4 1466.44 M1615.68 1451.78 L1615.68 1456.04 Q1613.92 1455.21 1612.12 1454.77 Q1610.34 1454.33 1608.58 1454.33 Q1603.95 1454.33 1601.49 1457.45 Q1599.06 1460.58 1598.72 1466.9 Q1600.08 1464.89 1602.14 1463.82 Q1604.2 1462.73 1606.68 1462.73 Q1611.89 1462.73 1614.9 1465.9 Q1617.93 1469.05 1617.93 1474.49 Q1617.93 1479.82 1614.78 1483.03 Q1611.63 1486.25 1606.4 1486.25 Q1600.41 1486.25 1597.23 1481.67 Q1594.06 1477.06 1594.06 1468.33 Q1594.06 1460.14 1597.95 1455.28 Q1601.84 1450.39 1608.39 1450.39 Q1610.15 1450.39 1611.93 1450.74 Q1613.74 1451.09 1615.68 1451.78 Z\" fill=\"#000000\" fill-rule=\"evenodd\" fill-opacity=\"1\" /><path clip-path=\"url(#clip570)\" d=\"M1635.98 1454.1 Q1632.37 1454.1 1630.54 1457.66 Q1628.74 1461.2 1628.74 1468.33 Q1628.74 1475.44 1630.54 1479.01 Q1632.37 1482.55 1635.98 1482.55 Q1639.62 1482.55 1641.42 1479.01 Q1643.25 1475.44 1643.25 1468.33 Q1643.25 1461.2 1641.42 1457.66 Q1639.62 1454.1 1635.98 1454.1 M1635.98 1450.39 Q1641.79 1450.39 1644.85 1455 Q1647.93 1459.58 1647.93 1468.33 Q1647.93 1477.06 1644.85 1481.67 Q1641.79 1486.25 1635.98 1486.25 Q1630.17 1486.25 1627.09 1481.67 Q1624.04 1477.06 1624.04 1468.33 Q1624.04 1459.58 1627.09 1455 Q1630.17 1450.39 1635.98 1450.39 Z\" fill=\"#000000\" fill-rule=\"evenodd\" fill-opacity=\"1\" /><path clip-path=\"url(#clip570)\" d=\"M2053.84 1469.17 Q2050.51 1469.17 2048.58 1470.95 Q2046.69 1472.73 2046.69 1475.86 Q2046.69 1478.98 2048.58 1480.77 Q2050.51 1482.55 2053.84 1482.55 Q2057.17 1482.55 2059.09 1480.77 Q2061.01 1478.96 2061.01 1475.86 Q2061.01 1472.73 2059.09 1470.95 Q2057.2 1469.17 2053.84 1469.17 M2049.16 1467.18 Q2046.15 1466.44 2044.46 1464.38 Q2042.8 1462.32 2042.8 1459.35 Q2042.8 1455.21 2045.74 1452.8 Q2048.7 1450.39 2053.84 1450.39 Q2059 1450.39 2061.94 1452.8 Q2064.88 1455.21 2064.88 1459.35 Q2064.88 1462.32 2063.19 1464.38 Q2061.52 1466.44 2058.54 1467.18 Q2061.92 1467.96 2063.79 1470.26 Q2065.69 1472.55 2065.69 1475.86 Q2065.69 1480.88 2062.61 1483.57 Q2059.56 1486.25 2053.84 1486.25 Q2048.12 1486.25 2045.04 1483.57 Q2041.99 1480.88 2041.99 1475.86 Q2041.99 1472.55 2043.89 1470.26 Q2045.78 1467.96 2049.16 1467.18 M2047.45 1459.79 Q2047.45 1462.48 2049.12 1463.98 Q2050.81 1465.49 2053.84 1465.49 Q2056.85 1465.49 2058.54 1463.98 Q2060.25 1462.48 2060.25 1459.79 Q2060.25 1457.11 2058.54 1455.6 Q2056.85 1454.1 2053.84 1454.1 Q2050.81 1454.1 2049.12 1455.6 Q2047.45 1457.11 2047.45 1459.79 Z\" fill=\"#000000\" fill-rule=\"evenodd\" fill-opacity=\"1\" /><path clip-path=\"url(#clip570)\" d=\"M2084 1454.1 Q2080.39 1454.1 2078.56 1457.66 Q2076.76 1461.2 2076.76 1468.33 Q2076.76 1475.44 2078.56 1479.01 Q2080.39 1482.55 2084 1482.55 Q2087.64 1482.55 2089.44 1479.01 Q2091.27 1475.44 2091.27 1468.33 Q2091.27 1461.2 2089.44 1457.66 Q2087.64 1454.1 2084 1454.1 M2084 1450.39 Q2089.81 1450.39 2092.87 1455 Q2095.95 1459.58 2095.95 1468.33 Q2095.95 1477.06 2092.87 1481.67 Q2089.81 1486.25 2084 1486.25 Q2078.19 1486.25 2075.11 1481.67 Q2072.06 1477.06 2072.06 1468.33 Q2072.06 1459.58 2075.11 1455 Q2078.19 1450.39 2084 1450.39 Z\" fill=\"#000000\" fill-rule=\"evenodd\" fill-opacity=\"1\" /><path clip-path=\"url(#clip570)\" d=\"M1174.15 1520.52 L1183.73 1520.52 L1195.86 1552.86 L1208.05 1520.52 L1217.63 1520.52 L1217.63 1568.04 L1211.36 1568.04 L1211.36 1526.32 L1199.11 1558.91 L1192.65 1558.91 L1180.39 1526.32 L1180.39 1568.04 L1174.15 1568.04 L1174.15 1520.52 Z\" fill=\"#000000\" fill-rule=\"evenodd\" fill-opacity=\"1\" /><path clip-path=\"url(#clip570)\" d=\"M1230.14 1532.4 L1236 1532.4 L1236 1568.04 L1230.14 1568.04 L1230.14 1532.4 M1230.14 1518.52 L1236 1518.52 L1236 1525.93 L1230.14 1525.93 L1230.14 1518.52 Z\" fill=\"#000000\" fill-rule=\"evenodd\" fill-opacity=\"1\" /><path clip-path=\"url(#clip570)\" d=\"M1248.25 1518.52 L1254.11 1518.52 L1254.11 1568.04 L1248.25 1568.04 L1248.25 1518.52 Z\" fill=\"#000000\" fill-rule=\"evenodd\" fill-opacity=\"1\" /><path clip-path=\"url(#clip570)\" d=\"M1296.85 1548.76 L1296.85 1551.62 L1269.93 1551.62 Q1270.31 1557.67 1273.55 1560.85 Q1276.83 1564 1282.66 1564 Q1286.03 1564 1289.18 1563.17 Q1292.36 1562.35 1295.48 1560.69 L1295.48 1566.23 Q1292.33 1567.57 1289.02 1568.27 Q1285.71 1568.97 1282.31 1568.97 Q1273.78 1568.97 1268.78 1564 Q1263.81 1559.04 1263.81 1550.57 Q1263.81 1541.82 1268.53 1536.69 Q1273.27 1531.54 1281.29 1531.54 Q1288.48 1531.54 1292.65 1536.18 Q1296.85 1540.8 1296.85 1548.76 M1291 1547.04 Q1290.93 1542.23 1288.29 1539.37 Q1285.68 1536.5 1281.35 1536.5 Q1276.45 1536.5 1273.49 1539.27 Q1270.56 1542.04 1270.12 1547.07 L1291 1547.04 Z\" fill=\"#000000\" fill-rule=\"evenodd\" fill-opacity=\"1\" /><path clip-path=\"url(#clip570)\" d=\"M1322.67 1550.12 Q1315.57 1550.12 1312.83 1551.75 Q1310.09 1553.37 1310.09 1557.29 Q1310.09 1560.4 1312.13 1562.25 Q1314.2 1564.07 1317.73 1564.07 Q1322.6 1564.07 1325.53 1560.63 Q1328.49 1557.16 1328.49 1551.43 L1328.49 1550.12 L1322.67 1550.12 M1334.35 1547.71 L1334.35 1568.04 L1328.49 1568.04 L1328.49 1562.63 Q1326.49 1565.88 1323.49 1567.44 Q1320.5 1568.97 1316.17 1568.97 Q1310.7 1568.97 1307.45 1565.91 Q1304.24 1562.82 1304.24 1557.67 Q1304.24 1551.65 1308.25 1548.6 Q1312.29 1545.54 1320.28 1545.54 L1328.49 1545.54 L1328.49 1544.97 Q1328.49 1540.93 1325.82 1538.73 Q1323.17 1536.5 1318.37 1536.5 Q1315.31 1536.5 1312.42 1537.23 Q1309.52 1537.97 1306.85 1539.43 L1306.85 1534.02 Q1310.06 1532.78 1313.09 1532.17 Q1316.11 1531.54 1318.97 1531.54 Q1326.71 1531.54 1330.53 1535.55 Q1334.35 1539.56 1334.35 1547.71 Z\" fill=\"#000000\" fill-rule=\"evenodd\" fill-opacity=\"1\" /><path clip-path=\"url(#clip570)\" d=\"M1369.87 1549.81 Q1369.87 1543.44 1367.23 1539.94 Q1364.62 1536.44 1359.87 1536.44 Q1355.16 1536.44 1352.52 1539.94 Q1349.91 1543.44 1349.91 1549.81 Q1349.91 1556.14 1352.52 1559.64 Q1355.16 1563.14 1359.87 1563.14 Q1364.62 1563.14 1367.23 1559.64 Q1369.87 1556.14 1369.87 1549.81 M1375.72 1563.62 Q1375.72 1572.72 1371.68 1577.15 Q1367.64 1581.6 1359.3 1581.6 Q1356.21 1581.6 1353.48 1581.13 Q1350.74 1580.68 1348.16 1579.72 L1348.16 1574.03 Q1350.74 1575.43 1353.25 1576.1 Q1355.77 1576.76 1358.38 1576.76 Q1364.14 1576.76 1367 1573.74 Q1369.87 1570.75 1369.87 1564.67 L1369.87 1561.77 Q1368.05 1564.92 1365.22 1566.48 Q1362.39 1568.04 1358.44 1568.04 Q1351.88 1568.04 1347.87 1563.05 Q1343.86 1558.05 1343.86 1549.81 Q1343.86 1541.53 1347.87 1536.53 Q1351.88 1531.54 1358.44 1531.54 Q1362.39 1531.54 1365.22 1533.1 Q1368.05 1534.66 1369.87 1537.81 L1369.87 1532.4 L1375.72 1532.4 L1375.72 1563.62 Z\" fill=\"#000000\" fill-rule=\"evenodd\" fill-opacity=\"1\" /><path clip-path=\"url(#clip570)\" d=\"M1418.28 1548.76 L1418.28 1551.62 L1391.35 1551.62 Q1391.73 1557.67 1394.98 1560.85 Q1398.26 1564 1404.08 1564 Q1407.46 1564 1410.61 1563.17 Q1413.79 1562.35 1416.91 1560.69 L1416.91 1566.23 Q1413.76 1567.57 1410.45 1568.27 Q1407.14 1568.97 1403.73 1568.97 Q1395.2 1568.97 1390.21 1564 Q1385.24 1559.04 1385.24 1550.57 Q1385.24 1541.82 1389.95 1536.69 Q1394.69 1531.54 1402.71 1531.54 Q1409.91 1531.54 1414.08 1536.18 Q1418.28 1540.8 1418.28 1548.76 M1412.42 1547.04 Q1412.36 1542.23 1409.72 1539.37 Q1407.11 1536.5 1402.78 1536.5 Q1397.88 1536.5 1394.92 1539.27 Q1391.99 1542.04 1391.54 1547.07 L1412.42 1547.04 Z\" fill=\"#000000\" fill-rule=\"evenodd\" fill-opacity=\"1\" /><polyline clip-path=\"url(#clip572)\" style=\"stroke:#000000; stroke-linecap:round; stroke-linejoin:round; stroke-width:2; stroke-opacity:0.1; fill:none\" points=\"239.676,1220.63 2352.76,1220.63 \"/>\n",
       "<polyline clip-path=\"url(#clip572)\" style=\"stroke:#000000; stroke-linecap:round; stroke-linejoin:round; stroke-width:2; stroke-opacity:0.1; fill:none\" points=\"239.676,868.073 2352.76,868.073 \"/>\n",
       "<polyline clip-path=\"url(#clip572)\" style=\"stroke:#000000; stroke-linecap:round; stroke-linejoin:round; stroke-width:2; stroke-opacity:0.1; fill:none\" points=\"239.676,515.511 2352.76,515.511 \"/>\n",
       "<polyline clip-path=\"url(#clip572)\" style=\"stroke:#000000; stroke-linecap:round; stroke-linejoin:round; stroke-width:2; stroke-opacity:0.1; fill:none\" points=\"239.676,162.95 2352.76,162.95 \"/>\n",
       "<polyline clip-path=\"url(#clip570)\" style=\"stroke:#000000; stroke-linecap:round; stroke-linejoin:round; stroke-width:4; stroke-opacity:1; fill:none\" points=\"239.676,1423.18 239.676,123.472 \"/>\n",
       "<polyline clip-path=\"url(#clip570)\" style=\"stroke:#000000; stroke-linecap:round; stroke-linejoin:round; stroke-width:4; stroke-opacity:1; fill:none\" points=\"239.676,1220.63 258.574,1220.63 \"/>\n",
       "<polyline clip-path=\"url(#clip570)\" style=\"stroke:#000000; stroke-linecap:round; stroke-linejoin:round; stroke-width:4; stroke-opacity:1; fill:none\" points=\"239.676,868.073 258.574,868.073 \"/>\n",
       "<polyline clip-path=\"url(#clip570)\" style=\"stroke:#000000; stroke-linecap:round; stroke-linejoin:round; stroke-width:4; stroke-opacity:1; fill:none\" points=\"239.676,515.511 258.574,515.511 \"/>\n",
       "<polyline clip-path=\"url(#clip570)\" style=\"stroke:#000000; stroke-linecap:round; stroke-linejoin:round; stroke-width:4; stroke-opacity:1; fill:none\" points=\"239.676,162.95 258.574,162.95 \"/>\n",
       "<path clip-path=\"url(#clip570)\" d=\"M51.3162 1221.09 L80.992 1221.09 L80.992 1225.02 L51.3162 1225.02 L51.3162 1221.09 Z\" fill=\"#000000\" fill-rule=\"evenodd\" fill-opacity=\"1\" /><path clip-path=\"url(#clip570)\" d=\"M91.8947 1233.98 L99.5335 1233.98 L99.5335 1207.61 L91.2234 1209.28 L91.2234 1205.02 L99.4872 1203.35 L104.163 1203.35 L104.163 1233.98 L111.802 1233.98 L111.802 1237.91 L91.8947 1237.91 L91.8947 1233.98 Z\" fill=\"#000000\" fill-rule=\"evenodd\" fill-opacity=\"1\" /><path clip-path=\"url(#clip570)\" d=\"M125.274 1233.98 L141.593 1233.98 L141.593 1237.91 L119.649 1237.91 L119.649 1233.98 Q122.311 1231.22 126.894 1226.6 Q131.501 1221.94 132.682 1220.6 Q134.927 1218.08 135.806 1216.34 Q136.709 1214.58 136.709 1212.89 Q136.709 1210.14 134.765 1208.4 Q132.844 1206.66 129.742 1206.66 Q127.543 1206.66 125.089 1207.43 Q122.658 1208.19 119.881 1209.74 L119.881 1205.02 Q122.705 1203.89 125.158 1203.31 Q127.612 1202.73 129.649 1202.73 Q135.019 1202.73 138.214 1205.41 Q141.408 1208.1 141.408 1212.59 Q141.408 1214.72 140.598 1216.64 Q139.811 1218.54 137.705 1221.13 Q137.126 1221.8 134.024 1225.02 Q130.922 1228.22 125.274 1233.98 Z\" fill=\"#000000\" fill-rule=\"evenodd\" fill-opacity=\"1\" /><path clip-path=\"url(#clip570)\" d=\"M165.575 1219.28 Q168.931 1220 170.806 1222.27 Q172.704 1224.54 172.704 1227.87 Q172.704 1232.98 169.186 1235.79 Q165.667 1238.59 159.186 1238.59 Q157.01 1238.59 154.695 1238.15 Q152.404 1237.73 149.95 1236.87 L149.95 1232.36 Q151.894 1233.49 154.209 1234.07 Q156.524 1234.65 159.047 1234.65 Q163.445 1234.65 165.737 1232.91 Q168.052 1231.18 168.052 1227.87 Q168.052 1224.81 165.899 1223.1 Q163.769 1221.36 159.95 1221.36 L155.922 1221.36 L155.922 1217.52 L160.135 1217.52 Q163.584 1217.52 165.413 1216.16 Q167.242 1214.77 167.242 1212.17 Q167.242 1209.51 165.343 1208.1 Q163.468 1206.66 159.95 1206.66 Q158.029 1206.66 155.83 1207.08 Q153.63 1207.5 150.992 1208.38 L150.992 1204.21 Q153.654 1203.47 155.968 1203.1 Q158.306 1202.73 160.367 1202.73 Q165.691 1202.73 168.792 1205.16 Q171.894 1207.57 171.894 1211.69 Q171.894 1214.56 170.251 1216.55 Q168.607 1218.52 165.575 1219.28 Z\" fill=\"#000000\" fill-rule=\"evenodd\" fill-opacity=\"1\" /><path clip-path=\"url(#clip570)\" d=\"M192.149 1218.77 Q189.001 1218.77 187.149 1220.92 Q185.32 1223.08 185.32 1226.83 Q185.32 1230.55 187.149 1232.73 Q189.001 1234.88 192.149 1234.88 Q195.297 1234.88 197.126 1232.73 Q198.977 1230.55 198.977 1226.83 Q198.977 1223.08 197.126 1220.92 Q195.297 1218.77 192.149 1218.77 M201.431 1204.12 L201.431 1208.38 Q199.672 1207.54 197.866 1207.1 Q196.084 1206.66 194.325 1206.66 Q189.695 1206.66 187.241 1209.79 Q184.811 1212.91 184.464 1219.23 Q185.829 1217.22 187.89 1216.16 Q189.95 1215.07 192.427 1215.07 Q197.635 1215.07 200.644 1218.24 Q203.676 1221.39 203.676 1226.83 Q203.676 1232.15 200.528 1235.37 Q197.38 1238.59 192.149 1238.59 Q186.153 1238.59 182.982 1234 Q179.811 1229.4 179.811 1220.67 Q179.811 1212.47 183.7 1207.61 Q187.589 1202.73 194.14 1202.73 Q195.899 1202.73 197.681 1203.08 Q199.487 1203.42 201.431 1204.12 Z\" fill=\"#000000\" fill-rule=\"evenodd\" fill-opacity=\"1\" /><path clip-path=\"url(#clip570)\" d=\"M50.9921 868.524 L80.6679 868.524 L80.6679 872.46 L50.9921 872.46 L50.9921 868.524 Z\" fill=\"#000000\" fill-rule=\"evenodd\" fill-opacity=\"1\" /><path clip-path=\"url(#clip570)\" d=\"M91.5706 881.418 L99.2095 881.418 L99.2095 855.052 L90.8993 856.719 L90.8993 852.46 L99.1632 850.793 L103.839 850.793 L103.839 881.418 L111.478 881.418 L111.478 885.353 L91.5706 885.353 L91.5706 881.418 Z\" fill=\"#000000\" fill-rule=\"evenodd\" fill-opacity=\"1\" /><path clip-path=\"url(#clip570)\" d=\"M124.95 881.418 L141.269 881.418 L141.269 885.353 L119.325 885.353 L119.325 881.418 Q121.987 878.663 126.57 874.034 Q131.177 869.381 132.357 868.038 Q134.603 865.515 135.482 863.779 Q136.385 862.02 136.385 860.33 Q136.385 857.575 134.441 855.839 Q132.519 854.103 129.418 854.103 Q127.219 854.103 124.765 854.867 Q122.334 855.631 119.557 857.182 L119.557 852.46 Q122.381 851.325 124.834 850.747 Q127.288 850.168 129.325 850.168 Q134.695 850.168 137.89 852.853 Q141.084 855.538 141.084 860.029 Q141.084 862.159 140.274 864.08 Q139.487 865.978 137.381 868.571 Q136.802 869.242 133.7 872.46 Q130.598 875.654 124.95 881.418 Z\" fill=\"#000000\" fill-rule=\"evenodd\" fill-opacity=\"1\" /><path clip-path=\"url(#clip570)\" d=\"M165.251 866.719 Q168.607 867.436 170.482 869.705 Q172.38 871.973 172.38 875.307 Q172.38 880.422 168.862 883.223 Q165.343 886.024 158.862 886.024 Q156.686 886.024 154.371 885.585 Q152.08 885.168 149.626 884.311 L149.626 879.798 Q151.57 880.932 153.885 881.51 Q156.2 882.089 158.723 882.089 Q163.121 882.089 165.413 880.353 Q167.728 878.617 167.728 875.307 Q167.728 872.251 165.575 870.538 Q163.445 868.802 159.626 868.802 L155.598 868.802 L155.598 864.96 L159.811 864.96 Q163.26 864.96 165.089 863.594 Q166.917 862.205 166.917 859.612 Q166.917 856.95 165.019 855.538 Q163.144 854.103 159.626 854.103 Q157.705 854.103 155.505 854.52 Q153.306 854.937 150.668 855.816 L150.668 851.65 Q153.33 850.909 155.644 850.538 Q157.982 850.168 160.042 850.168 Q165.367 850.168 168.468 852.599 Q171.57 855.006 171.57 859.126 Q171.57 861.997 169.927 863.987 Q168.283 865.955 165.251 866.719 Z\" fill=\"#000000\" fill-rule=\"evenodd\" fill-opacity=\"1\" /><path clip-path=\"url(#clip570)\" d=\"M194.093 854.867 L182.288 873.316 L194.093 873.316 L194.093 854.867 M192.866 850.793 L198.746 850.793 L198.746 873.316 L203.676 873.316 L203.676 877.205 L198.746 877.205 L198.746 885.353 L194.093 885.353 L194.093 877.205 L178.491 877.205 L178.491 872.691 L192.866 850.793 Z\" fill=\"#000000\" fill-rule=\"evenodd\" fill-opacity=\"1\" /><path clip-path=\"url(#clip570)\" d=\"M53.0754 515.963 L82.7512 515.963 L82.7512 519.898 L53.0754 519.898 L53.0754 515.963 Z\" fill=\"#000000\" fill-rule=\"evenodd\" fill-opacity=\"1\" /><path clip-path=\"url(#clip570)\" d=\"M93.6539 528.856 L101.293 528.856 L101.293 502.491 L92.9826 504.157 L92.9826 499.898 L101.246 498.231 L105.922 498.231 L105.922 528.856 L113.561 528.856 L113.561 532.791 L93.6539 532.791 L93.6539 528.856 Z\" fill=\"#000000\" fill-rule=\"evenodd\" fill-opacity=\"1\" /><path clip-path=\"url(#clip570)\" d=\"M127.033 528.856 L143.353 528.856 L143.353 532.791 L121.408 532.791 L121.408 528.856 Q124.07 526.102 128.654 521.472 Q133.26 516.819 134.441 515.477 Q136.686 512.954 137.566 511.217 Q138.469 509.458 138.469 507.768 Q138.469 505.014 136.524 503.278 Q134.603 501.542 131.501 501.542 Q129.302 501.542 126.848 502.305 Q124.418 503.069 121.64 504.62 L121.64 499.898 Q124.464 498.764 126.918 498.185 Q129.371 497.606 131.408 497.606 Q136.779 497.606 139.973 500.292 Q143.168 502.977 143.168 507.467 Q143.168 509.597 142.357 511.518 Q141.57 513.417 139.464 516.009 Q138.885 516.68 135.783 519.898 Q132.682 523.092 127.033 528.856 Z\" fill=\"#000000\" fill-rule=\"evenodd\" fill-opacity=\"1\" /><path clip-path=\"url(#clip570)\" d=\"M167.334 514.157 Q170.691 514.875 172.566 517.143 Q174.464 519.412 174.464 522.745 Q174.464 527.861 170.945 530.662 Q167.427 533.463 160.945 533.463 Q158.769 533.463 156.455 533.023 Q154.163 532.606 151.709 531.75 L151.709 527.236 Q153.654 528.37 155.968 528.949 Q158.283 529.528 160.806 529.528 Q165.204 529.528 167.496 527.791 Q169.811 526.055 169.811 522.745 Q169.811 519.69 167.658 517.977 Q165.529 516.241 161.709 516.241 L157.681 516.241 L157.681 512.398 L161.894 512.398 Q165.343 512.398 167.172 511.032 Q169.001 509.643 169.001 507.051 Q169.001 504.389 167.103 502.977 Q165.228 501.542 161.709 501.542 Q159.788 501.542 157.589 501.958 Q155.39 502.375 152.751 503.255 L152.751 499.088 Q155.413 498.347 157.728 497.977 Q160.066 497.606 162.126 497.606 Q167.45 497.606 170.552 500.037 Q173.654 502.444 173.654 506.565 Q173.654 509.435 172.01 511.426 Q170.366 513.393 167.334 514.157 Z\" fill=\"#000000\" fill-rule=\"evenodd\" fill-opacity=\"1\" /><path clip-path=\"url(#clip570)\" d=\"M187.357 528.856 L203.676 528.856 L203.676 532.791 L181.732 532.791 L181.732 528.856 Q184.394 526.102 188.977 521.472 Q193.584 516.819 194.765 515.477 Q197.01 512.954 197.889 511.217 Q198.792 509.458 198.792 507.768 Q198.792 505.014 196.848 503.278 Q194.927 501.542 191.825 501.542 Q189.626 501.542 187.172 502.305 Q184.741 503.069 181.964 504.62 L181.964 499.898 Q184.788 498.764 187.241 498.185 Q189.695 497.606 191.732 497.606 Q197.102 497.606 200.297 500.292 Q203.491 502.977 203.491 507.467 Q203.491 509.597 202.681 511.518 Q201.894 513.417 199.788 516.009 Q199.209 516.68 196.107 519.898 Q193.005 523.092 187.357 528.856 Z\" fill=\"#000000\" fill-rule=\"evenodd\" fill-opacity=\"1\" /><path clip-path=\"url(#clip570)\" d=\"M51.4782 163.401 L81.154 163.401 L81.154 167.336 L51.4782 167.336 L51.4782 163.401 Z\" fill=\"#000000\" fill-rule=\"evenodd\" fill-opacity=\"1\" /><path clip-path=\"url(#clip570)\" d=\"M92.0567 176.295 L99.6956 176.295 L99.6956 149.929 L91.3854 151.596 L91.3854 147.336 L99.6493 145.67 L104.325 145.67 L104.325 176.295 L111.964 176.295 L111.964 180.23 L92.0567 180.23 L92.0567 176.295 Z\" fill=\"#000000\" fill-rule=\"evenodd\" fill-opacity=\"1\" /><path clip-path=\"url(#clip570)\" d=\"M125.436 176.295 L141.756 176.295 L141.756 180.23 L119.811 180.23 L119.811 176.295 Q122.473 173.54 127.057 168.91 Q131.663 164.258 132.844 162.915 Q135.089 160.392 135.969 158.656 Q136.871 156.897 136.871 155.207 Q136.871 152.452 134.927 150.716 Q133.006 148.98 129.904 148.98 Q127.705 148.98 125.251 149.744 Q122.82 150.508 120.043 152.059 L120.043 147.336 Q122.867 146.202 125.32 145.624 Q127.774 145.045 129.811 145.045 Q135.181 145.045 138.376 147.73 Q141.57 150.415 141.57 154.906 Q141.57 157.035 140.76 158.957 Q139.973 160.855 137.867 163.447 Q137.288 164.119 134.186 167.336 Q131.084 170.531 125.436 176.295 Z\" fill=\"#000000\" fill-rule=\"evenodd\" fill-opacity=\"1\" /><path clip-path=\"url(#clip570)\" d=\"M165.737 161.596 Q169.093 162.313 170.968 164.582 Q172.866 166.85 172.866 170.184 Q172.866 175.299 169.348 178.1 Q165.829 180.901 159.348 180.901 Q157.172 180.901 154.857 180.461 Q152.566 180.045 150.112 179.188 L150.112 174.674 Q152.056 175.809 154.371 176.387 Q156.686 176.966 159.209 176.966 Q163.607 176.966 165.899 175.23 Q168.214 173.494 168.214 170.184 Q168.214 167.128 166.061 165.415 Q163.931 163.679 160.112 163.679 L156.084 163.679 L156.084 159.836 L160.297 159.836 Q163.746 159.836 165.575 158.471 Q167.404 157.082 167.404 154.489 Q167.404 151.827 165.505 150.415 Q163.63 148.98 160.112 148.98 Q158.191 148.98 155.992 149.397 Q153.793 149.813 151.154 150.693 L151.154 146.526 Q153.816 145.786 156.13 145.415 Q158.468 145.045 160.529 145.045 Q165.853 145.045 168.954 147.475 Q172.056 149.883 172.056 154.003 Q172.056 156.873 170.413 158.864 Q168.769 160.832 165.737 161.596 Z\" fill=\"#000000\" fill-rule=\"evenodd\" fill-opacity=\"1\" /><path clip-path=\"url(#clip570)\" d=\"M191.732 148.749 Q188.121 148.749 186.292 152.313 Q184.487 155.855 184.487 162.985 Q184.487 170.091 186.292 173.656 Q188.121 177.197 191.732 177.197 Q195.366 177.197 197.172 173.656 Q199.001 170.091 199.001 162.985 Q199.001 155.855 197.172 152.313 Q195.366 148.749 191.732 148.749 M191.732 145.045 Q197.542 145.045 200.598 149.651 Q203.676 154.235 203.676 162.985 Q203.676 171.711 200.598 176.318 Q197.542 180.901 191.732 180.901 Q185.922 180.901 182.843 176.318 Q179.788 171.711 179.788 162.985 Q179.788 154.235 182.843 149.651 Q185.922 145.045 191.732 145.045 Z\" fill=\"#000000\" fill-rule=\"evenodd\" fill-opacity=\"1\" /><path clip-path=\"url(#clip570)\" d=\"M1019.62 72.576 L996.53 12.096 L1005.08 12.096 L1024.24 63.0159 L1043.44 12.096 L1051.95 12.096 L1028.9 72.576 L1019.62 72.576 Z\" fill=\"#000000\" fill-rule=\"evenodd\" fill-opacity=\"1\" /><path clip-path=\"url(#clip570)\" d=\"M1074.63 49.7694 Q1065.6 49.7694 1062.11 51.8354 Q1058.63 53.9013 1058.63 58.8839 Q1058.63 62.8538 1061.22 65.2034 Q1063.86 67.5124 1068.35 67.5124 Q1074.55 67.5124 1078.28 63.1374 Q1082.04 58.7219 1082.04 51.4303 L1082.04 49.7694 L1074.63 49.7694 M1089.5 46.6907 L1089.5 72.576 L1082.04 72.576 L1082.04 65.6895 Q1079.49 69.8214 1075.68 71.8063 Q1071.88 73.7508 1066.37 73.7508 Q1059.4 73.7508 1055.27 69.8619 Q1051.18 65.9325 1051.18 59.3701 Q1051.18 51.7138 1056.28 47.825 Q1061.43 43.9361 1071.59 43.9361 L1082.04 43.9361 L1082.04 43.2069 Q1082.04 38.0623 1078.64 35.2672 Q1075.28 32.4315 1069.16 32.4315 Q1065.27 32.4315 1061.59 33.3632 Q1057.9 34.295 1054.5 36.1584 L1054.5 29.2718 Q1058.59 27.692 1062.44 26.9223 Q1066.29 26.1121 1069.93 26.1121 Q1079.78 26.1121 1084.64 31.2163 Q1089.5 36.3204 1089.5 46.6907 Z\" fill=\"#000000\" fill-rule=\"evenodd\" fill-opacity=\"1\" /><path clip-path=\"url(#clip570)\" d=\"M1104.85 9.54393 L1112.31 9.54393 L1112.31 72.576 L1104.85 72.576 L1104.85 9.54393 Z\" fill=\"#000000\" fill-rule=\"evenodd\" fill-opacity=\"1\" /><path clip-path=\"url(#clip570)\" d=\"M1127.13 54.671 L1127.13 27.2059 L1134.59 27.2059 L1134.59 54.3874 Q1134.59 60.8284 1137.1 64.0691 Q1139.61 67.2693 1144.63 67.2693 Q1150.67 67.2693 1154.15 63.421 Q1157.68 59.5726 1157.68 52.9291 L1157.68 27.2059 L1165.13 27.2059 L1165.13 72.576 L1157.68 72.576 L1157.68 65.6084 Q1154.96 69.7404 1151.36 71.7658 Q1147.79 73.7508 1143.05 73.7508 Q1135.23 73.7508 1131.18 68.8897 Q1127.13 64.0286 1127.13 54.671 M1145.89 26.1121 L1145.89 26.1121 Z\" fill=\"#000000\" fill-rule=\"evenodd\" fill-opacity=\"1\" /><path clip-path=\"url(#clip570)\" d=\"M1219.29 48.0275 L1219.29 51.6733 L1185.02 51.6733 Q1185.5 59.3701 1189.64 63.421 Q1193.81 67.4314 1201.22 67.4314 Q1205.52 67.4314 1209.53 66.3781 Q1213.58 65.3249 1217.55 63.2184 L1217.55 70.267 Q1213.54 71.9684 1209.32 72.8596 Q1205.11 73.7508 1200.78 73.7508 Q1189.92 73.7508 1183.56 67.4314 Q1177.24 61.1119 1177.24 50.3365 Q1177.24 39.1965 1183.24 32.6746 Q1189.27 26.1121 1199.48 26.1121 Q1208.64 26.1121 1213.94 32.0264 Q1219.29 37.9003 1219.29 48.0275 M1211.84 45.84 Q1211.75 39.7232 1208.39 36.0774 Q1205.07 32.4315 1199.56 32.4315 Q1193.32 32.4315 1189.56 35.9558 Q1185.83 39.4801 1185.26 45.8805 L1211.84 45.84 Z\" fill=\"#000000\" fill-rule=\"evenodd\" fill-opacity=\"1\" /><path clip-path=\"url(#clip570)\" d=\"M1258.22 12.096 L1292.98 12.096 L1292.98 18.9825 L1266.4 18.9825 L1266.4 36.8065 L1290.38 36.8065 L1290.38 43.6931 L1266.4 43.6931 L1266.4 72.576 L1258.22 72.576 L1258.22 12.096 Z\" fill=\"#000000\" fill-rule=\"evenodd\" fill-opacity=\"1\" /><path clip-path=\"url(#clip570)\" d=\"M1300.31 54.671 L1300.31 27.2059 L1307.76 27.2059 L1307.76 54.3874 Q1307.76 60.8284 1310.27 64.0691 Q1312.78 67.2693 1317.81 67.2693 Q1323.84 67.2693 1327.33 63.421 Q1330.85 59.5726 1330.85 52.9291 L1330.85 27.2059 L1338.31 27.2059 L1338.31 72.576 L1330.85 72.576 L1330.85 65.6084 Q1328.14 69.7404 1324.53 71.7658 Q1320.97 73.7508 1316.23 73.7508 Q1308.41 73.7508 1304.36 68.8897 Q1300.31 64.0286 1300.31 54.671 M1319.06 26.1121 L1319.06 26.1121 Z\" fill=\"#000000\" fill-rule=\"evenodd\" fill-opacity=\"1\" /><path clip-path=\"url(#clip570)\" d=\"M1391.37 45.1919 L1391.37 72.576 L1383.92 72.576 L1383.92 45.4349 Q1383.92 38.994 1381.41 35.7938 Q1378.9 32.5936 1373.87 32.5936 Q1367.84 32.5936 1364.35 36.4419 Q1360.87 40.2903 1360.87 46.9338 L1360.87 72.576 L1353.37 72.576 L1353.37 27.2059 L1360.87 27.2059 L1360.87 34.2544 Q1363.54 30.163 1367.15 28.1376 Q1370.79 26.1121 1375.53 26.1121 Q1383.35 26.1121 1387.36 30.9732 Q1391.37 35.7938 1391.37 45.1919 Z\" fill=\"#000000\" fill-rule=\"evenodd\" fill-opacity=\"1\" /><path clip-path=\"url(#clip570)\" d=\"M1438.89 28.9478 L1438.89 35.9153 Q1435.73 34.1734 1432.53 33.3227 Q1429.37 32.4315 1426.13 32.4315 Q1418.88 32.4315 1414.87 37.0496 Q1410.86 41.6271 1410.86 49.9314 Q1410.86 58.2358 1414.87 62.8538 Q1418.88 67.4314 1426.13 67.4314 Q1429.37 67.4314 1432.53 66.5807 Q1435.73 65.6895 1438.89 63.9476 L1438.89 70.8341 Q1435.77 72.2924 1432.41 73.0216 Q1429.09 73.7508 1425.32 73.7508 Q1415.07 73.7508 1409.03 67.3098 Q1403 60.8689 1403 49.9314 Q1403 38.832 1409.07 32.472 Q1415.19 26.1121 1425.8 26.1121 Q1429.25 26.1121 1432.53 26.8413 Q1435.81 27.5299 1438.89 28.9478 Z\" fill=\"#000000\" fill-rule=\"evenodd\" fill-opacity=\"1\" /><path clip-path=\"url(#clip570)\" d=\"M1459.22 14.324 L1459.22 27.2059 L1474.58 27.2059 L1474.58 32.9987 L1459.22 32.9987 L1459.22 57.6282 Q1459.22 63.1779 1460.72 64.7578 Q1462.26 66.3376 1466.92 66.3376 L1474.58 66.3376 L1474.58 72.576 L1466.92 72.576 Q1458.29 72.576 1455.01 69.3758 Q1451.73 66.1351 1451.73 57.6282 L1451.73 32.9987 L1446.26 32.9987 L1446.26 27.2059 L1451.73 27.2059 L1451.73 14.324 L1459.22 14.324 Z\" fill=\"#000000\" fill-rule=\"evenodd\" fill-opacity=\"1\" /><path clip-path=\"url(#clip570)\" d=\"M1484.38 27.2059 L1491.83 27.2059 L1491.83 72.576 L1484.38 72.576 L1484.38 27.2059 M1484.38 9.54393 L1491.83 9.54393 L1491.83 18.9825 L1484.38 18.9825 L1484.38 9.54393 Z\" fill=\"#000000\" fill-rule=\"evenodd\" fill-opacity=\"1\" /><path clip-path=\"url(#clip570)\" d=\"M1525.01 32.4315 Q1519.02 32.4315 1515.53 37.1306 Q1512.05 41.7891 1512.05 49.9314 Q1512.05 58.0738 1515.49 62.7728 Q1518.98 67.4314 1525.01 67.4314 Q1530.97 67.4314 1534.45 62.7323 Q1537.93 58.0333 1537.93 49.9314 Q1537.93 41.8701 1534.45 37.1711 Q1530.97 32.4315 1525.01 32.4315 M1525.01 26.1121 Q1534.73 26.1121 1540.28 32.4315 Q1545.83 38.7509 1545.83 49.9314 Q1545.83 61.0714 1540.28 67.4314 Q1534.73 73.7508 1525.01 73.7508 Q1515.25 73.7508 1509.7 67.4314 Q1504.19 61.0714 1504.19 49.9314 Q1504.19 38.7509 1509.7 32.4315 Q1515.25 26.1121 1525.01 26.1121 Z\" fill=\"#000000\" fill-rule=\"evenodd\" fill-opacity=\"1\" /><path clip-path=\"url(#clip570)\" d=\"M1595.9 45.1919 L1595.9 72.576 L1588.45 72.576 L1588.45 45.4349 Q1588.45 38.994 1585.94 35.7938 Q1583.43 32.5936 1578.4 32.5936 Q1572.37 32.5936 1568.88 36.4419 Q1565.4 40.2903 1565.4 46.9338 L1565.4 72.576 L1557.9 72.576 L1557.9 27.2059 L1565.4 27.2059 L1565.4 34.2544 Q1568.07 30.163 1571.68 28.1376 Q1575.32 26.1121 1580.06 26.1121 Q1587.88 26.1121 1591.89 30.9732 Q1595.9 35.7938 1595.9 45.1919 Z\" fill=\"#000000\" fill-rule=\"evenodd\" fill-opacity=\"1\" /><polyline clip-path=\"url(#clip572)\" style=\"stroke:#009af9; stroke-linecap:round; stroke-linejoin:round; stroke-width:12; stroke-opacity:1; fill:none\" points=\"299.481,160.256 321.879,192.44 344.278,224.098 366.676,255.231 389.075,285.839 411.473,315.924 433.872,345.485 456.27,374.524 478.669,403.041 501.068,431.037 523.466,458.514 545.865,485.473 568.263,511.916 590.662,537.843 613.06,563.257 635.459,588.16 657.857,612.554 680.256,636.442 702.655,659.826 725.053,682.71 747.452,705.096 769.85,726.989 792.249,748.392 814.647,769.309 837.046,789.744 859.444,809.703 881.843,829.19 904.242,848.211 926.64,866.771 949.039,884.876 971.437,902.533 993.836,919.747 1016.23,936.526 1038.63,952.875 1061.03,968.804 1083.43,984.318 1105.83,999.426 1128.23,1014.13 1150.63,1028.45 1173.02,1042.39 1195.42,1055.95 1217.82,1069.14 1240.22,1081.97 1262.62,1094.45 1285.02,1106.6 1307.42,1118.4 1329.81,1129.88 1352.21,1141.05 1374.61,1151.9 1397.01,1162.45 1419.41,1172.71 1441.81,1182.68 1464.21,1192.37 1486.6,1201.79 1509,1210.95 1531.4,1219.84 1553.8,1228.49 1576.2,1236.89 1598.6,1245.05 1621,1252.97 1643.39,1260.67 1665.79,1268.14 1688.19,1275.4 1710.59,1282.44 1732.99,1289.26 1755.39,1295.88 1777.79,1302.3 1800.18,1308.51 1822.58,1314.52 1844.98,1320.32 1867.38,1325.93 1889.78,1331.34 1912.18,1336.54 1934.57,1341.54 1956.97,1346.33 1979.37,1350.91 2001.77,1355.27 2024.17,1359.4 2046.57,1363.3 2068.97,1366.96 2091.36,1370.37 2113.76,1373.5 2136.16,1376.35 2158.56,1378.89 2180.96,1381.11 2203.36,1382.98 2225.76,1384.48 2248.15,1385.57 2270.55,1386.22 2292.95,1386.4 \"/>\n",
       "<path clip-path=\"url(#clip570)\" d=\"M2013.67 270.476 L2282.32 270.476 L2282.32 166.796 L2013.67 166.796  Z\" fill=\"#ffffff\" fill-rule=\"evenodd\" fill-opacity=\"1\"/>\n",
       "<polyline clip-path=\"url(#clip570)\" style=\"stroke:#000000; stroke-linecap:round; stroke-linejoin:round; stroke-width:4; stroke-opacity:1; fill:none\" points=\"2013.67,270.476 2282.32,270.476 2282.32,166.796 2013.67,166.796 2013.67,270.476 \"/>\n",
       "<polyline clip-path=\"url(#clip570)\" style=\"stroke:#009af9; stroke-linecap:round; stroke-linejoin:round; stroke-width:12; stroke-opacity:1; fill:none\" points=\"2037.15,218.636 2178.02,218.636 \"/>\n",
       "<path clip-path=\"url(#clip570)\" d=\"M2201.5 201.356 L2223.36 201.356 L2223.36 205.291 L2206.18 205.291 L2206.18 215.522 L2222.64 215.522 L2222.64 219.457 L2206.18 219.457 L2206.18 231.981 L2223.77 231.981 L2223.77 235.916 L2201.5 235.916 L2201.5 201.356 Z\" fill=\"#000000\" fill-rule=\"evenodd\" fill-opacity=\"1\" /><path clip-path=\"url(#clip570)\" d=\"M2240.37 235.916 L2227.17 201.356 L2232.06 201.356 L2243.01 230.453 L2253.98 201.356 L2258.84 201.356 L2245.67 235.916 L2240.37 235.916 Z\" fill=\"#000000\" fill-rule=\"evenodd\" fill-opacity=\"1\" /></svg>\n"
      ]
     },
     "execution_count": 7,
     "metadata": {},
     "output_type": "execute_result"
    }
   ],
   "source": [
    "EV = compute_Vbar([2.0, 10.0], P, 0.9999, 1e-3, 300000, true)\n",
    "x = 1:90\n",
    "plot(x, EV, title=\"Value Function\", label=\"EV\", linewidth=3, xlabel = \"Mileage\")"
   ]
  },
  {
   "cell_type": "markdown",
   "id": "e8b3b8cc",
   "metadata": {
    "slideshow": {
     "slide_type": "slide"
    }
   },
   "source": [
    "# Step 3: Searching for the parameters by ML (Outer Loop)"
   ]
  },
  {
   "cell_type": "code",
   "execution_count": 8,
   "id": "c923df2f",
   "metadata": {},
   "outputs": [
    {
     "data": {
      "text/plain": [
       "conditional_probability (generic function with 1 method)"
      ]
     },
     "execution_count": 8,
     "metadata": {},
     "output_type": "execute_result"
    }
   ],
   "source": [
    "function conditional_probability(θ::Vector, P::Matrix, β::Float64, \n",
    "                                 tol::Float64, max_iter::Int64, print_flag::Bool)::Tuple\n",
    "    \"\"\"\n",
    "    This function compute the conditional probability using the logit formula\n",
    "\n",
    "    Input:\n",
    "    - same as compute_Vbar()\n",
    "\n",
    "    Ouput:\n",
    "    - CCPs\n",
    "    \"\"\"\n",
    "    \n",
    "    # solve the model for the value function\n",
    "    EV = compute_Vbar(θ, P, β, tol, max_iter, print_flag)\n",
    "    \n",
    "    # calculate the CCPs\n",
    "    x = collect(1:90)\n",
    "    T = 90\n",
    "    wait = per_period_payoff(θ, 0.0, x) + β*EV\n",
    "    x_replace = ones(Int64, T)\n",
    "    replace = per_period_payoff(θ, 1.0, x_replace) .+ β*EV[1]\n",
    "    P_wait = 1 ./ (1 .+ (exp.(replace .- wait)))\n",
    "    P_replace = 1 .- P_wait\n",
    "\n",
    "    return P_wait, P_replace\n",
    "end"
   ]
  },
  {
   "cell_type": "code",
   "execution_count": 9,
   "id": "cd0df0e1",
   "metadata": {},
   "outputs": [
    {
     "data": {
      "text/plain": [
       "log_likelihood (generic function with 1 method)"
      ]
     },
     "execution_count": 9,
     "metadata": {},
     "output_type": "execute_result"
    }
   ],
   "source": [
    "function log_likelihood(θ::Vector, data::DataFrame, p::Float64, q::Float64,\n",
    "    β::Float64, tol::Float64, max_iter::Int64, print_flag::Bool)::Float64\n",
    "    \"\"\"\n",
    "    This function takes in the data and the guess of the parameters to go thru all the steps and calculate the log log_likelihood\n",
    "\n",
    "    Input:\n",
    "    - θ: parameters guesses  \n",
    "    - data: pairs of (state, action)\n",
    "    - (p,q): estimated transition conditional_probability\n",
    "    - β, tol, max_iter, print_flag: same as in compute_Vbar\n",
    "\n",
    "    Output:\n",
    "    - Log likelihood to be maximized\n",
    "    \"\"\"\n",
    "    if print_flag == true\n",
    "        println(\"Current parameters are $θ\")\n",
    "    end\n",
    "\n",
    "    # make the transition matrix\n",
    "    P = transition_matrix(90, p, q)\n",
    "    \n",
    "    # Solve the inner loop to get the CCPs\n",
    "    p_wait, p_replace = conditional_probability(θ, P, β, tol, max_iter, print_flag)\n",
    "    \n",
    "    # sum of all the log(prob) \n",
    "    log_likelihood = 0\n",
    "\n",
    "    # this loop looks very bad because I don't really know how to work with df in Julia..\n",
    "    for i in 1:size(df)[1]\n",
    "        if df.decision[i] == 0.0\n",
    "            log_likelihood += log(p_wait[df.state[i] + 1])\n",
    "        elseif df.decision[i] == 1.0\n",
    "            log_likelihood += log(p_replace[df.state[i] + 1])\n",
    "        end\n",
    "    end\n",
    "\n",
    "    \n",
    "    return -log_likelihood\n",
    "end"
   ]
  },
  {
   "cell_type": "code",
   "execution_count": 10,
   "id": "5886133d",
   "metadata": {},
   "outputs": [
    {
     "name": "stdout",
     "output_type": "stream",
     "text": [
      "100.378321 seconds (48.20 M allocations: 30.777 GiB, 11.90% gc time, 3.52% compilation time)\n"
     ]
    },
    {
     "data": {
      "text/plain": [
       " * Status: success\n",
       "\n",
       " * Candidate solution\n",
       "    Final objective value:     2.961049e+02\n",
       "\n",
       " * Found with\n",
       "    Algorithm:     Nelder-Mead\n",
       "\n",
       " * Convergence measures\n",
       "    √(Σ(yᵢ-ȳ)²)/n ≤ 1.0e-08\n",
       "\n",
       " * Work counters\n",
       "    Seconds run:   93  (vs limit Inf)\n",
       "    Iterations:    38\n",
       "    f(x) calls:    76\n"
      ]
     },
     "execution_count": 10,
     "metadata": {},
     "output_type": "execute_result"
    }
   ],
   "source": [
    "@time result = optimize(x -> log_likelihood(x, df, p, q, 0.9999, 1e-3, 300000, false), [1.0, 5.0])"
   ]
  },
  {
   "cell_type": "code",
   "execution_count": 16,
   "id": "eaa31590",
   "metadata": {},
   "outputs": [
    {
     "name": "stdout",
     "output_type": "stream",
     "text": [
      "Successfully optimized! Cost parameter is 2.616121255861131 and replacement cost is 9.89488656672712\n"
     ]
    }
   ],
   "source": [
    "cost_parameter = result.minimizer[1]\n",
    "replacement_cost = result.minimizer[2]\n",
    "println(\"Successfully optimized! Cost parameter is $cost_parameter and replacement cost is $replacement_cost\")"
   ]
  },
  {
   "cell_type": "markdown",
   "id": "5a221c6a",
   "metadata": {},
   "source": [
    "This is pretty close to groups 1,2,3,4 of table IX in Rust paper!\n",
    "![Rust Results](rust_result.png)\n"
   ]
  },
  {
   "cell_type": "markdown",
   "id": "fdb623e8",
   "metadata": {
    "slideshow": {
     "slide_type": "slide"
    }
   },
   "source": [
    "# Applications\n",
    "\n",
    "- IO:\n",
    "  - Investment Decision: Rust (1987)\n",
    "  - Innovation: Igami (2017)\n",
    "  - Cement Plant Retirement: Das (1992)\n",
    " "
   ]
  },
  {
   "cell_type": "markdown",
   "id": "b0a4f696",
   "metadata": {
    "slideshow": {
     "slide_type": "subslide"
    }
   },
   "source": [
    "- Energy & Environmental:\n",
    "  - Power Plant Capacity Investment: Eiseinberg (2019)\n",
    "  - Power Plant Operation Decision: Cullen (2013)"
   ]
  },
  {
   "cell_type": "markdown",
   "id": "bd9fd215",
   "metadata": {
    "slideshow": {
     "slide_type": "subslide"
    }
   },
   "source": [
    "- Labor:\n",
    "  - Retirement Behavior: Rust & Phelan (1997)\n",
    "  - Going to college decision: Keane & Wolpin (1997)\n",
    "  - "
   ]
  },
  {
   "cell_type": "markdown",
   "id": "800ef2cc",
   "metadata": {
    "slideshow": {
     "slide_type": "slide"
    }
   },
   "source": [
    "# Conclusion\n",
    "\n",
    "- Rust (1987) provides an estimation routine that is still widely used today\n",
    "- The model inspires many structural papers in different fields"
   ]
  }
 ],
 "metadata": {
  "celltoolbar": "Hide code",
  "kernelspec": {
   "display_name": "Julia 1.8.5",
   "language": "julia",
   "name": "julia-1.8"
  },
  "language_info": {
   "file_extension": ".jl",
   "mimetype": "application/julia",
   "name": "julia",
   "version": "1.8.5"
  },
  "varInspector": {
   "cols": {
    "lenName": 16,
    "lenType": 16,
    "lenVar": 40
   },
   "kernels_config": {
    "python": {
     "delete_cmd_postfix": "",
     "delete_cmd_prefix": "del ",
     "library": "var_list.py",
     "varRefreshCmd": "print(var_dic_list())"
    },
    "r": {
     "delete_cmd_postfix": ") ",
     "delete_cmd_prefix": "rm(",
     "library": "var_list.r",
     "varRefreshCmd": "cat(var_dic_list()) "
    }
   },
   "types_to_exclude": [
    "module",
    "function",
    "builtin_function_or_method",
    "instance",
    "_Feature"
   ],
   "window_display": false
  }
 },
 "nbformat": 4,
 "nbformat_minor": 5
}
